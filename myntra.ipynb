{
 "cells": [
  {
   "cell_type": "code",
   "execution_count": 1,
   "id": "f1a0f37a",
   "metadata": {},
   "outputs": [],
   "source": [
    "#libs\n",
    "import selenium\n",
    "import pandas as pd\n",
    "from selenium import webdriver\n",
    "import warnings\n",
    "warnings.filterwarnings(\"ignore\")\n",
    "import time\n",
    "\n",
    "#commands\n",
    "driver = webdriver.Chrome(r\"C:\\Users\\chromedriver.exe\")\n",
    "driver=webdriver.Chrome(\"chromedriver.exe\")\n",
    "time.sleep(2)\n",
    "driver.get('https://www.myntra.com/shoes')"
   ]
  },
  {
   "cell_type": "code",
   "execution_count": 2,
   "id": "ea38debc",
   "metadata": {},
   "outputs": [],
   "source": [
    "filter_check=driver.find_element_by_xpath('/html/body/div[2]/div/div[1]/main/div[3]/div[1]/section/div/div[5]/ul/li[3]/label')\n",
    "filter_check.click()"
   ]
  },
  {
   "cell_type": "code",
   "execution_count": 3,
   "id": "9a52c3fa",
   "metadata": {},
   "outputs": [],
   "source": [
    "filter_check=driver.find_element_by_xpath('/html/body/div[2]/div/div[1]/main/div[3]/div[1]/section/div/div[6]/ul/li[1]/label')\n",
    "filter_check.click()"
   ]
  },
  {
   "cell_type": "code",
   "execution_count": 4,
   "id": "6a4f3080",
   "metadata": {},
   "outputs": [],
   "source": [
    "Brands=[]\n",
    "Descriptions=[]\n",
    "prices=[]"
   ]
  },
  {
   "cell_type": "code",
   "execution_count": 5,
   "id": "7cd7fba5",
   "metadata": {},
   "outputs": [
    {
     "data": {
      "text/plain": [
       "[<selenium.webdriver.remote.webelement.WebElement (session=\"6fc72a7a7db5ec6caf9afa106503d835\", element=\"b97ed50f-cdaa-4d24-b179-8fb052631da0\")>,\n",
       " <selenium.webdriver.remote.webelement.WebElement (session=\"6fc72a7a7db5ec6caf9afa106503d835\", element=\"d23a4c3f-eee9-442d-8998-fa791c2b7e36\")>,\n",
       " <selenium.webdriver.remote.webelement.WebElement (session=\"6fc72a7a7db5ec6caf9afa106503d835\", element=\"c99beac5-c6c5-45af-9bc6-3249a5c9feff\")>,\n",
       " <selenium.webdriver.remote.webelement.WebElement (session=\"6fc72a7a7db5ec6caf9afa106503d835\", element=\"80e354ac-eb92-4496-bef1-59987c394151\")>,\n",
       " <selenium.webdriver.remote.webelement.WebElement (session=\"6fc72a7a7db5ec6caf9afa106503d835\", element=\"ce1b5664-7b49-49dc-a30f-fabcb5b0cf35\")>,\n",
       " <selenium.webdriver.remote.webelement.WebElement (session=\"6fc72a7a7db5ec6caf9afa106503d835\", element=\"4d070edc-0689-4962-9ea9-de718dd25bde\")>,\n",
       " <selenium.webdriver.remote.webelement.WebElement (session=\"6fc72a7a7db5ec6caf9afa106503d835\", element=\"ce88adfd-5ddf-43a1-a4a6-7bb2ba02c9e3\")>,\n",
       " <selenium.webdriver.remote.webelement.WebElement (session=\"6fc72a7a7db5ec6caf9afa106503d835\", element=\"e14d9d7d-bcad-41f4-8073-36fa2734d261\")>,\n",
       " <selenium.webdriver.remote.webelement.WebElement (session=\"6fc72a7a7db5ec6caf9afa106503d835\", element=\"342053b3-460b-4b9c-9de8-92b212d5f45b\")>,\n",
       " <selenium.webdriver.remote.webelement.WebElement (session=\"6fc72a7a7db5ec6caf9afa106503d835\", element=\"e637eb65-4e75-4426-bded-f676e6581eef\")>,\n",
       " <selenium.webdriver.remote.webelement.WebElement (session=\"6fc72a7a7db5ec6caf9afa106503d835\", element=\"7de78137-01f6-4ba1-b24b-800523ca94e0\")>,\n",
       " <selenium.webdriver.remote.webelement.WebElement (session=\"6fc72a7a7db5ec6caf9afa106503d835\", element=\"4236ce13-2d26-45ac-9703-7bf57a1af5a8\")>,\n",
       " <selenium.webdriver.remote.webelement.WebElement (session=\"6fc72a7a7db5ec6caf9afa106503d835\", element=\"9b4efbec-de1d-4b78-b9b5-eccf317c65b0\")>,\n",
       " <selenium.webdriver.remote.webelement.WebElement (session=\"6fc72a7a7db5ec6caf9afa106503d835\", element=\"b243b67d-c40d-47ee-894f-11ff96b526c7\")>,\n",
       " <selenium.webdriver.remote.webelement.WebElement (session=\"6fc72a7a7db5ec6caf9afa106503d835\", element=\"b82492ef-5b27-42e5-a9c8-19405063b419\")>,\n",
       " <selenium.webdriver.remote.webelement.WebElement (session=\"6fc72a7a7db5ec6caf9afa106503d835\", element=\"bd07078b-910c-42cf-b0cc-662780d8e2d9\")>,\n",
       " <selenium.webdriver.remote.webelement.WebElement (session=\"6fc72a7a7db5ec6caf9afa106503d835\", element=\"3de6a1b6-ba80-4875-af1b-d6f8a005c8f3\")>,\n",
       " <selenium.webdriver.remote.webelement.WebElement (session=\"6fc72a7a7db5ec6caf9afa106503d835\", element=\"72a7eeaa-c93b-46dc-a99f-1f29869cb02f\")>,\n",
       " <selenium.webdriver.remote.webelement.WebElement (session=\"6fc72a7a7db5ec6caf9afa106503d835\", element=\"01f81e59-54f6-453d-be70-1fc838d699df\")>,\n",
       " <selenium.webdriver.remote.webelement.WebElement (session=\"6fc72a7a7db5ec6caf9afa106503d835\", element=\"09edb90a-7277-46a8-8e52-392d83da9288\")>,\n",
       " <selenium.webdriver.remote.webelement.WebElement (session=\"6fc72a7a7db5ec6caf9afa106503d835\", element=\"4be1df80-cd37-43ee-853b-0319a285f0c3\")>,\n",
       " <selenium.webdriver.remote.webelement.WebElement (session=\"6fc72a7a7db5ec6caf9afa106503d835\", element=\"d6dade2d-3464-4681-8a30-7804e7515348\")>,\n",
       " <selenium.webdriver.remote.webelement.WebElement (session=\"6fc72a7a7db5ec6caf9afa106503d835\", element=\"20c98e3d-d742-45de-9c09-3091c701c8f4\")>,\n",
       " <selenium.webdriver.remote.webelement.WebElement (session=\"6fc72a7a7db5ec6caf9afa106503d835\", element=\"0d121867-c1f2-4ae9-868a-4ade6f323dd4\")>,\n",
       " <selenium.webdriver.remote.webelement.WebElement (session=\"6fc72a7a7db5ec6caf9afa106503d835\", element=\"54ee9b33-f89e-44fb-ab96-0cf09dde958b\")>,\n",
       " <selenium.webdriver.remote.webelement.WebElement (session=\"6fc72a7a7db5ec6caf9afa106503d835\", element=\"28b69ee9-fca0-45de-9a60-82ed116c58d5\")>,\n",
       " <selenium.webdriver.remote.webelement.WebElement (session=\"6fc72a7a7db5ec6caf9afa106503d835\", element=\"87c15361-33ca-46e0-9cba-6da8fdf5a1d0\")>,\n",
       " <selenium.webdriver.remote.webelement.WebElement (session=\"6fc72a7a7db5ec6caf9afa106503d835\", element=\"18710ba6-27a5-4578-a35f-9233e7670ff6\")>,\n",
       " <selenium.webdriver.remote.webelement.WebElement (session=\"6fc72a7a7db5ec6caf9afa106503d835\", element=\"4476848b-717b-497e-896f-568af3a99243\")>,\n",
       " <selenium.webdriver.remote.webelement.WebElement (session=\"6fc72a7a7db5ec6caf9afa106503d835\", element=\"7c309ab7-c20c-4773-af65-8a90ba7a3969\")>,\n",
       " <selenium.webdriver.remote.webelement.WebElement (session=\"6fc72a7a7db5ec6caf9afa106503d835\", element=\"68761c31-a296-48cd-8be1-f5be3af044be\")>,\n",
       " <selenium.webdriver.remote.webelement.WebElement (session=\"6fc72a7a7db5ec6caf9afa106503d835\", element=\"ae58d3c7-dca4-4da2-8596-2eec2d744293\")>,\n",
       " <selenium.webdriver.remote.webelement.WebElement (session=\"6fc72a7a7db5ec6caf9afa106503d835\", element=\"69013b71-92da-4a76-91a2-53a676c7712a\")>,\n",
       " <selenium.webdriver.remote.webelement.WebElement (session=\"6fc72a7a7db5ec6caf9afa106503d835\", element=\"962df48e-fbbc-4224-b901-985861e53417\")>,\n",
       " <selenium.webdriver.remote.webelement.WebElement (session=\"6fc72a7a7db5ec6caf9afa106503d835\", element=\"d8346647-a71d-49b3-8f7e-4ff5da18a9e3\")>,\n",
       " <selenium.webdriver.remote.webelement.WebElement (session=\"6fc72a7a7db5ec6caf9afa106503d835\", element=\"7e281ce8-8e2d-421b-b0ef-e6af554f8f8e\")>,\n",
       " <selenium.webdriver.remote.webelement.WebElement (session=\"6fc72a7a7db5ec6caf9afa106503d835\", element=\"441b2280-b67c-48aa-b66c-b955a239aae2\")>,\n",
       " <selenium.webdriver.remote.webelement.WebElement (session=\"6fc72a7a7db5ec6caf9afa106503d835\", element=\"8367f170-5985-4dce-a5ee-bb2f29c3b7ee\")>,\n",
       " <selenium.webdriver.remote.webelement.WebElement (session=\"6fc72a7a7db5ec6caf9afa106503d835\", element=\"b9a2cfa5-4209-4bfe-9e9f-765166fb7f7f\")>,\n",
       " <selenium.webdriver.remote.webelement.WebElement (session=\"6fc72a7a7db5ec6caf9afa106503d835\", element=\"6d0e1f4e-c062-4abc-8ac5-9ddeabbc545e\")>,\n",
       " <selenium.webdriver.remote.webelement.WebElement (session=\"6fc72a7a7db5ec6caf9afa106503d835\", element=\"dac63a90-04a8-4bfa-9725-d03aa0f99a3e\")>,\n",
       " <selenium.webdriver.remote.webelement.WebElement (session=\"6fc72a7a7db5ec6caf9afa106503d835\", element=\"79ee9208-15e2-4940-b038-fcee0359e40f\")>,\n",
       " <selenium.webdriver.remote.webelement.WebElement (session=\"6fc72a7a7db5ec6caf9afa106503d835\", element=\"b8bdedfc-896e-417a-85e2-f50a7e554585\")>,\n",
       " <selenium.webdriver.remote.webelement.WebElement (session=\"6fc72a7a7db5ec6caf9afa106503d835\", element=\"2d645e44-2cd0-48bd-a1e9-12da4cedf891\")>,\n",
       " <selenium.webdriver.remote.webelement.WebElement (session=\"6fc72a7a7db5ec6caf9afa106503d835\", element=\"3a58a7ab-9ca7-4092-83a4-72d070e57906\")>,\n",
       " <selenium.webdriver.remote.webelement.WebElement (session=\"6fc72a7a7db5ec6caf9afa106503d835\", element=\"51be65af-4e13-4fe7-bbf0-6ead83def4e4\")>,\n",
       " <selenium.webdriver.remote.webelement.WebElement (session=\"6fc72a7a7db5ec6caf9afa106503d835\", element=\"22eebbdf-c986-4842-abf1-baa7fd9599fb\")>,\n",
       " <selenium.webdriver.remote.webelement.WebElement (session=\"6fc72a7a7db5ec6caf9afa106503d835\", element=\"ad678857-775d-4cf2-aecd-2262c493b79e\")>,\n",
       " <selenium.webdriver.remote.webelement.WebElement (session=\"6fc72a7a7db5ec6caf9afa106503d835\", element=\"74d7bc9f-9fa6-4f68-af04-9f6413487e7b\")>,\n",
       " <selenium.webdriver.remote.webelement.WebElement (session=\"6fc72a7a7db5ec6caf9afa106503d835\", element=\"4d1c539d-6b40-4e6f-8d30-d56e58bbb6a3\")>]"
      ]
     },
     "execution_count": 5,
     "metadata": {},
     "output_type": "execute_result"
    }
   ],
   "source": [
    "Brands_tags=driver.find_elements_by_xpath(\"//h3[@class='product-brand']\")\n",
    "Brands_tags[0:100]"
   ]
  },
  {
   "cell_type": "code",
   "execution_count": 6,
   "id": "33260b06",
   "metadata": {},
   "outputs": [
    {
     "data": {
      "text/plain": [
       "['ALDO',\n",
       " 'ALDO',\n",
       " 'ALDO',\n",
       " 'ALDO',\n",
       " 'Nike',\n",
       " 'ADIDAS',\n",
       " 'Saint G',\n",
       " 'Saint G',\n",
       " 'ADIDAS Originals',\n",
       " 'ALDO',\n",
       " 'ALDO',\n",
       " 'Pavers England',\n",
       " 'Nike',\n",
       " 'Nike',\n",
       " 'ADIDAS',\n",
       " 'ADIDAS',\n",
       " 'ALDO',\n",
       " 'ASICS',\n",
       " 'Nike',\n",
       " 'Saint G',\n",
       " 'Saint G',\n",
       " 'Saint G',\n",
       " 'Saint G',\n",
       " 'Saint G',\n",
       " 'Saint G',\n",
       " 'Saint G',\n",
       " 'ADIDAS',\n",
       " 'Saint G',\n",
       " 'Saint G',\n",
       " 'Saint G',\n",
       " 'Saint G',\n",
       " 'Saint G',\n",
       " 'Saint G',\n",
       " 'Saint G',\n",
       " 'ALDO',\n",
       " 'ALDO',\n",
       " 'ALDO',\n",
       " 'ALDO',\n",
       " 'Saint G',\n",
       " 'Cole Haan',\n",
       " 'Cole Haan',\n",
       " 'ALDO',\n",
       " 'ADIDAS',\n",
       " 'ADIDAS',\n",
       " 'ASICS',\n",
       " 'ASICS',\n",
       " 'Birkenstock',\n",
       " 'ADIDAS Originals',\n",
       " 'Birkenstock',\n",
       " 'ROSSO BRUNELLO']"
      ]
     },
     "execution_count": 6,
     "metadata": {},
     "output_type": "execute_result"
    }
   ],
   "source": [
    "for i in Brands_tags:\n",
    "    Brand=i.text\n",
    "    Brands.append(Brand)\n",
    "Brands[0:100]"
   ]
  },
  {
   "cell_type": "code",
   "execution_count": 7,
   "id": "afca68af",
   "metadata": {},
   "outputs": [
    {
     "data": {
      "text/plain": [
       "[<selenium.webdriver.remote.webelement.WebElement (session=\"6fc72a7a7db5ec6caf9afa106503d835\", element=\"fbc79997-8d10-4781-86a7-2160712318e7\")>,\n",
       " <selenium.webdriver.remote.webelement.WebElement (session=\"6fc72a7a7db5ec6caf9afa106503d835\", element=\"bd168a4b-be2d-41b0-b2fc-5659c0a7a7f2\")>,\n",
       " <selenium.webdriver.remote.webelement.WebElement (session=\"6fc72a7a7db5ec6caf9afa106503d835\", element=\"11c778a8-4510-4683-b47d-593350f1ba64\")>,\n",
       " <selenium.webdriver.remote.webelement.WebElement (session=\"6fc72a7a7db5ec6caf9afa106503d835\", element=\"4bfd8f93-6468-4460-9d77-93db06faa57f\")>,\n",
       " <selenium.webdriver.remote.webelement.WebElement (session=\"6fc72a7a7db5ec6caf9afa106503d835\", element=\"a5044043-e387-4de3-b4b8-7324c80a6691\")>,\n",
       " <selenium.webdriver.remote.webelement.WebElement (session=\"6fc72a7a7db5ec6caf9afa106503d835\", element=\"3ddb251a-878f-4cde-ba02-11ee2fd3c7bf\")>,\n",
       " <selenium.webdriver.remote.webelement.WebElement (session=\"6fc72a7a7db5ec6caf9afa106503d835\", element=\"2cb94b91-5875-4151-b017-8c27e6e7389c\")>,\n",
       " <selenium.webdriver.remote.webelement.WebElement (session=\"6fc72a7a7db5ec6caf9afa106503d835\", element=\"d211934d-39c0-49e0-aaea-976737ceb9b6\")>,\n",
       " <selenium.webdriver.remote.webelement.WebElement (session=\"6fc72a7a7db5ec6caf9afa106503d835\", element=\"02c82f9c-4cab-4131-a76e-19c19d7cf189\")>,\n",
       " <selenium.webdriver.remote.webelement.WebElement (session=\"6fc72a7a7db5ec6caf9afa106503d835\", element=\"8f1e67bc-ed1a-491e-b153-e51dd7d1c4b5\")>,\n",
       " <selenium.webdriver.remote.webelement.WebElement (session=\"6fc72a7a7db5ec6caf9afa106503d835\", element=\"55a5383c-796b-4971-b5ee-6e423989f7a9\")>,\n",
       " <selenium.webdriver.remote.webelement.WebElement (session=\"6fc72a7a7db5ec6caf9afa106503d835\", element=\"c4314edb-edae-4b09-8348-6c1490cfbf04\")>,\n",
       " <selenium.webdriver.remote.webelement.WebElement (session=\"6fc72a7a7db5ec6caf9afa106503d835\", element=\"a0d70d07-9c89-45fd-a35f-36cf5f747a11\")>,\n",
       " <selenium.webdriver.remote.webelement.WebElement (session=\"6fc72a7a7db5ec6caf9afa106503d835\", element=\"44e93d74-5766-4b46-8a8d-73a9e6a0d943\")>,\n",
       " <selenium.webdriver.remote.webelement.WebElement (session=\"6fc72a7a7db5ec6caf9afa106503d835\", element=\"3f8c8d33-6577-4373-8632-0f836c7284b6\")>,\n",
       " <selenium.webdriver.remote.webelement.WebElement (session=\"6fc72a7a7db5ec6caf9afa106503d835\", element=\"ca748fdc-2fdb-4299-837a-71d12ff68ef9\")>,\n",
       " <selenium.webdriver.remote.webelement.WebElement (session=\"6fc72a7a7db5ec6caf9afa106503d835\", element=\"a04a3b75-f0b8-46af-a0b8-d683d95192eb\")>,\n",
       " <selenium.webdriver.remote.webelement.WebElement (session=\"6fc72a7a7db5ec6caf9afa106503d835\", element=\"8248f817-00ac-4bb1-b038-e6fb5993bf15\")>,\n",
       " <selenium.webdriver.remote.webelement.WebElement (session=\"6fc72a7a7db5ec6caf9afa106503d835\", element=\"c02ac19f-8c52-4a25-80f5-45893ab709fa\")>,\n",
       " <selenium.webdriver.remote.webelement.WebElement (session=\"6fc72a7a7db5ec6caf9afa106503d835\", element=\"7c60423b-45c3-4316-abb5-90bf866c689b\")>,\n",
       " <selenium.webdriver.remote.webelement.WebElement (session=\"6fc72a7a7db5ec6caf9afa106503d835\", element=\"18f2c023-3b35-4fad-9e76-902d0ec452c6\")>,\n",
       " <selenium.webdriver.remote.webelement.WebElement (session=\"6fc72a7a7db5ec6caf9afa106503d835\", element=\"b3299c67-fd46-405b-8b0c-13d0418b40c5\")>,\n",
       " <selenium.webdriver.remote.webelement.WebElement (session=\"6fc72a7a7db5ec6caf9afa106503d835\", element=\"09a0720b-9ec6-47e4-b6b9-070fc571afe6\")>,\n",
       " <selenium.webdriver.remote.webelement.WebElement (session=\"6fc72a7a7db5ec6caf9afa106503d835\", element=\"e35a39bb-29b3-4caa-ab90-0676acc7efc8\")>,\n",
       " <selenium.webdriver.remote.webelement.WebElement (session=\"6fc72a7a7db5ec6caf9afa106503d835\", element=\"d8dd6f2a-8698-43b9-87ea-ec2e89a4a78a\")>,\n",
       " <selenium.webdriver.remote.webelement.WebElement (session=\"6fc72a7a7db5ec6caf9afa106503d835\", element=\"ebf9ef46-379f-4599-95b1-a4b39a484bc7\")>,\n",
       " <selenium.webdriver.remote.webelement.WebElement (session=\"6fc72a7a7db5ec6caf9afa106503d835\", element=\"a527a214-4188-4918-8bc3-6476e8390396\")>,\n",
       " <selenium.webdriver.remote.webelement.WebElement (session=\"6fc72a7a7db5ec6caf9afa106503d835\", element=\"d9f93453-a80d-4d43-9632-c90d55031746\")>,\n",
       " <selenium.webdriver.remote.webelement.WebElement (session=\"6fc72a7a7db5ec6caf9afa106503d835\", element=\"75e01e31-4977-4530-bd15-007b3f178647\")>,\n",
       " <selenium.webdriver.remote.webelement.WebElement (session=\"6fc72a7a7db5ec6caf9afa106503d835\", element=\"85ddcfc6-e25c-498b-828f-ffd895e33aa5\")>,\n",
       " <selenium.webdriver.remote.webelement.WebElement (session=\"6fc72a7a7db5ec6caf9afa106503d835\", element=\"e3a76102-dc82-4665-a9cc-9d4a2b202fb9\")>,\n",
       " <selenium.webdriver.remote.webelement.WebElement (session=\"6fc72a7a7db5ec6caf9afa106503d835\", element=\"518faecb-2373-4442-8651-f9422c62d549\")>,\n",
       " <selenium.webdriver.remote.webelement.WebElement (session=\"6fc72a7a7db5ec6caf9afa106503d835\", element=\"924d443a-d958-4b35-9c3e-1d5044640458\")>,\n",
       " <selenium.webdriver.remote.webelement.WebElement (session=\"6fc72a7a7db5ec6caf9afa106503d835\", element=\"e004cb43-73fa-4cf1-9511-bde3e975e4a6\")>,\n",
       " <selenium.webdriver.remote.webelement.WebElement (session=\"6fc72a7a7db5ec6caf9afa106503d835\", element=\"8907be28-37ca-4a26-a2e1-8d24ac3b4077\")>,\n",
       " <selenium.webdriver.remote.webelement.WebElement (session=\"6fc72a7a7db5ec6caf9afa106503d835\", element=\"42cc0061-aacd-41e4-b326-980bbc80edbc\")>,\n",
       " <selenium.webdriver.remote.webelement.WebElement (session=\"6fc72a7a7db5ec6caf9afa106503d835\", element=\"49665032-616d-4e6b-80e9-f4fdb22848eb\")>,\n",
       " <selenium.webdriver.remote.webelement.WebElement (session=\"6fc72a7a7db5ec6caf9afa106503d835\", element=\"4d62c81c-5fc0-4421-9a5d-3456ca900b9c\")>,\n",
       " <selenium.webdriver.remote.webelement.WebElement (session=\"6fc72a7a7db5ec6caf9afa106503d835\", element=\"d571d734-30c3-4496-9de1-38ece68f616b\")>,\n",
       " <selenium.webdriver.remote.webelement.WebElement (session=\"6fc72a7a7db5ec6caf9afa106503d835\", element=\"88850932-1a4f-46d2-aff5-787786960b47\")>,\n",
       " <selenium.webdriver.remote.webelement.WebElement (session=\"6fc72a7a7db5ec6caf9afa106503d835\", element=\"e1fa669d-995c-43b2-99df-68f615ec5957\")>,\n",
       " <selenium.webdriver.remote.webelement.WebElement (session=\"6fc72a7a7db5ec6caf9afa106503d835\", element=\"fa4fb7ca-8959-42d3-8c61-b43f0ce84004\")>,\n",
       " <selenium.webdriver.remote.webelement.WebElement (session=\"6fc72a7a7db5ec6caf9afa106503d835\", element=\"851ca28f-08a3-49c9-8567-8ea58ee9b632\")>,\n",
       " <selenium.webdriver.remote.webelement.WebElement (session=\"6fc72a7a7db5ec6caf9afa106503d835\", element=\"b32047be-0d08-4dfd-8ec2-304cb3fa8422\")>,\n",
       " <selenium.webdriver.remote.webelement.WebElement (session=\"6fc72a7a7db5ec6caf9afa106503d835\", element=\"5d731506-cfac-4c57-a5ea-41051a1ce5bc\")>,\n",
       " <selenium.webdriver.remote.webelement.WebElement (session=\"6fc72a7a7db5ec6caf9afa106503d835\", element=\"b2c924f2-0be9-441c-b73f-198c2214b819\")>,\n",
       " <selenium.webdriver.remote.webelement.WebElement (session=\"6fc72a7a7db5ec6caf9afa106503d835\", element=\"1991e0e6-4746-4406-8090-0ca44789264b\")>,\n",
       " <selenium.webdriver.remote.webelement.WebElement (session=\"6fc72a7a7db5ec6caf9afa106503d835\", element=\"5ddf30de-222f-453a-91ba-b4c8c4d29400\")>,\n",
       " <selenium.webdriver.remote.webelement.WebElement (session=\"6fc72a7a7db5ec6caf9afa106503d835\", element=\"66aee528-b31b-410f-8bf3-c45fc7e9215b\")>,\n",
       " <selenium.webdriver.remote.webelement.WebElement (session=\"6fc72a7a7db5ec6caf9afa106503d835\", element=\"83ea0f57-a43e-4191-b525-47c294d23e54\")>]"
      ]
     },
     "execution_count": 7,
     "metadata": {},
     "output_type": "execute_result"
    }
   ],
   "source": [
    "Descriptions_tags=driver.find_elements_by_xpath(\"//h4[@class='product-product']\")\n",
    "Descriptions_tags[0:100]"
   ]
  },
  {
   "cell_type": "code",
   "execution_count": 8,
   "id": "134f3519",
   "metadata": {},
   "outputs": [
    {
     "data": {
      "text/plain": [
       "['Men Leather Loafers',\n",
       " 'Men Leather Loafers',\n",
       " 'Men Leather Loafers',\n",
       " 'Men Textured Leather Loafers',\n",
       " 'Men Air Max 97 Sneakers',\n",
       " 'Women Ultraboost 22 Running',\n",
       " 'Leather Wedge Heeled Boots with Buckles',\n",
       " 'Women Leather Heeled Boots',\n",
       " 'Women Nmd R1 Disney Sneakers',\n",
       " 'Men Leather Formal Derbys',\n",
       " 'Men Leather Formal Derbys',\n",
       " 'Men Woven Design Flat Boots',\n",
       " 'Men Air Max 2021 Sneakers',\n",
       " 'Men Basketball Shoes',\n",
       " 'Men Ultraboost 22 Running',\n",
       " 'Men Ultraboost 22 Running',\n",
       " 'Men Leather Horsebit Loafers',\n",
       " 'Women Running Shoes',\n",
       " 'Women Air Max 2021 Sneakers',\n",
       " 'Leather Heeled Knee High Boots',\n",
       " 'Leather Block Heeled Boots',\n",
       " 'Leather Knee High Boots',\n",
       " 'Leather Knee High Slouch Boots',\n",
       " 'Leather Above The Knee Boots',\n",
       " 'Women Leather Heeled Boots',\n",
       " 'Embellished Leather Flat Boots',\n",
       " 'Women Ultraboost Running Shoes',\n",
       " 'Leather Block Heeled Boots',\n",
       " 'Embroidered Pull On Calf Boots',\n",
       " 'Leather High-Top Block Heeled Boots',\n",
       " 'Women Leather Heeled Boots',\n",
       " 'Leather Block Heeled Boots',\n",
       " 'Leather Heeled Knee High Boots',\n",
       " 'Leather Heeled Knee High Boots',\n",
       " 'Men Leather Loafers',\n",
       " 'Men Solid Leather Formal Oxfords',\n",
       " 'Men Textured Leather Loafers',\n",
       " 'Men Embossed Derby Formal Shoes',\n",
       " 'Women Colourblocked Leather Sneakers',\n",
       " 'Men Formal Leather Brogues',\n",
       " 'Men Leather Formal Derby Shoes',\n",
       " 'Solid Leather Formal Oxfords',\n",
       " 'Men Ultraboost 22 Running',\n",
       " 'Women Ultraboost 22 Running',\n",
       " 'Men GEL-Kayano 28 Run Shoes',\n",
       " 'Men Running Shoes',\n",
       " 'Unisex Nubuck Leather Sneakers',\n",
       " 'Men NMD_R1 V3 Sneakers',\n",
       " 'Unisex Suede Sneakers',\n",
       " 'Men Solid Leather Oxfords']"
      ]
     },
     "execution_count": 8,
     "metadata": {},
     "output_type": "execute_result"
    }
   ],
   "source": [
    "for i in Descriptions_tags:\n",
    "    Description=i.text\n",
    "    Descriptions.append(Description)\n",
    "Descriptions[0:100]"
   ]
  },
  {
   "cell_type": "code",
   "execution_count": 9,
   "id": "5993fb53",
   "metadata": {},
   "outputs": [
    {
     "data": {
      "text/plain": [
       "[<selenium.webdriver.remote.webelement.WebElement (session=\"6fc72a7a7db5ec6caf9afa106503d835\", element=\"fd960adf-48c1-453f-a9f1-5ae592f8ff61\")>,\n",
       " <selenium.webdriver.remote.webelement.WebElement (session=\"6fc72a7a7db5ec6caf9afa106503d835\", element=\"e36ce336-de82-461b-8033-d9647f75a15e\")>,\n",
       " <selenium.webdriver.remote.webelement.WebElement (session=\"6fc72a7a7db5ec6caf9afa106503d835\", element=\"b87174ef-e70f-4efa-8077-197858d9f45c\")>,\n",
       " <selenium.webdriver.remote.webelement.WebElement (session=\"6fc72a7a7db5ec6caf9afa106503d835\", element=\"3ef38e0c-af24-4858-bb0a-7530e9db48c0\")>,\n",
       " <selenium.webdriver.remote.webelement.WebElement (session=\"6fc72a7a7db5ec6caf9afa106503d835\", element=\"d1cc0f70-61c6-47eb-9a3c-5b3322c667d2\")>,\n",
       " <selenium.webdriver.remote.webelement.WebElement (session=\"6fc72a7a7db5ec6caf9afa106503d835\", element=\"095bf955-01fb-420e-8d1f-0d970674feaa\")>,\n",
       " <selenium.webdriver.remote.webelement.WebElement (session=\"6fc72a7a7db5ec6caf9afa106503d835\", element=\"92cfe041-f91b-4722-9ed9-fdf8ecffa913\")>,\n",
       " <selenium.webdriver.remote.webelement.WebElement (session=\"6fc72a7a7db5ec6caf9afa106503d835\", element=\"4d966ef6-a7e3-4ffd-b8bd-e4f42e48af33\")>,\n",
       " <selenium.webdriver.remote.webelement.WebElement (session=\"6fc72a7a7db5ec6caf9afa106503d835\", element=\"f05de798-94ae-4bd6-a5c3-0eb99ee6c017\")>,\n",
       " <selenium.webdriver.remote.webelement.WebElement (session=\"6fc72a7a7db5ec6caf9afa106503d835\", element=\"2468c56f-162a-448f-a1b7-6321ffab6924\")>,\n",
       " <selenium.webdriver.remote.webelement.WebElement (session=\"6fc72a7a7db5ec6caf9afa106503d835\", element=\"5cf0f0a7-9a4f-4c5b-b2f3-e01073f6bdaa\")>,\n",
       " <selenium.webdriver.remote.webelement.WebElement (session=\"6fc72a7a7db5ec6caf9afa106503d835\", element=\"7d172816-f49e-4913-9231-704ca1dfb15c\")>,\n",
       " <selenium.webdriver.remote.webelement.WebElement (session=\"6fc72a7a7db5ec6caf9afa106503d835\", element=\"e1dcc3f9-441b-413a-b88f-454c1f5a4d88\")>,\n",
       " <selenium.webdriver.remote.webelement.WebElement (session=\"6fc72a7a7db5ec6caf9afa106503d835\", element=\"f9b0a31e-bdbb-478b-8e29-d9d7bc66d784\")>,\n",
       " <selenium.webdriver.remote.webelement.WebElement (session=\"6fc72a7a7db5ec6caf9afa106503d835\", element=\"7fe476d4-7509-4abe-aa35-19d90ad36de8\")>,\n",
       " <selenium.webdriver.remote.webelement.WebElement (session=\"6fc72a7a7db5ec6caf9afa106503d835\", element=\"04aa41b9-4e28-4664-a1d5-51978a10f715\")>,\n",
       " <selenium.webdriver.remote.webelement.WebElement (session=\"6fc72a7a7db5ec6caf9afa106503d835\", element=\"ee0c7d40-abbc-453b-9b07-5986bd0539f2\")>,\n",
       " <selenium.webdriver.remote.webelement.WebElement (session=\"6fc72a7a7db5ec6caf9afa106503d835\", element=\"1769c2fc-bc31-4c92-844f-1017e3df2ef6\")>,\n",
       " <selenium.webdriver.remote.webelement.WebElement (session=\"6fc72a7a7db5ec6caf9afa106503d835\", element=\"25a7e82c-780f-4ef5-8e63-1ff859de88ed\")>,\n",
       " <selenium.webdriver.remote.webelement.WebElement (session=\"6fc72a7a7db5ec6caf9afa106503d835\", element=\"8022d4f4-ab24-4a9a-a610-457879887a97\")>,\n",
       " <selenium.webdriver.remote.webelement.WebElement (session=\"6fc72a7a7db5ec6caf9afa106503d835\", element=\"0e08e39f-504f-4a53-9f02-3633649a5522\")>,\n",
       " <selenium.webdriver.remote.webelement.WebElement (session=\"6fc72a7a7db5ec6caf9afa106503d835\", element=\"83b71092-adaa-4aea-873d-e617e4780cb4\")>,\n",
       " <selenium.webdriver.remote.webelement.WebElement (session=\"6fc72a7a7db5ec6caf9afa106503d835\", element=\"8f5f9809-42ad-45af-a6c8-037801985825\")>,\n",
       " <selenium.webdriver.remote.webelement.WebElement (session=\"6fc72a7a7db5ec6caf9afa106503d835\", element=\"7832ed23-c197-44d1-a918-b0aea910d164\")>,\n",
       " <selenium.webdriver.remote.webelement.WebElement (session=\"6fc72a7a7db5ec6caf9afa106503d835\", element=\"a26d9a05-fd77-425d-8087-afa72755ba3f\")>,\n",
       " <selenium.webdriver.remote.webelement.WebElement (session=\"6fc72a7a7db5ec6caf9afa106503d835\", element=\"7eac0278-c147-4ec8-a026-62f9531fda23\")>,\n",
       " <selenium.webdriver.remote.webelement.WebElement (session=\"6fc72a7a7db5ec6caf9afa106503d835\", element=\"0c64d078-e319-44e2-8377-837e841529c9\")>,\n",
       " <selenium.webdriver.remote.webelement.WebElement (session=\"6fc72a7a7db5ec6caf9afa106503d835\", element=\"0de94821-cb7a-4b18-aa98-ce5bc4fab985\")>,\n",
       " <selenium.webdriver.remote.webelement.WebElement (session=\"6fc72a7a7db5ec6caf9afa106503d835\", element=\"4904fe31-c78c-4469-88f7-c3eb22d3e435\")>,\n",
       " <selenium.webdriver.remote.webelement.WebElement (session=\"6fc72a7a7db5ec6caf9afa106503d835\", element=\"622aec1e-fcae-4246-8c5f-c6581378ea94\")>,\n",
       " <selenium.webdriver.remote.webelement.WebElement (session=\"6fc72a7a7db5ec6caf9afa106503d835\", element=\"2eb49539-7cf0-4793-b495-2a451d1f5953\")>,\n",
       " <selenium.webdriver.remote.webelement.WebElement (session=\"6fc72a7a7db5ec6caf9afa106503d835\", element=\"affa6250-08c8-4253-a79b-a60b1073202f\")>,\n",
       " <selenium.webdriver.remote.webelement.WebElement (session=\"6fc72a7a7db5ec6caf9afa106503d835\", element=\"5130f20d-d107-4635-ba7a-be4ef6e9b24a\")>,\n",
       " <selenium.webdriver.remote.webelement.WebElement (session=\"6fc72a7a7db5ec6caf9afa106503d835\", element=\"2ba65849-cbfb-4e39-9999-4c60be62eb3b\")>,\n",
       " <selenium.webdriver.remote.webelement.WebElement (session=\"6fc72a7a7db5ec6caf9afa106503d835\", element=\"1a9afbb0-e055-472f-a53b-62620a6c6f26\")>,\n",
       " <selenium.webdriver.remote.webelement.WebElement (session=\"6fc72a7a7db5ec6caf9afa106503d835\", element=\"9cd25fca-d50d-42a8-8e1f-a3cf3a0d6351\")>,\n",
       " <selenium.webdriver.remote.webelement.WebElement (session=\"6fc72a7a7db5ec6caf9afa106503d835\", element=\"056a7bab-3d99-463a-a921-b2c9600f1840\")>,\n",
       " <selenium.webdriver.remote.webelement.WebElement (session=\"6fc72a7a7db5ec6caf9afa106503d835\", element=\"1ac781a5-4391-494c-8c09-3f89a2f99824\")>,\n",
       " <selenium.webdriver.remote.webelement.WebElement (session=\"6fc72a7a7db5ec6caf9afa106503d835\", element=\"08cb1bdc-7b86-4ffe-9971-76aa5ac893fb\")>,\n",
       " <selenium.webdriver.remote.webelement.WebElement (session=\"6fc72a7a7db5ec6caf9afa106503d835\", element=\"523227f3-e05d-4424-a5d5-1157b8155831\")>,\n",
       " <selenium.webdriver.remote.webelement.WebElement (session=\"6fc72a7a7db5ec6caf9afa106503d835\", element=\"03a0fe19-88f6-4ca6-b0b3-2aeb1275e4ba\")>,\n",
       " <selenium.webdriver.remote.webelement.WebElement (session=\"6fc72a7a7db5ec6caf9afa106503d835\", element=\"0f15b85b-564e-4100-81b9-718d4f19cd5f\")>,\n",
       " <selenium.webdriver.remote.webelement.WebElement (session=\"6fc72a7a7db5ec6caf9afa106503d835\", element=\"d8571f7a-b2e8-48cf-a468-c528c303fd3a\")>,\n",
       " <selenium.webdriver.remote.webelement.WebElement (session=\"6fc72a7a7db5ec6caf9afa106503d835\", element=\"30205cce-36ad-490e-946f-d319fb1658df\")>,\n",
       " <selenium.webdriver.remote.webelement.WebElement (session=\"6fc72a7a7db5ec6caf9afa106503d835\", element=\"09cbe423-7410-4d2e-a924-2753e7a73366\")>,\n",
       " <selenium.webdriver.remote.webelement.WebElement (session=\"6fc72a7a7db5ec6caf9afa106503d835\", element=\"80a7cd2f-b7c6-4446-b51e-c646004cca23\")>,\n",
       " <selenium.webdriver.remote.webelement.WebElement (session=\"6fc72a7a7db5ec6caf9afa106503d835\", element=\"b8b9b349-a667-448b-88e0-964a63014e60\")>,\n",
       " <selenium.webdriver.remote.webelement.WebElement (session=\"6fc72a7a7db5ec6caf9afa106503d835\", element=\"bf0b2b96-fd73-4aef-a2f3-87348c9221a8\")>,\n",
       " <selenium.webdriver.remote.webelement.WebElement (session=\"6fc72a7a7db5ec6caf9afa106503d835\", element=\"a67856ba-6941-4541-aae2-07ecd2c6cf47\")>,\n",
       " <selenium.webdriver.remote.webelement.WebElement (session=\"6fc72a7a7db5ec6caf9afa106503d835\", element=\"54ab5e02-9abc-4a57-aa2d-ea3331bb0429\")>]"
      ]
     },
     "execution_count": 9,
     "metadata": {},
     "output_type": "execute_result"
    }
   ],
   "source": [
    "prices_tags=driver.find_elements_by_xpath(\"//div[@class='product-price']\")\n",
    "prices_tags[0:100]"
   ]
  },
  {
   "cell_type": "code",
   "execution_count": 10,
   "id": "f7b07225",
   "metadata": {},
   "outputs": [
    {
     "data": {
      "text/plain": [
       "['Rs. 15999',\n",
       " 'Rs. 15999',\n",
       " 'Rs. 15999',\n",
       " 'Rs. 18999',\n",
       " 'Rs. 15295Rs. 16995(10% OFF)',\n",
       " 'Rs. 18999',\n",
       " 'Rs. 14900',\n",
       " 'Rs. 14500',\n",
       " 'Rs. 14999',\n",
       " 'Rs. 18999',\n",
       " 'Rs. 16999',\n",
       " 'Rs. 14999',\n",
       " 'Rs. 14995',\n",
       " 'Rs. 17595',\n",
       " 'Rs. 14399Rs. 17999(20% OFF)',\n",
       " 'Rs. 18999',\n",
       " 'Rs. 15999',\n",
       " 'Rs. 14999',\n",
       " 'Rs. 14495',\n",
       " 'Rs. 17500',\n",
       " 'Rs. 18500',\n",
       " 'Rs. 17500',\n",
       " 'Rs. 15500',\n",
       " 'Rs. 15675Rs. 16500(5% OFF)',\n",
       " 'Rs. 14900',\n",
       " 'Rs. 14850Rs. 16500(10% OFF)',\n",
       " 'Rs. 17999',\n",
       " 'Rs. 14500',\n",
       " 'Rs. 15675Rs. 16500(5% OFF)',\n",
       " 'Rs. 16500',\n",
       " 'Rs. 15675Rs. 16500(5% OFF)',\n",
       " 'Rs. 16900',\n",
       " 'Rs. 18500',\n",
       " 'Rs. 14500',\n",
       " 'Rs. 14999',\n",
       " 'Rs. 15999',\n",
       " 'Rs. 17999',\n",
       " 'Rs. 15999',\n",
       " 'Rs. 14900',\n",
       " 'Rs. 19999',\n",
       " 'Rs. 19999',\n",
       " 'Rs. 14999',\n",
       " 'Rs. 17999',\n",
       " 'Rs. 17999',\n",
       " 'Rs. 14999',\n",
       " 'Rs. 14999',\n",
       " 'Rs. 17490',\n",
       " 'Rs. 15999',\n",
       " 'Rs. 15990',\n",
       " 'Rs. 14999']"
      ]
     },
     "execution_count": 10,
     "metadata": {},
     "output_type": "execute_result"
    }
   ],
   "source": [
    "for i in prices_tags:\n",
    "    price=i.text\n",
    "    prices.append(price)\n",
    "prices[0:100]"
   ]
  },
  {
   "cell_type": "code",
   "execution_count": 11,
   "id": "5964cd8c",
   "metadata": {},
   "outputs": [
    {
     "name": "stdout",
     "output_type": "stream",
     "text": [
      "50 50 50\n"
     ]
    }
   ],
   "source": [
    "print(len(Brands),len(Descriptions),len(prices))"
   ]
  },
  {
   "cell_type": "code",
   "execution_count": 12,
   "id": "c1cb8ffd",
   "metadata": {},
   "outputs": [],
   "source": [
    "next_button=driver.find_element_by_xpath(\"/html/body/div[2]/div/div[1]/main/div[3]/div[2]/div/div[2]/section/div[2]/ul/li[5]\")\n",
    "next_button.click()"
   ]
  },
  {
   "cell_type": "code",
   "execution_count": 32,
   "id": "e35464e4",
   "metadata": {},
   "outputs": [],
   "source": [
    "B_list=[]\n",
    "for i in range(0,17):\n",
    "    Brands_tags=driver.find_elements_by_xpath(\"//h3[@class='product-brand']\")\n",
    "    for i in Brands_tags:\n",
    "        Brand=i.text\n",
    "        B_list.append(Brand)\n",
    "\n",
    "\n",
    "        \n",
    "next_button=driver.find_element_by_xpath(\"/html/body/div[2]/div/div[1]/main/div[3]/div[2]/div/div[2]/section/div[2]/ul/li[5]\")\n",
    "next_button.click()\n",
    "time.sleep(5)"
   ]
  },
  {
   "cell_type": "code",
   "execution_count": 33,
   "id": "8f261988",
   "metadata": {},
   "outputs": [
    {
     "data": {
      "text/plain": [
       "102"
      ]
     },
     "execution_count": 33,
     "metadata": {},
     "output_type": "execute_result"
    }
   ],
   "source": [
    "len(B_list)"
   ]
  },
  {
   "cell_type": "code",
   "execution_count": 34,
   "id": "9c60a6b5",
   "metadata": {},
   "outputs": [],
   "source": [
    "P_list=[]\n",
    "for i in range(0,17):\n",
    "    prices_tags=driver.find_elements_by_xpath(\"//div[@class='product-price']\")         \n",
    "    for i in prices_tags:\n",
    "        price=i.text\n",
    "        P_list.append(price)\n",
    "        \n",
    "next_button=driver.find_element_by_xpath(\"/html/body/div[2]/div/div[1]/main/div[3]/div[2]/div/div[2]/section/div[2]/ul/li[5]\")\n",
    "next_button.click()\n",
    "time.sleep(5)"
   ]
  },
  {
   "cell_type": "code",
   "execution_count": 35,
   "id": "eafe50be",
   "metadata": {},
   "outputs": [
    {
     "data": {
      "text/plain": [
       "102"
      ]
     },
     "execution_count": 35,
     "metadata": {},
     "output_type": "execute_result"
    }
   ],
   "source": [
    "len(P_list)"
   ]
  },
  {
   "cell_type": "code",
   "execution_count": 36,
   "id": "bf1fb7da",
   "metadata": {},
   "outputs": [],
   "source": [
    "D_list=[]\n",
    "for i in range(0,17):\n",
    "    Descriptions_tags=driver.find_elements_by_xpath(\"//h4[@class='product-product']\")\n",
    "    for i in Descriptions_tags:\n",
    "        Description=i.text\n",
    "        D_list.append(Description)\n",
    "\n",
    "        \n",
    "next_button=driver.find_element_by_xpath(\"/html/body/div[2]/div/div[1]/main/div[3]/div[2]/div/div[2]/section/div[2]/ul/li[5]\")\n",
    "next_button.click()\n",
    "time.sleep(5)"
   ]
  },
  {
   "cell_type": "code",
   "execution_count": 37,
   "id": "5d454732",
   "metadata": {},
   "outputs": [
    {
     "data": {
      "text/plain": [
       "102"
      ]
     },
     "execution_count": 37,
     "metadata": {},
     "output_type": "execute_result"
    }
   ],
   "source": [
    "len(D_list)"
   ]
  },
  {
   "cell_type": "code",
   "execution_count": 39,
   "id": "0e4685e2",
   "metadata": {},
   "outputs": [],
   "source": [
    "shs=pd.DataFrame({})\n",
    "shs['BRAND']=B_list[0:100]\n",
    "shs['DESCRIPTION']=D_list[0:100]\n",
    "shs['PRICE']=P_list[0:100]"
   ]
  },
  {
   "cell_type": "code",
   "execution_count": 40,
   "id": "abb3a416",
   "metadata": {},
   "outputs": [
    {
     "data": {
      "text/html": [
       "<div>\n",
       "<style scoped>\n",
       "    .dataframe tbody tr th:only-of-type {\n",
       "        vertical-align: middle;\n",
       "    }\n",
       "\n",
       "    .dataframe tbody tr th {\n",
       "        vertical-align: top;\n",
       "    }\n",
       "\n",
       "    .dataframe thead th {\n",
       "        text-align: right;\n",
       "    }\n",
       "</style>\n",
       "<table border=\"1\" class=\"dataframe\">\n",
       "  <thead>\n",
       "    <tr style=\"text-align: right;\">\n",
       "      <th></th>\n",
       "      <th>BRAND</th>\n",
       "      <th>DESCRIPTION</th>\n",
       "      <th>PRICE</th>\n",
       "    </tr>\n",
       "  </thead>\n",
       "  <tbody>\n",
       "    <tr>\n",
       "      <th>0</th>\n",
       "      <td>ECCO</td>\n",
       "      <td>Women Textured Leather Flat Boots</td>\n",
       "      <td>Rs. 16999</td>\n",
       "    </tr>\n",
       "    <tr>\n",
       "      <th>1</th>\n",
       "      <td>ADIDAS</td>\n",
       "      <td></td>\n",
       "      <td>Rs. 17999</td>\n",
       "    </tr>\n",
       "    <tr>\n",
       "      <th>2</th>\n",
       "      <td>ECCO</td>\n",
       "      <td>Men Patent Leather Sneakers</td>\n",
       "      <td>Rs. 14999</td>\n",
       "    </tr>\n",
       "    <tr>\n",
       "      <th>3</th>\n",
       "      <td>ASICS</td>\n",
       "      <td>Men Running Shoes</td>\n",
       "      <td>Rs. 14249Rs. 14999(5% OFF)</td>\n",
       "    </tr>\n",
       "    <tr>\n",
       "      <th>4</th>\n",
       "      <td>ALDO</td>\n",
       "      <td>Men Leather Loafers</td>\n",
       "      <td>Rs. 15999</td>\n",
       "    </tr>\n",
       "    <tr>\n",
       "      <th>...</th>\n",
       "      <td>...</td>\n",
       "      <td>...</td>\n",
       "      <td>...</td>\n",
       "    </tr>\n",
       "    <tr>\n",
       "      <th>95</th>\n",
       "      <td>Puma</td>\n",
       "      <td>FUTURE 2.1 NETFIT FG AG Shoes</td>\n",
       "      <td>Rs. 14999</td>\n",
       "    </tr>\n",
       "    <tr>\n",
       "      <th>96</th>\n",
       "      <td>ECCO</td>\n",
       "      <td>Women Textured Leather Flat Boots</td>\n",
       "      <td>Rs. 16999</td>\n",
       "    </tr>\n",
       "    <tr>\n",
       "      <th>97</th>\n",
       "      <td>ADIDAS</td>\n",
       "      <td></td>\n",
       "      <td>Rs. 17999</td>\n",
       "    </tr>\n",
       "    <tr>\n",
       "      <th>98</th>\n",
       "      <td>ECCO</td>\n",
       "      <td>Men Patent Leather Sneakers</td>\n",
       "      <td>Rs. 14999</td>\n",
       "    </tr>\n",
       "    <tr>\n",
       "      <th>99</th>\n",
       "      <td>ASICS</td>\n",
       "      <td>Men Running Shoes</td>\n",
       "      <td>Rs. 14249Rs. 14999(5% OFF)</td>\n",
       "    </tr>\n",
       "  </tbody>\n",
       "</table>\n",
       "<p>100 rows × 3 columns</p>\n",
       "</div>"
      ],
      "text/plain": [
       "     BRAND                        DESCRIPTION                       PRICE\n",
       "0     ECCO  Women Textured Leather Flat Boots                   Rs. 16999\n",
       "1   ADIDAS                                                      Rs. 17999\n",
       "2     ECCO        Men Patent Leather Sneakers                   Rs. 14999\n",
       "3    ASICS                  Men Running Shoes  Rs. 14249Rs. 14999(5% OFF)\n",
       "4     ALDO                Men Leather Loafers                   Rs. 15999\n",
       "..     ...                                ...                         ...\n",
       "95    Puma      FUTURE 2.1 NETFIT FG AG Shoes                   Rs. 14999\n",
       "96    ECCO  Women Textured Leather Flat Boots                   Rs. 16999\n",
       "97  ADIDAS                                                      Rs. 17999\n",
       "98    ECCO        Men Patent Leather Sneakers                   Rs. 14999\n",
       "99   ASICS                  Men Running Shoes  Rs. 14249Rs. 14999(5% OFF)\n",
       "\n",
       "[100 rows x 3 columns]"
      ]
     },
     "execution_count": 40,
     "metadata": {},
     "output_type": "execute_result"
    }
   ],
   "source": [
    "shs"
   ]
  },
  {
   "cell_type": "code",
   "execution_count": null,
   "id": "800b014d",
   "metadata": {},
   "outputs": [],
   "source": []
  }
 ],
 "metadata": {
  "kernelspec": {
   "display_name": "Python 3 (ipykernel)",
   "language": "python",
   "name": "python3"
  },
  "language_info": {
   "codemirror_mode": {
    "name": "ipython",
    "version": 3
   },
   "file_extension": ".py",
   "mimetype": "text/x-python",
   "name": "python",
   "nbconvert_exporter": "python",
   "pygments_lexer": "ipython3",
   "version": "3.9.7"
  }
 },
 "nbformat": 4,
 "nbformat_minor": 5
}
