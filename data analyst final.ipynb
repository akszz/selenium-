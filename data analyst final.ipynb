{
 "cells": [
  {
   "cell_type": "code",
   "execution_count": 44,
   "id": "8cfa2bca",
   "metadata": {},
   "outputs": [],
   "source": [
    "#http://www.naukri.com/"
   ]
  },
  {
   "cell_type": "code",
   "execution_count": 3,
   "id": "0e36b963",
   "metadata": {},
   "outputs": [],
   "source": [
    "import selenium\n",
    "import pandas as pd\n",
    "from selenium import webdriver\n",
    "import warnings\n",
    "warnings.filterwarnings(\"ignore\")\n",
    "import time"
   ]
  },
  {
   "cell_type": "code",
   "execution_count": 4,
   "id": "c5547b95",
   "metadata": {},
   "outputs": [],
   "source": [
    "driver = webdriver.Chrome(r\"C:\\Users\\chromedriver.exe\")"
   ]
  },
  {
   "cell_type": "code",
   "execution_count": 5,
   "id": "a36ac49e",
   "metadata": {},
   "outputs": [],
   "source": [
    "driver=webdriver.Chrome(\"chromedriver.exe\")\n",
    "time.sleep(2)"
   ]
  },
  {
   "cell_type": "code",
   "execution_count": 6,
   "id": "9a1227de",
   "metadata": {},
   "outputs": [],
   "source": [
    "driver.get('https://www.naukri.com/')"
   ]
  },
  {
   "cell_type": "code",
   "execution_count": 7,
   "id": "3303d2c0",
   "metadata": {},
   "outputs": [],
   "source": [
    "search_field_designation=driver.find_element_by_class_name(\"suggestor-input \")\n",
    "search_field_designation.send_keys(\"Data Analyst\")"
   ]
  },
  {
   "cell_type": "code",
   "execution_count": 8,
   "id": "24954fe5",
   "metadata": {},
   "outputs": [],
   "source": [
    "search_field_location=driver.find_element_by_xpath('/html/body/div/div[2]/div[3]/div/div/div[3]/div/div/div/input')\n",
    "search_field_location.send_keys(\"Bangalore\")"
   ]
  },
  {
   "cell_type": "code",
   "execution_count": 9,
   "id": "750e53fa",
   "metadata": {},
   "outputs": [],
   "source": [
    "search_button=driver.find_element_by_xpath('/html/body/div/div[2]/div[3]/div/div/div[6]')\n",
    "search_button.click()"
   ]
  },
  {
   "cell_type": "code",
   "execution_count": 10,
   "id": "112b46dd",
   "metadata": {},
   "outputs": [],
   "source": [
    "job_titles=[]\n",
    "company_names=[]\n",
    "locations_list=[]\n",
    "experience_list=[]\n"
   ]
  },
  {
   "cell_type": "code",
   "execution_count": 11,
   "id": "8bdda395",
   "metadata": {},
   "outputs": [
    {
     "data": {
      "text/plain": [
       "[<selenium.webdriver.remote.webelement.WebElement (session=\"2979afb20a6a01f95ee80cb6dc20b517\", element=\"b4ee0122-c8e5-4780-823c-e6c494ed8e06\")>,\n",
       " <selenium.webdriver.remote.webelement.WebElement (session=\"2979afb20a6a01f95ee80cb6dc20b517\", element=\"d6664d8b-74cf-480b-ae1c-1e79a13a7bb9\")>,\n",
       " <selenium.webdriver.remote.webelement.WebElement (session=\"2979afb20a6a01f95ee80cb6dc20b517\", element=\"814e6ecf-a9e5-417d-ae0d-26cf71785147\")>,\n",
       " <selenium.webdriver.remote.webelement.WebElement (session=\"2979afb20a6a01f95ee80cb6dc20b517\", element=\"ee89a21c-ae6e-467e-a4b6-bbe7077d863c\")>,\n",
       " <selenium.webdriver.remote.webelement.WebElement (session=\"2979afb20a6a01f95ee80cb6dc20b517\", element=\"a3baa5b1-01a6-4e63-b8c3-86e2bea9fc22\")>,\n",
       " <selenium.webdriver.remote.webelement.WebElement (session=\"2979afb20a6a01f95ee80cb6dc20b517\", element=\"3439993e-9811-4830-b633-32a9819255f3\")>,\n",
       " <selenium.webdriver.remote.webelement.WebElement (session=\"2979afb20a6a01f95ee80cb6dc20b517\", element=\"a1d9a53e-98aa-4f1a-b6a1-7a70bd39c84b\")>,\n",
       " <selenium.webdriver.remote.webelement.WebElement (session=\"2979afb20a6a01f95ee80cb6dc20b517\", element=\"0b8c22c1-2fef-40a2-82f4-d1d17be71f81\")>,\n",
       " <selenium.webdriver.remote.webelement.WebElement (session=\"2979afb20a6a01f95ee80cb6dc20b517\", element=\"399200e4-328b-4956-9edc-00c57c42992a\")>,\n",
       " <selenium.webdriver.remote.webelement.WebElement (session=\"2979afb20a6a01f95ee80cb6dc20b517\", element=\"f6503c49-bf1d-42b4-a7eb-ccc60f9ec42f\")>]"
      ]
     },
     "execution_count": 11,
     "metadata": {},
     "output_type": "execute_result"
    }
   ],
   "source": [
    "titles_tags=driver.find_elements_by_xpath(\"//a[@class='title fw500 ellipsis']\")\n",
    "titles_tags[0:10]"
   ]
  },
  {
   "cell_type": "code",
   "execution_count": 12,
   "id": "729afa8b",
   "metadata": {},
   "outputs": [
    {
     "data": {
      "text/plain": [
       "['Senior Data Analyst',\n",
       " 'Data Analyst- customer facing',\n",
       " 'Sr Data Analyst II',\n",
       " 'Business analyst + data Analysis',\n",
       " 'Data Analyst',\n",
       " 'Hiring For Data Analyst with SAP ABAP & BW - C2H Wipro',\n",
       " 'Senior Business Analyst - Data Sciences and Advanced Analytics',\n",
       " 'Business and Data Analyst',\n",
       " 'Senior Data Analyst | Lululemon',\n",
       " 'Urgent hiring For Senior Data Analyst']"
      ]
     },
     "execution_count": 12,
     "metadata": {},
     "output_type": "execute_result"
    }
   ],
   "source": [
    "for i in titles_tags:\n",
    "    title=i.text\n",
    "    job_titles.append(title)\n",
    "job_titles[0:10]"
   ]
  },
  {
   "cell_type": "code",
   "execution_count": 13,
   "id": "07b730e9",
   "metadata": {},
   "outputs": [
    {
     "data": {
      "text/plain": [
       "[<selenium.webdriver.remote.webelement.WebElement (session=\"2979afb20a6a01f95ee80cb6dc20b517\", element=\"ef41f0b6-d0af-483d-9761-05d3befd6559\")>,\n",
       " <selenium.webdriver.remote.webelement.WebElement (session=\"2979afb20a6a01f95ee80cb6dc20b517\", element=\"9ada0a6d-0df7-4531-9b41-2fd39c46a1d0\")>,\n",
       " <selenium.webdriver.remote.webelement.WebElement (session=\"2979afb20a6a01f95ee80cb6dc20b517\", element=\"70b4bed4-58e4-466f-ba13-ccc26c93a1ef\")>,\n",
       " <selenium.webdriver.remote.webelement.WebElement (session=\"2979afb20a6a01f95ee80cb6dc20b517\", element=\"f3658a55-6a0d-4a0d-a0a0-428a8eb9dcc9\")>,\n",
       " <selenium.webdriver.remote.webelement.WebElement (session=\"2979afb20a6a01f95ee80cb6dc20b517\", element=\"33d25b36-7beb-499b-847f-41c89db202b8\")>,\n",
       " <selenium.webdriver.remote.webelement.WebElement (session=\"2979afb20a6a01f95ee80cb6dc20b517\", element=\"3ef01298-0472-4021-8176-612bb66c5c58\")>,\n",
       " <selenium.webdriver.remote.webelement.WebElement (session=\"2979afb20a6a01f95ee80cb6dc20b517\", element=\"7d43f0ac-b8c4-4d82-a7d4-d2d75fe1ad81\")>,\n",
       " <selenium.webdriver.remote.webelement.WebElement (session=\"2979afb20a6a01f95ee80cb6dc20b517\", element=\"7c98f931-0b29-428f-8ab6-dbe4295d9b03\")>,\n",
       " <selenium.webdriver.remote.webelement.WebElement (session=\"2979afb20a6a01f95ee80cb6dc20b517\", element=\"2ca3489d-71e5-49d9-b31c-7df5a1fc72eb\")>,\n",
       " <selenium.webdriver.remote.webelement.WebElement (session=\"2979afb20a6a01f95ee80cb6dc20b517\", element=\"0bc06cb6-c7c7-4286-88e6-3c49b976deca\")>]"
      ]
     },
     "execution_count": 13,
     "metadata": {},
     "output_type": "execute_result"
    }
   ],
   "source": [
    "companies_tags=driver.find_elements_by_xpath(\"//a[@class='subTitle ellipsis fleft']\")\n",
    "companies_tags[0:10]"
   ]
  },
  {
   "cell_type": "code",
   "execution_count": 14,
   "id": "52205e38",
   "metadata": {},
   "outputs": [
    {
     "data": {
      "text/plain": [
       "['Thomson Reuters',\n",
       " 'Synamedia',\n",
       " 'IHS Markit',\n",
       " 'Anlage Infotech (I) Pvt. Ltd.',\n",
       " 'VOLVO ASSET FINANCE INDIA PRIVATE LIMITED',\n",
       " 'MILLION MINDS INFOTECH PRIVATE LIMITED',\n",
       " 'Vmware',\n",
       " 'CAREERDOST ENTERPRISE',\n",
       " 'TALENT500 TECH (INDIA) PRIVATE LIMITED',\n",
       " 'upGrad']"
      ]
     },
     "execution_count": 14,
     "metadata": {},
     "output_type": "execute_result"
    }
   ],
   "source": [
    "for i in companies_tags:\n",
    "    company_name=i.text\n",
    "    company_names.append(company_name)\n",
    "company_names[0:10]"
   ]
  },
  {
   "cell_type": "code",
   "execution_count": 15,
   "id": "efffe702",
   "metadata": {},
   "outputs": [
    {
     "data": {
      "text/plain": [
       "[<selenium.webdriver.remote.webelement.WebElement (session=\"2979afb20a6a01f95ee80cb6dc20b517\", element=\"a32e3d80-4868-4783-807b-11c8f4c020b1\")>,\n",
       " <selenium.webdriver.remote.webelement.WebElement (session=\"2979afb20a6a01f95ee80cb6dc20b517\", element=\"68608719-2064-4eec-a1c9-1a1b840e5f11\")>,\n",
       " <selenium.webdriver.remote.webelement.WebElement (session=\"2979afb20a6a01f95ee80cb6dc20b517\", element=\"4c5e3c00-2e60-408e-90b8-7f520f57aaff\")>,\n",
       " <selenium.webdriver.remote.webelement.WebElement (session=\"2979afb20a6a01f95ee80cb6dc20b517\", element=\"dfff8f27-6a17-4ba5-b2ae-8f671630d6b0\")>,\n",
       " <selenium.webdriver.remote.webelement.WebElement (session=\"2979afb20a6a01f95ee80cb6dc20b517\", element=\"e558ffe7-c900-4270-a6b2-fba1e5ced454\")>,\n",
       " <selenium.webdriver.remote.webelement.WebElement (session=\"2979afb20a6a01f95ee80cb6dc20b517\", element=\"ddb16ced-021a-4f42-8598-3b303f7c6390\")>,\n",
       " <selenium.webdriver.remote.webelement.WebElement (session=\"2979afb20a6a01f95ee80cb6dc20b517\", element=\"d1cee2bf-1cf3-437b-8f5d-b1929507a192\")>,\n",
       " <selenium.webdriver.remote.webelement.WebElement (session=\"2979afb20a6a01f95ee80cb6dc20b517\", element=\"d0fdc104-bc1e-462e-aac0-3902d37e606e\")>,\n",
       " <selenium.webdriver.remote.webelement.WebElement (session=\"2979afb20a6a01f95ee80cb6dc20b517\", element=\"af1b9a9b-f282-4ee1-8c15-3ab4e42857a9\")>,\n",
       " <selenium.webdriver.remote.webelement.WebElement (session=\"2979afb20a6a01f95ee80cb6dc20b517\", element=\"1fb699d5-b016-4864-b7a7-f7db8ba236c2\")>]"
      ]
     },
     "execution_count": 15,
     "metadata": {},
     "output_type": "execute_result"
    }
   ],
   "source": [
    "experience_tags=driver.find_elements_by_xpath(\"//li[@class='fleft grey-text br2 placeHolderLi experience']/span\")\n",
    "experience_tags[0:10]"
   ]
  },
  {
   "cell_type": "code",
   "execution_count": 16,
   "id": "eb884922",
   "metadata": {},
   "outputs": [
    {
     "data": {
      "text/plain": [
       "['2-4 Yrs',\n",
       " '0-3 Yrs',\n",
       " '3-6 Yrs',\n",
       " '5-10 Yrs',\n",
       " '2-4 Yrs',\n",
       " '7-10 Yrs',\n",
       " '3-7 Yrs',\n",
       " '0-5 Yrs',\n",
       " '5-8 Yrs',\n",
       " '2-7 Yrs']"
      ]
     },
     "execution_count": 16,
     "metadata": {},
     "output_type": "execute_result"
    }
   ],
   "source": [
    "for i in experience_tags:\n",
    "    experience=i.text\n",
    "    experience_list.append(experience)\n",
    "experience_list[0:10]"
   ]
  },
  {
   "cell_type": "code",
   "execution_count": 17,
   "id": "6f8bb83e",
   "metadata": {},
   "outputs": [
    {
     "data": {
      "text/plain": [
       "[<selenium.webdriver.remote.webelement.WebElement (session=\"2979afb20a6a01f95ee80cb6dc20b517\", element=\"28a3f8c5-d1ae-4f1e-920a-50c1c67201dd\")>,\n",
       " <selenium.webdriver.remote.webelement.WebElement (session=\"2979afb20a6a01f95ee80cb6dc20b517\", element=\"7b4572cc-c84e-4e69-98b0-d65f57e9c56b\")>,\n",
       " <selenium.webdriver.remote.webelement.WebElement (session=\"2979afb20a6a01f95ee80cb6dc20b517\", element=\"ca4489e5-de63-4d50-b419-716cbea13476\")>,\n",
       " <selenium.webdriver.remote.webelement.WebElement (session=\"2979afb20a6a01f95ee80cb6dc20b517\", element=\"a8b5f69a-71d7-4404-935b-073ed1125374\")>,\n",
       " <selenium.webdriver.remote.webelement.WebElement (session=\"2979afb20a6a01f95ee80cb6dc20b517\", element=\"e7ad1e14-163a-462c-a004-5ed647ea5646\")>,\n",
       " <selenium.webdriver.remote.webelement.WebElement (session=\"2979afb20a6a01f95ee80cb6dc20b517\", element=\"dce2cbd5-3af4-4e10-a57a-508b01c287e5\")>,\n",
       " <selenium.webdriver.remote.webelement.WebElement (session=\"2979afb20a6a01f95ee80cb6dc20b517\", element=\"8976cd22-2d66-43bd-aef8-78a008c45100\")>,\n",
       " <selenium.webdriver.remote.webelement.WebElement (session=\"2979afb20a6a01f95ee80cb6dc20b517\", element=\"4f8c6154-2a00-43bf-95db-54596f43bfa9\")>,\n",
       " <selenium.webdriver.remote.webelement.WebElement (session=\"2979afb20a6a01f95ee80cb6dc20b517\", element=\"2b595428-6552-488c-8f89-2e6d96970092\")>,\n",
       " <selenium.webdriver.remote.webelement.WebElement (session=\"2979afb20a6a01f95ee80cb6dc20b517\", element=\"d0681dcc-472c-4741-a8e5-d62997dd5e6c\")>]"
      ]
     },
     "execution_count": 17,
     "metadata": {},
     "output_type": "execute_result"
    }
   ],
   "source": [
    "locations_tags=driver.find_elements_by_xpath(\"//li[@class='fleft grey-text br2 placeHolderLi location']/span[1]\")\n",
    "locations_tags[0:10]"
   ]
  },
  {
   "cell_type": "code",
   "execution_count": 18,
   "id": "6468a387",
   "metadata": {},
   "outputs": [
    {
     "data": {
      "text/plain": [
       "['Bangalore/Bengaluru',\n",
       " 'Bangalore/Bengaluru',\n",
       " 'Gurgaon/Gurugram, Bangalore/Bengaluru',\n",
       " 'Hyderabad/Secunderabad, Bangalore/Bengaluru',\n",
       " 'Bangalore/Bengaluru',\n",
       " 'Bangalore/Bengaluru',\n",
       " 'Bangalore/Bengaluru',\n",
       " 'Bangalore/Bengaluru',\n",
       " 'Bangalore/Bengaluru',\n",
       " 'Bangalore/Bengaluru']"
      ]
     },
     "execution_count": 18,
     "metadata": {},
     "output_type": "execute_result"
    }
   ],
   "source": [
    "for i in locations_tags:\n",
    "    location=i.text\n",
    "    locations_list.append(location)\n",
    "locations_list[0:10]"
   ]
  },
  {
   "cell_type": "code",
   "execution_count": 19,
   "id": "332e4057",
   "metadata": {},
   "outputs": [],
   "source": [
    "jobs=pd.DataFrame({})\n",
    "jobs['title']=job_titles[0:10]\n",
    "jobs['company']=company_names[0:10]\n",
    "jobs['experience']=experience_list[0:10]\n",
    "jobs['location']=locations_list[0:10]"
   ]
  },
  {
   "cell_type": "code",
   "execution_count": 20,
   "id": "40611c9d",
   "metadata": {},
   "outputs": [
    {
     "data": {
      "text/html": [
       "<div>\n",
       "<style scoped>\n",
       "    .dataframe tbody tr th:only-of-type {\n",
       "        vertical-align: middle;\n",
       "    }\n",
       "\n",
       "    .dataframe tbody tr th {\n",
       "        vertical-align: top;\n",
       "    }\n",
       "\n",
       "    .dataframe thead th {\n",
       "        text-align: right;\n",
       "    }\n",
       "</style>\n",
       "<table border=\"1\" class=\"dataframe\">\n",
       "  <thead>\n",
       "    <tr style=\"text-align: right;\">\n",
       "      <th></th>\n",
       "      <th>title</th>\n",
       "      <th>company</th>\n",
       "      <th>experience</th>\n",
       "      <th>location</th>\n",
       "    </tr>\n",
       "  </thead>\n",
       "  <tbody>\n",
       "    <tr>\n",
       "      <th>0</th>\n",
       "      <td>Senior Data Analyst</td>\n",
       "      <td>Thomson Reuters</td>\n",
       "      <td>2-4 Yrs</td>\n",
       "      <td>Bangalore/Bengaluru</td>\n",
       "    </tr>\n",
       "    <tr>\n",
       "      <th>1</th>\n",
       "      <td>Data Analyst- customer facing</td>\n",
       "      <td>Synamedia</td>\n",
       "      <td>0-3 Yrs</td>\n",
       "      <td>Bangalore/Bengaluru</td>\n",
       "    </tr>\n",
       "    <tr>\n",
       "      <th>2</th>\n",
       "      <td>Sr Data Analyst II</td>\n",
       "      <td>IHS Markit</td>\n",
       "      <td>3-6 Yrs</td>\n",
       "      <td>Gurgaon/Gurugram, Bangalore/Bengaluru</td>\n",
       "    </tr>\n",
       "    <tr>\n",
       "      <th>3</th>\n",
       "      <td>Business analyst + data Analysis</td>\n",
       "      <td>Anlage Infotech (I) Pvt. Ltd.</td>\n",
       "      <td>5-10 Yrs</td>\n",
       "      <td>Hyderabad/Secunderabad, Bangalore/Bengaluru</td>\n",
       "    </tr>\n",
       "    <tr>\n",
       "      <th>4</th>\n",
       "      <td>Data Analyst</td>\n",
       "      <td>VOLVO ASSET FINANCE INDIA PRIVATE LIMITED</td>\n",
       "      <td>2-4 Yrs</td>\n",
       "      <td>Bangalore/Bengaluru</td>\n",
       "    </tr>\n",
       "    <tr>\n",
       "      <th>5</th>\n",
       "      <td>Hiring For Data Analyst with SAP ABAP &amp; BW - C...</td>\n",
       "      <td>MILLION MINDS INFOTECH PRIVATE LIMITED</td>\n",
       "      <td>7-10 Yrs</td>\n",
       "      <td>Bangalore/Bengaluru</td>\n",
       "    </tr>\n",
       "    <tr>\n",
       "      <th>6</th>\n",
       "      <td>Senior Business Analyst - Data Sciences and Ad...</td>\n",
       "      <td>Vmware</td>\n",
       "      <td>3-7 Yrs</td>\n",
       "      <td>Bangalore/Bengaluru</td>\n",
       "    </tr>\n",
       "    <tr>\n",
       "      <th>7</th>\n",
       "      <td>Business and Data Analyst</td>\n",
       "      <td>CAREERDOST ENTERPRISE</td>\n",
       "      <td>0-5 Yrs</td>\n",
       "      <td>Bangalore/Bengaluru</td>\n",
       "    </tr>\n",
       "    <tr>\n",
       "      <th>8</th>\n",
       "      <td>Senior Data Analyst | Lululemon</td>\n",
       "      <td>TALENT500 TECH (INDIA) PRIVATE LIMITED</td>\n",
       "      <td>5-8 Yrs</td>\n",
       "      <td>Bangalore/Bengaluru</td>\n",
       "    </tr>\n",
       "    <tr>\n",
       "      <th>9</th>\n",
       "      <td>Urgent hiring For Senior Data Analyst</td>\n",
       "      <td>upGrad</td>\n",
       "      <td>2-7 Yrs</td>\n",
       "      <td>Bangalore/Bengaluru</td>\n",
       "    </tr>\n",
       "  </tbody>\n",
       "</table>\n",
       "</div>"
      ],
      "text/plain": [
       "                                               title  \\\n",
       "0                                Senior Data Analyst   \n",
       "1                      Data Analyst- customer facing   \n",
       "2                                 Sr Data Analyst II   \n",
       "3                   Business analyst + data Analysis   \n",
       "4                                       Data Analyst   \n",
       "5  Hiring For Data Analyst with SAP ABAP & BW - C...   \n",
       "6  Senior Business Analyst - Data Sciences and Ad...   \n",
       "7                          Business and Data Analyst   \n",
       "8                    Senior Data Analyst | Lululemon   \n",
       "9              Urgent hiring For Senior Data Analyst   \n",
       "\n",
       "                                     company experience  \\\n",
       "0                            Thomson Reuters    2-4 Yrs   \n",
       "1                                  Synamedia    0-3 Yrs   \n",
       "2                                 IHS Markit    3-6 Yrs   \n",
       "3              Anlage Infotech (I) Pvt. Ltd.   5-10 Yrs   \n",
       "4  VOLVO ASSET FINANCE INDIA PRIVATE LIMITED    2-4 Yrs   \n",
       "5     MILLION MINDS INFOTECH PRIVATE LIMITED   7-10 Yrs   \n",
       "6                                     Vmware    3-7 Yrs   \n",
       "7                      CAREERDOST ENTERPRISE    0-5 Yrs   \n",
       "8     TALENT500 TECH (INDIA) PRIVATE LIMITED    5-8 Yrs   \n",
       "9                                     upGrad    2-7 Yrs   \n",
       "\n",
       "                                      location  \n",
       "0                          Bangalore/Bengaluru  \n",
       "1                          Bangalore/Bengaluru  \n",
       "2        Gurgaon/Gurugram, Bangalore/Bengaluru  \n",
       "3  Hyderabad/Secunderabad, Bangalore/Bengaluru  \n",
       "4                          Bangalore/Bengaluru  \n",
       "5                          Bangalore/Bengaluru  \n",
       "6                          Bangalore/Bengaluru  \n",
       "7                          Bangalore/Bengaluru  \n",
       "8                          Bangalore/Bengaluru  \n",
       "9                          Bangalore/Bengaluru  "
      ]
     },
     "execution_count": 20,
     "metadata": {},
     "output_type": "execute_result"
    }
   ],
   "source": [
    "jobs"
   ]
  },
  {
   "cell_type": "code",
   "execution_count": null,
   "id": "b5953a34",
   "metadata": {},
   "outputs": [],
   "source": []
  },
  {
   "cell_type": "code",
   "execution_count": null,
   "id": "5141fb6a",
   "metadata": {},
   "outputs": [],
   "source": []
  }
 ],
 "metadata": {
  "kernelspec": {
   "display_name": "Python 3 (ipykernel)",
   "language": "python",
   "name": "python3"
  },
  "language_info": {
   "codemirror_mode": {
    "name": "ipython",
    "version": 3
   },
   "file_extension": ".py",
   "mimetype": "text/x-python",
   "name": "python",
   "nbconvert_exporter": "python",
   "pygments_lexer": "ipython3",
   "version": "3.9.7"
  }
 },
 "nbformat": 4,
 "nbformat_minor": 5
}
