{
 "cells": [
  {
   "cell_type": "code",
   "execution_count": null,
   "id": "ce863494",
   "metadata": {},
   "outputs": [],
   "source": [
    "#https://www.amazon.in/\n",
    "#corei3"
   ]
  },
  {
   "cell_type": "code",
   "execution_count": 5,
   "id": "54b27c35",
   "metadata": {},
   "outputs": [],
   "source": [
    "#libs\n",
    "import selenium\n",
    "import pandas as pd\n",
    "from selenium import webdriver\n",
    "import warnings\n",
    "warnings.filterwarnings(\"ignore\")\n",
    "import time\n",
    "\n",
    "#commands\n",
    "driver = webdriver.Chrome(r\"C:\\Users\\chromedriver.exe\")\n",
    "driver=webdriver.Chrome(\"chromedriver.exe\")\n",
    "time.sleep(2)\n",
    "driver.get('https://www.amazon.in/')"
   ]
  },
  {
   "cell_type": "code",
   "execution_count": 7,
   "id": "6e67cc14",
   "metadata": {},
   "outputs": [],
   "source": [
    "search_product=driver.find_element_by_xpath('/html/body/div[1]/header/div/div[1]/div[2]/div/form/div[2]/div[1]/input')\n",
    "search_product.send_keys(\"Laptop\")"
   ]
  },
  {
   "cell_type": "code",
   "execution_count": 10,
   "id": "277b7c28",
   "metadata": {},
   "outputs": [],
   "source": [
    "search_button=driver.find_element_by_xpath('/html/body/div[1]/header/div/div[1]/div[2]/div/form/div[3]/div/span')\n",
    "search_button.click()"
   ]
  },
  {
   "cell_type": "code",
   "execution_count": 14,
   "id": "111d1ec6",
   "metadata": {},
   "outputs": [],
   "source": [
    "filter_check=driver.find_element_by_xpath('/html/body/div[1]/div[2]/div[1]/div[2]/div/div[3]/span/div[1]/div/div/div[6]/ul[4]/li[14]/span/a/span')\n",
    "filter_check.click()"
   ]
  },
  {
   "cell_type": "code",
   "execution_count": 15,
   "id": "735a1270",
   "metadata": {},
   "outputs": [],
   "source": [
    "filter_check=driver.find_element_by_xpath('/html/body/div[1]/div[2]/div[1]/div[2]/div/div[3]/span/div[1]/div/div/div[6]/ul[4]/li[2]/span/a/span')\n",
    "filter_check.click()"
   ]
  },
  {
   "cell_type": "code",
   "execution_count": 16,
   "id": "90b9a405",
   "metadata": {},
   "outputs": [],
   "source": [
    "brands=[]\n",
    "ratings=[]\n",
    "prices=[]"
   ]
  },
  {
   "cell_type": "code",
   "execution_count": 17,
   "id": "5b3f64d6",
   "metadata": {},
   "outputs": [
    {
     "data": {
      "text/plain": [
       "[<selenium.webdriver.remote.webelement.WebElement (session=\"712a7d9b3b1961b1622d4fca2267d1cf\", element=\"162d21d8-df1b-44f5-9dea-7b78a0b5f9eb\")>,\n",
       " <selenium.webdriver.remote.webelement.WebElement (session=\"712a7d9b3b1961b1622d4fca2267d1cf\", element=\"04fcebd5-680f-4fd0-a94f-684d15c85049\")>,\n",
       " <selenium.webdriver.remote.webelement.WebElement (session=\"712a7d9b3b1961b1622d4fca2267d1cf\", element=\"d6dfcc2c-ccc8-468a-9c17-d06db0a66562\")>,\n",
       " <selenium.webdriver.remote.webelement.WebElement (session=\"712a7d9b3b1961b1622d4fca2267d1cf\", element=\"c17d0b0a-513e-445f-b386-b66e56ba15e5\")>,\n",
       " <selenium.webdriver.remote.webelement.WebElement (session=\"712a7d9b3b1961b1622d4fca2267d1cf\", element=\"698b0cbb-7ec0-46a9-b584-3b3906e7bb5a\")>,\n",
       " <selenium.webdriver.remote.webelement.WebElement (session=\"712a7d9b3b1961b1622d4fca2267d1cf\", element=\"6e8277f6-9528-4cd7-968b-8f9cdc024981\")>,\n",
       " <selenium.webdriver.remote.webelement.WebElement (session=\"712a7d9b3b1961b1622d4fca2267d1cf\", element=\"0ba227ac-1e9b-4763-bc59-055709dcd606\")>,\n",
       " <selenium.webdriver.remote.webelement.WebElement (session=\"712a7d9b3b1961b1622d4fca2267d1cf\", element=\"6ca9fa14-00fb-4444-84a6-80c73bcae5be\")>,\n",
       " <selenium.webdriver.remote.webelement.WebElement (session=\"712a7d9b3b1961b1622d4fca2267d1cf\", element=\"7eb24de6-aa3e-404e-8254-56c9f9225fd3\")>,\n",
       " <selenium.webdriver.remote.webelement.WebElement (session=\"712a7d9b3b1961b1622d4fca2267d1cf\", element=\"786195d5-39d0-4371-a7dd-11a496684c9c\")>,\n",
       " <selenium.webdriver.remote.webelement.WebElement (session=\"712a7d9b3b1961b1622d4fca2267d1cf\", element=\"ccbd66f8-7c0e-4356-8ca7-99a2f1aafefe\")>,\n",
       " <selenium.webdriver.remote.webelement.WebElement (session=\"712a7d9b3b1961b1622d4fca2267d1cf\", element=\"0e3546eb-b8ac-440b-bf74-536767e008db\")>,\n",
       " <selenium.webdriver.remote.webelement.WebElement (session=\"712a7d9b3b1961b1622d4fca2267d1cf\", element=\"62404ec8-35aa-439f-9e06-5b00494c316f\")>,\n",
       " <selenium.webdriver.remote.webelement.WebElement (session=\"712a7d9b3b1961b1622d4fca2267d1cf\", element=\"1fb5d070-d24d-45f9-a4ea-b9e931914b56\")>,\n",
       " <selenium.webdriver.remote.webelement.WebElement (session=\"712a7d9b3b1961b1622d4fca2267d1cf\", element=\"a075c5d5-e700-448c-81bc-91814ea00f66\")>,\n",
       " <selenium.webdriver.remote.webelement.WebElement (session=\"712a7d9b3b1961b1622d4fca2267d1cf\", element=\"7acf9f80-50ac-4b02-acf2-17079b8d5be3\")>,\n",
       " <selenium.webdriver.remote.webelement.WebElement (session=\"712a7d9b3b1961b1622d4fca2267d1cf\", element=\"0fb78ec6-6656-4afd-ad1d-5ea98a9ee723\")>,\n",
       " <selenium.webdriver.remote.webelement.WebElement (session=\"712a7d9b3b1961b1622d4fca2267d1cf\", element=\"c79d0e82-3c91-4695-9132-e463ddd8e444\")>,\n",
       " <selenium.webdriver.remote.webelement.WebElement (session=\"712a7d9b3b1961b1622d4fca2267d1cf\", element=\"07ec5c1f-09e1-4191-bbde-fffc3b40a842\")>,\n",
       " <selenium.webdriver.remote.webelement.WebElement (session=\"712a7d9b3b1961b1622d4fca2267d1cf\", element=\"6e940c80-cbe0-47ee-bf08-950aeffea60e\")>,\n",
       " <selenium.webdriver.remote.webelement.WebElement (session=\"712a7d9b3b1961b1622d4fca2267d1cf\", element=\"856cc4d9-43db-48d9-8f6b-45b16261d973\")>,\n",
       " <selenium.webdriver.remote.webelement.WebElement (session=\"712a7d9b3b1961b1622d4fca2267d1cf\", element=\"352592d8-6bd2-4cbd-a2d4-8c1bf33836cb\")>,\n",
       " <selenium.webdriver.remote.webelement.WebElement (session=\"712a7d9b3b1961b1622d4fca2267d1cf\", element=\"3a3fc750-89a4-4b60-b1d4-f8091f1ac9b1\")>,\n",
       " <selenium.webdriver.remote.webelement.WebElement (session=\"712a7d9b3b1961b1622d4fca2267d1cf\", element=\"49ec0690-1ad3-4b77-ad50-a0e8b3cf5a70\")>,\n",
       " <selenium.webdriver.remote.webelement.WebElement (session=\"712a7d9b3b1961b1622d4fca2267d1cf\", element=\"2c49be06-01bd-4ec0-9612-1f7c276ffdb1\")>,\n",
       " <selenium.webdriver.remote.webelement.WebElement (session=\"712a7d9b3b1961b1622d4fca2267d1cf\", element=\"6e86cb5f-ca5b-4100-9c76-bab5ced24575\")>,\n",
       " <selenium.webdriver.remote.webelement.WebElement (session=\"712a7d9b3b1961b1622d4fca2267d1cf\", element=\"dfd00ea6-59e2-4263-b221-83ccc9450f71\")>,\n",
       " <selenium.webdriver.remote.webelement.WebElement (session=\"712a7d9b3b1961b1622d4fca2267d1cf\", element=\"0dbc1195-96b3-4c73-b9a7-c41e99b5ceae\")>,\n",
       " <selenium.webdriver.remote.webelement.WebElement (session=\"712a7d9b3b1961b1622d4fca2267d1cf\", element=\"a985a0ea-ee1b-491e-9c9b-aa580c07a67b\")>,\n",
       " <selenium.webdriver.remote.webelement.WebElement (session=\"712a7d9b3b1961b1622d4fca2267d1cf\", element=\"ee716958-35ae-403a-b585-5f5780d5fbaa\")>]"
      ]
     },
     "execution_count": 17,
     "metadata": {},
     "output_type": "execute_result"
    }
   ],
   "source": [
    "brands_tags=driver.find_elements_by_xpath(\"//h2[@class='a-size-mini a-spacing-none a-color-base s-line-clamp-2']\")\n",
    "brands_tags[0:100]"
   ]
  },
  {
   "cell_type": "code",
   "execution_count": 18,
   "id": "cf6f6a34",
   "metadata": {},
   "outputs": [
    {
     "data": {
      "text/plain": [
       "['Microsoft Surface Pro 7 VDV-00015 12.3\" (31.24 cms) Touchscreen 2-in-1 Laptop (10th Gen Intel Core i5/8GB/128GB SSD/Windows 10 Home/Intel Iris Plus Graphics), Platinum',\n",
       " 'Dell 15 (2021) Intel i5-11300H, Inspiron 5518 15.6 inches FHD Display Laptop (16GB, 512Gb SSD, NVIDIA MX450 2GB Graphics, Windows 11 + MS Office 21, Platinum Silver, D560691WIN9S)',\n",
       " 'Lenovo ThinkBook 14 Intel Core i5 11th Gen 14\" (35.56cm) FHD IPS Thin & Light Laptop (16GB RAM/512GB SSD/Windows 11 Home/MS Office 2021/FPR/Intel Iris Xe Graphics Mineral Grey/1.4 kg), 20VDA0TLIH',\n",
       " 'MSI Modern 14, Intel i5-10210U, 14\" FHD IPS-Level 60Hz Panel Laptop (8GB/512GB NVMe SSD/Windows 10 Home/Intel UHD Graphics/Carbon Grey/1.3Kg), B10MW-639IN',\n",
       " 'ASUS TUF Gaming F15 (2021), 15.6\" (39.62 cms) FHD 144Hz, Intel Core i5-10300H 10th Gen, GTX 1650 4GB Graphics, Gaming Laptop (8GB RAM/512GB NVMe SSD/Windows 11/Black/2.30 Kg), FX506LH-HN258W',\n",
       " 'Mi Notebook Pro QHD+ IPS Anti Glare Display Intel Core i5-11300H 11th Gen 14 inch(35.56 cms) Thin & Light Laptop (16GB/512GB SSD/Iris Xe Graphics/Win 11/MS Office 21/Backlit KB/FP Sensor/1.4 Kg)',\n",
       " 'Dell 15 (2021) Intel i5-11300H, Inspiron 5518 15.6 inches FHD Display Laptop (16GB, 512Gb SSD, NVIDIA MX450 2GB Graphics, Windows 11 + MS Office 21, Platinum Silver, D560691WIN9S)',\n",
       " 'Acer Aspire 3 Intel Core i5 11th Generation 15.6-inch (39.6 cms) Full HD Laptop - (8 GB/1TB HDD/Windows 11 Home/1.7 Kg/Silver) A315-58',\n",
       " 'Lenovo IdeaPad 3 10th Gen Intel Core i5 15.6\" FHD Thin & Light Laptop (8GB/512GB SSD/Windows 11/Office 2021/2 Yr Warranty/Platinum Grey/1.7Kg), 81WB01DFIN',\n",
       " 'HP 15s 11th Gen Intel Core i5 15.6 inch(39.6 cm) FHD Anti-Glare Display Laptop (8GB RAM/512GB SSD Micro-Edge/Iris Xe Graphics/Backlit Keyboard/Win 11/Alexa/Dual Speakers/MSO, 15s- fq4021TU, 1.69Kg)',\n",
       " 'Lenovo IdeaPad Slim 3 10th Gen Intel Core i5 15.6\" FHD IPS Thin & Light Laptop(8GB/512GB SSD/2GB MX330 Gfx/2Yr Warranty/Win11/Office 2021/300Nits/3months Xbox Game Pass/Platinum Grey/1.7Kg),81WB01BPIN',\n",
       " 'Lenovo IdeaPad Slim 3 11th Gen Intel Core i5 15.6 inches FHD Thin & Light Laptop (8GB/512GB SSD/Windows 11/Office 2021/2Yr Warranty/Backlit/3months Xbox Game Pass/Arctic Grey/1.65Kg), 82H802FHIN',\n",
       " 'Microsoft Surface Go 10th Gen Intel Core i5-1035G1 12.4 inches Touchscreen Business Laptop (8GB/128GB SSD/Windows 10 Home in S Mode/UHD Graphics/Platinum/1.110 kg, 25% Off on Microsoft 365), THH-00023',\n",
       " 'Dell New 15\" Intel i5-11400H 15.6 inches FHD Gaming Laptop (16GB, 512GB SSD, NVIDIA RTX 3050 Ti 4GB, Windows 11 + MS Office 21, Backlit KB Orange, Dark Shadow Grey G15 5511/ D560639WIN9B)',\n",
       " 'Lenovo IdeaPad Slim 3 11th Gen Intel Core i5 14\" FHD Thin & Light Laptop (8GB/512GB SDD/Win11/Office 2021/Backlit/Fingerprint Reader/2Yr Warranty/3months Xbox Game Pass/Arctic Grey/1.41Kg), 82H701ASIN',\n",
       " 'Lenovo IdeaPad Slim 5 11th Gen Intel Core i5 15.6\" FHD IPS Thin & Light Laptop(16GB/512GB SSD/Windows 11/Office 2021/Backlit/Fingerprint Reader/3months Xbox Game Pass/Graphite Grey/1.66Kg), 82FGO1H9IN',\n",
       " 'ASUS VivoBook 14 (2021), 14-inch (35.56 cms) FHD, Intel Core i7-1065G7 10th Gen, Thin and Light Laptop (16GB/512GB SSD/Integrated Graphics/Office 2021/Windows 11/Silver/1.6 Kg), X415JA-EK701WS',\n",
       " 'Dell New Vostro 3400 Laptop, Intel i5-1135G7, Win11 + Office\\'21, 8GB GDDR4, 512GB SSD, 14\" (35.56Cms) FHD AG, Accent Black (D552256WIN9B, 1.59Kgs)',\n",
       " 'Lenovo IdeaPad Slim 5 11th Gen Intel Core i5 15.6\" FHD IPS Thin & Light Laptop(16GB/512GB SSD/Windows 11/Office 2021/Backlit/Fingerprint Reader/3months Xbox Game Pass/Graphite Grey/1.66Kg), 82FGO1H9IN',\n",
       " 'Redmi Book Pro Intel Core i5 11th Gen 15.6-inch(39.62 cms) Thin and Light Laptop (8GB/512 GB SSD/Windows 10 Home) (Charcoal Gray, 1.8 kg, with MS Office)',\n",
       " 'HP Pavilion 14 11th Gen Intel Core i5 14 inch(35.6 cm) Laptop, 8GB RAM/512GB SSD FHD IPS Micro-Edge Display/Iris Xe Graphics/Backlit KB/B&O Audio/Alexa/Windows 11 Home/Thin & Light/1.41kg, 14-dv1000TU',\n",
       " 'ASUS VivoBook Pro 14 OLED 2021, 14 inches 2.8K OLED 90Hz, Intel Core i5-11300H 11th Gen, Laptop (16GB/512GB SSD/Office 2021/Windows 11 Home /Iris Xe Graphics/1.4 kg) K3400PA-KM502WS',\n",
       " 'ASUS VivoBook 14 (2021), 14-inch (35.56 cm) FHD, Intel Core i5-1035G1 10th Gen, Thin and Light Laptop (8GB/1TB HDD/Office 2021/Windows 11/Integrated Graphics/Silver/1.6 kg), X415JA-EB501WS',\n",
       " 'HP Pavilion 14, 11th Gen Intel Core i7-16GB RAM/1TB SSD 14 inch(35.6 cm) Laptop/Intel Iris Xe Graphics/Backlit Keyboard/Alexa/B&O Audio/Fast Charge/FPR/Win 11/MS Office, 14-dv1029TU,Natural Silver',\n",
       " '(Refurbished) Dell Latitude Intel 2nd Gen Core i5 14 inches 1366x768 Business Laptop (4GB/250GB/Windows 7 Professional OEM COA/HD Graphics 3000/Greyish Silver/1.80Kg), E6420',\n",
       " '(Renewed) Dell Latitude E5470 Intel Core i5 6th Gen.6200u Processor 14.1 Inches HD Screen Notebook Computer (8 GB Ram & 256 GB SSD, Windows 10 Pro, 1.71Kg)',\n",
       " 'ASUS VivoBook 15 (2021) Intel Core i5-1035G1 10th Gen, 15.6\"(39.62cms) FHD Thin and Light Laptop (8GB RAM/512GB + 32GB Optane Memory/Windows 11/Office 2021/Silver/1.8 Kg), X515JA-EJ562WS',\n",
       " 'Honor MagicBook X 14, Intel Core i5-10210U 14 inch (35.56 cm) FHD IPS Anti-Glare Thin and Light Laptop (8GB/512GB PCIe SSD/Windows 10/1.38Kg), Gray, (NobleBR-WAH9E)',\n",
       " 'Mi Notebook Horizon Edition 14 Intel Core i7-10510U 10th Gen Thin and Light Laptop(8GB/512GB SSD/Windows 10/Nvidia MX350 2GB Graphics/Grey/1.35Kg)(Without Webcam) XMA1904-AF',\n",
       " 'MSI Creator M16, Intel i7-11800H, 16\" QHD+ IPS-Level 60Hz Panel Laptop (16GB/1TB NVMe SSD/Windows 10 Home/Nvidia RTX3050 Ti 4GB Graphics/Black/2.26Kg), A11UD-898IN']"
      ]
     },
     "execution_count": 18,
     "metadata": {},
     "output_type": "execute_result"
    }
   ],
   "source": [
    "for i in brands_tags:\n",
    "    brand=i.text\n",
    "    brands.append(brand)\n",
    "brands[0:100]"
   ]
  },
  {
   "cell_type": "code",
   "execution_count": 36,
   "id": "d8c5fd77",
   "metadata": {},
   "outputs": [
    {
     "data": {
      "text/plain": [
       "[<selenium.webdriver.remote.webelement.WebElement (session=\"712a7d9b3b1961b1622d4fca2267d1cf\", element=\"97aeb1a9-b1ef-46e6-b5fc-3f5fd7be44a2\")>]"
      ]
     },
     "execution_count": 36,
     "metadata": {},
     "output_type": "execute_result"
    }
   ],
   "source": [
    "ratings_tags=driver.find_elements_by_xpath('/html/body/div[1]/div[2]/div[1]/div[1]/div/span[3]/div[2]/div[6]/div/div/div/div/div/div[2]/div/div/div[2]/div/span[1]/span/a/i[1]')\n",
    "ratings_tags[0:100]"
   ]
  },
  {
   "cell_type": "code",
   "execution_count": 37,
   "id": "1ec123d9",
   "metadata": {},
   "outputs": [
    {
     "data": {
      "text/plain": [
       "['',\n",
       " '',\n",
       " '',\n",
       " '',\n",
       " '',\n",
       " '',\n",
       " '',\n",
       " '',\n",
       " '',\n",
       " '',\n",
       " '',\n",
       " '',\n",
       " '',\n",
       " '',\n",
       " '',\n",
       " '',\n",
       " '',\n",
       " '',\n",
       " '',\n",
       " '',\n",
       " '',\n",
       " '',\n",
       " '',\n",
       " '',\n",
       " '',\n",
       " '',\n",
       " '',\n",
       " '',\n",
       " '',\n",
       " '',\n",
       " '',\n",
       " '',\n",
       " '',\n",
       " '',\n",
       " '',\n",
       " '',\n",
       " '',\n",
       " '',\n",
       " '',\n",
       " '',\n",
       " '',\n",
       " <selenium.webdriver.remote.webelement.WebElement (session=\"712a7d9b3b1961b1622d4fca2267d1cf\", element=\"1d50191b-c511-4a90-a85d-e11a9ef54c03\")>,\n",
       " <selenium.webdriver.remote.webelement.WebElement (session=\"712a7d9b3b1961b1622d4fca2267d1cf\", element=\"9f93466c-de59-457e-aa0a-bacb651c0fd9\")>,\n",
       " <selenium.webdriver.remote.webelement.WebElement (session=\"712a7d9b3b1961b1622d4fca2267d1cf\", element=\"77dc1862-105c-4b69-8367-83ffd4e76188\")>,\n",
       " <selenium.webdriver.remote.webelement.WebElement (session=\"712a7d9b3b1961b1622d4fca2267d1cf\", element=\"f26f1359-7cf6-4c12-bc17-307b882fbdeb\")>,\n",
       " <selenium.webdriver.remote.webelement.WebElement (session=\"712a7d9b3b1961b1622d4fca2267d1cf\", element=\"0adff41c-4353-4501-b970-e75a8c97d968\")>,\n",
       " <selenium.webdriver.remote.webelement.WebElement (session=\"712a7d9b3b1961b1622d4fca2267d1cf\", element=\"cf33afee-efd8-4d70-ac2f-8662083a2c03\")>,\n",
       " <selenium.webdriver.remote.webelement.WebElement (session=\"712a7d9b3b1961b1622d4fca2267d1cf\", element=\"974f3659-86ea-4487-9b46-cf8fafdd16a9\")>,\n",
       " <selenium.webdriver.remote.webelement.WebElement (session=\"712a7d9b3b1961b1622d4fca2267d1cf\", element=\"0e212bfd-5b03-4f41-b61e-0df674f6d3e3\")>,\n",
       " <selenium.webdriver.remote.webelement.WebElement (session=\"712a7d9b3b1961b1622d4fca2267d1cf\", element=\"fdc695c2-efd1-479b-9956-51ac77c6ed9b\")>,\n",
       " <selenium.webdriver.remote.webelement.WebElement (session=\"712a7d9b3b1961b1622d4fca2267d1cf\", element=\"6842a231-49c4-4c91-aaa8-72706d6c40cf\")>,\n",
       " <selenium.webdriver.remote.webelement.WebElement (session=\"712a7d9b3b1961b1622d4fca2267d1cf\", element=\"adc7f5fc-d15c-4f14-bf55-371967dd741e\")>,\n",
       " <selenium.webdriver.remote.webelement.WebElement (session=\"712a7d9b3b1961b1622d4fca2267d1cf\", element=\"31a3d960-2503-4e07-a77e-25c57ed31140\")>,\n",
       " <selenium.webdriver.remote.webelement.WebElement (session=\"712a7d9b3b1961b1622d4fca2267d1cf\", element=\"15fdbe50-c4b8-46cd-8427-8511f9a68429\")>,\n",
       " <selenium.webdriver.remote.webelement.WebElement (session=\"712a7d9b3b1961b1622d4fca2267d1cf\", element=\"d40bd191-215c-48e4-a0b0-cd5ec2add950\")>,\n",
       " <selenium.webdriver.remote.webelement.WebElement (session=\"712a7d9b3b1961b1622d4fca2267d1cf\", element=\"f48d2d08-f9f7-4303-aa6f-09eb5d3c3094\")>,\n",
       " <selenium.webdriver.remote.webelement.WebElement (session=\"712a7d9b3b1961b1622d4fca2267d1cf\", element=\"87d8b6bb-dc28-4973-b112-52dbc9ffea57\")>,\n",
       " <selenium.webdriver.remote.webelement.WebElement (session=\"712a7d9b3b1961b1622d4fca2267d1cf\", element=\"b9133976-da6a-4ea2-9881-b414ca3ffa3e\")>,\n",
       " <selenium.webdriver.remote.webelement.WebElement (session=\"712a7d9b3b1961b1622d4fca2267d1cf\", element=\"be9e46a2-c05c-4d3c-a1c8-2c80b2728746\")>,\n",
       " <selenium.webdriver.remote.webelement.WebElement (session=\"712a7d9b3b1961b1622d4fca2267d1cf\", element=\"8f676c9e-4950-4980-bf25-f88b2e19062f\")>,\n",
       " <selenium.webdriver.remote.webelement.WebElement (session=\"712a7d9b3b1961b1622d4fca2267d1cf\", element=\"b8d9a3da-7456-40ad-8009-81c38c63936c\")>,\n",
       " '',\n",
       " '',\n",
       " '',\n",
       " '',\n",
       " '',\n",
       " '',\n",
       " '',\n",
       " '',\n",
       " '',\n",
       " '',\n",
       " '',\n",
       " '',\n",
       " '',\n",
       " '',\n",
       " '',\n",
       " '',\n",
       " '',\n",
       " '',\n",
       " '',\n",
       " '',\n",
       " '',\n",
       " '',\n",
       " '',\n",
       " '',\n",
       " '',\n",
       " '',\n",
       " '',\n",
       " '',\n",
       " '',\n",
       " '',\n",
       " '',\n",
       " '',\n",
       " '',\n",
       " '',\n",
       " '',\n",
       " '',\n",
       " '',\n",
       " '',\n",
       " '']"
      ]
     },
     "execution_count": 37,
     "metadata": {},
     "output_type": "execute_result"
    }
   ],
   "source": [
    "for i in ratings_tags:\n",
    "    rating=i.text\n",
    "    ratings.append(rating)\n",
    "ratings[0:100]"
   ]
  },
  {
   "cell_type": "code",
   "execution_count": 38,
   "id": "b0dbd8b1",
   "metadata": {},
   "outputs": [
    {
     "data": {
      "text/plain": [
       "[<selenium.webdriver.remote.webelement.WebElement (session=\"712a7d9b3b1961b1622d4fca2267d1cf\", element=\"024c804e-8dac-47b5-aadb-6d17a10d32d3\")>,\n",
       " <selenium.webdriver.remote.webelement.WebElement (session=\"712a7d9b3b1961b1622d4fca2267d1cf\", element=\"4f94bb06-91b6-4d11-9ea2-9a9489ff2e5a\")>,\n",
       " <selenium.webdriver.remote.webelement.WebElement (session=\"712a7d9b3b1961b1622d4fca2267d1cf\", element=\"d7fe145b-7669-4c59-8bf4-564e61092744\")>,\n",
       " <selenium.webdriver.remote.webelement.WebElement (session=\"712a7d9b3b1961b1622d4fca2267d1cf\", element=\"65979c34-3959-40a3-b047-b4bef2add3f8\")>,\n",
       " <selenium.webdriver.remote.webelement.WebElement (session=\"712a7d9b3b1961b1622d4fca2267d1cf\", element=\"810b2741-9363-4a9d-8580-b81dbf4e2d9c\")>,\n",
       " <selenium.webdriver.remote.webelement.WebElement (session=\"712a7d9b3b1961b1622d4fca2267d1cf\", element=\"a69dbf33-0e85-49aa-a60b-c5bb6de63226\")>,\n",
       " <selenium.webdriver.remote.webelement.WebElement (session=\"712a7d9b3b1961b1622d4fca2267d1cf\", element=\"e98d115c-4668-4b9d-a146-806a922a99e0\")>,\n",
       " <selenium.webdriver.remote.webelement.WebElement (session=\"712a7d9b3b1961b1622d4fca2267d1cf\", element=\"21a44b62-99e6-4301-b79d-02f6fe5ad02e\")>,\n",
       " <selenium.webdriver.remote.webelement.WebElement (session=\"712a7d9b3b1961b1622d4fca2267d1cf\", element=\"e7d53d9f-42c0-4b38-a1fe-c2fb8c599450\")>,\n",
       " <selenium.webdriver.remote.webelement.WebElement (session=\"712a7d9b3b1961b1622d4fca2267d1cf\", element=\"ec239094-645d-4c83-b3dd-d587b8bb0189\")>,\n",
       " <selenium.webdriver.remote.webelement.WebElement (session=\"712a7d9b3b1961b1622d4fca2267d1cf\", element=\"6b366bf1-78b5-44f8-9acf-b2fc7b774fd4\")>,\n",
       " <selenium.webdriver.remote.webelement.WebElement (session=\"712a7d9b3b1961b1622d4fca2267d1cf\", element=\"82c51594-6679-4530-b066-3dbc46e8fe14\")>,\n",
       " <selenium.webdriver.remote.webelement.WebElement (session=\"712a7d9b3b1961b1622d4fca2267d1cf\", element=\"e28992cd-ab3f-4836-870b-5b9b82f85dec\")>,\n",
       " <selenium.webdriver.remote.webelement.WebElement (session=\"712a7d9b3b1961b1622d4fca2267d1cf\", element=\"e68d67d7-6daf-409e-a241-007f18841c7a\")>,\n",
       " <selenium.webdriver.remote.webelement.WebElement (session=\"712a7d9b3b1961b1622d4fca2267d1cf\", element=\"f3a4f047-aede-44ac-8197-8453a1b12d39\")>,\n",
       " <selenium.webdriver.remote.webelement.WebElement (session=\"712a7d9b3b1961b1622d4fca2267d1cf\", element=\"9d2e5f27-2b91-4ec7-bf77-2022c62561fe\")>,\n",
       " <selenium.webdriver.remote.webelement.WebElement (session=\"712a7d9b3b1961b1622d4fca2267d1cf\", element=\"33defe88-291f-49de-9910-1daa29919402\")>,\n",
       " <selenium.webdriver.remote.webelement.WebElement (session=\"712a7d9b3b1961b1622d4fca2267d1cf\", element=\"b2327a2c-a798-4172-9ccc-57c962694990\")>,\n",
       " <selenium.webdriver.remote.webelement.WebElement (session=\"712a7d9b3b1961b1622d4fca2267d1cf\", element=\"ac85814c-743d-40f9-bebc-89ffddf54ee4\")>,\n",
       " <selenium.webdriver.remote.webelement.WebElement (session=\"712a7d9b3b1961b1622d4fca2267d1cf\", element=\"e13cc610-a4e2-4ccb-871c-926b9008f861\")>,\n",
       " <selenium.webdriver.remote.webelement.WebElement (session=\"712a7d9b3b1961b1622d4fca2267d1cf\", element=\"7afb73dc-0519-4b2e-9529-9640cf282037\")>,\n",
       " <selenium.webdriver.remote.webelement.WebElement (session=\"712a7d9b3b1961b1622d4fca2267d1cf\", element=\"9a34e7ff-9ec2-481e-a343-bc684008dafb\")>,\n",
       " <selenium.webdriver.remote.webelement.WebElement (session=\"712a7d9b3b1961b1622d4fca2267d1cf\", element=\"dfa622fb-b0e3-4ec3-8acd-042ed096da8f\")>,\n",
       " <selenium.webdriver.remote.webelement.WebElement (session=\"712a7d9b3b1961b1622d4fca2267d1cf\", element=\"768123c2-1e53-400c-8ed9-9ec07227df83\")>,\n",
       " <selenium.webdriver.remote.webelement.WebElement (session=\"712a7d9b3b1961b1622d4fca2267d1cf\", element=\"88284740-9667-4d90-a8f7-de606c834eaa\")>,\n",
       " <selenium.webdriver.remote.webelement.WebElement (session=\"712a7d9b3b1961b1622d4fca2267d1cf\", element=\"161704f9-570f-4c7d-986a-400b296623d3\")>,\n",
       " <selenium.webdriver.remote.webelement.WebElement (session=\"712a7d9b3b1961b1622d4fca2267d1cf\", element=\"64e35d5e-28bb-41c1-9510-7ee1bb03a157\")>,\n",
       " <selenium.webdriver.remote.webelement.WebElement (session=\"712a7d9b3b1961b1622d4fca2267d1cf\", element=\"d1a52862-262a-46c1-a42f-d85d48bdf672\")>,\n",
       " <selenium.webdriver.remote.webelement.WebElement (session=\"712a7d9b3b1961b1622d4fca2267d1cf\", element=\"9b3f81d7-7023-439e-8455-a3a5968282a1\")>,\n",
       " <selenium.webdriver.remote.webelement.WebElement (session=\"712a7d9b3b1961b1622d4fca2267d1cf\", element=\"16e4fea1-a44a-4f82-b95f-64c021e6eb4e\")>,\n",
       " <selenium.webdriver.remote.webelement.WebElement (session=\"712a7d9b3b1961b1622d4fca2267d1cf\", element=\"c0b50a6b-7493-43c0-9e2b-39619a0084eb\")>,\n",
       " <selenium.webdriver.remote.webelement.WebElement (session=\"712a7d9b3b1961b1622d4fca2267d1cf\", element=\"56e63875-7155-4bfa-afc8-eae5494b96f4\")>]"
      ]
     },
     "execution_count": 38,
     "metadata": {},
     "output_type": "execute_result"
    }
   ],
   "source": [
    "prices_tags=driver.find_elements_by_xpath(\"//span[@class='a-price']\")\n",
    "prices_tags[0:100]"
   ]
  },
  {
   "cell_type": "code",
   "execution_count": 39,
   "id": "f95d95da",
   "metadata": {},
   "outputs": [
    {
     "data": {
      "text/plain": [
       "['₹79,290',\n",
       " '₹68,490',\n",
       " '₹61,990',\n",
       " '₹48,610',\n",
       " '₹62,299',\n",
       " '₹58,490',\n",
       " '₹68,490',\n",
       " '₹46,490',\n",
       " '₹47,990',\n",
       " '₹54,590',\n",
       " '₹48,800',\n",
       " '₹53,990',\n",
       " '₹64,890',\n",
       " '₹79,990',\n",
       " '₹50,890',\n",
       " '₹63,843',\n",
       " '₹57,490',\n",
       " '₹53,390',\n",
       " '₹63,843',\n",
       " '₹46,999',\n",
       " '₹40,587',\n",
       " '₹58,450',\n",
       " '₹64,990',\n",
       " '₹42,990',\n",
       " '₹86,990',\n",
       " '₹18,837',\n",
       " '₹27,299',\n",
       " '₹46,990',\n",
       " '₹51,990',\n",
       " '₹44,192',\n",
       " '₹58,999',\n",
       " '₹1,39,990']"
      ]
     },
     "execution_count": 39,
     "metadata": {},
     "output_type": "execute_result"
    }
   ],
   "source": [
    "for i in prices_tags:\n",
    "    price=i.text\n",
    "    prices.append(price)\n",
    "prices[0:100]"
   ]
  },
  {
   "cell_type": "code",
   "execution_count": 40,
   "id": "b1bd355a",
   "metadata": {},
   "outputs": [
    {
     "name": "stdout",
     "output_type": "stream",
     "text": [
      "30 167 32\n"
     ]
    }
   ],
   "source": [
    "print(len(brands),len(ratings),len(prices))"
   ]
  },
  {
   "cell_type": "code",
   "execution_count": 42,
   "id": "25a4189d",
   "metadata": {},
   "outputs": [],
   "source": [
    "lap=pd.DataFrame({})\n",
    "lap['BRAND']=brands[0:10]\n",
    "lap['RATING']=ratings[0:10]\n",
    "lap['PRICE']=prices[0:10]"
   ]
  },
  {
   "cell_type": "code",
   "execution_count": 43,
   "id": "412f87a9",
   "metadata": {},
   "outputs": [
    {
     "data": {
      "text/html": [
       "<div>\n",
       "<style scoped>\n",
       "    .dataframe tbody tr th:only-of-type {\n",
       "        vertical-align: middle;\n",
       "    }\n",
       "\n",
       "    .dataframe tbody tr th {\n",
       "        vertical-align: top;\n",
       "    }\n",
       "\n",
       "    .dataframe thead th {\n",
       "        text-align: right;\n",
       "    }\n",
       "</style>\n",
       "<table border=\"1\" class=\"dataframe\">\n",
       "  <thead>\n",
       "    <tr style=\"text-align: right;\">\n",
       "      <th></th>\n",
       "      <th>BRAND</th>\n",
       "      <th>RATING</th>\n",
       "      <th>PRICE</th>\n",
       "    </tr>\n",
       "  </thead>\n",
       "  <tbody>\n",
       "    <tr>\n",
       "      <th>0</th>\n",
       "      <td>Microsoft Surface Pro 7 VDV-00015 12.3\" (31.24...</td>\n",
       "      <td></td>\n",
       "      <td>₹79,290</td>\n",
       "    </tr>\n",
       "    <tr>\n",
       "      <th>1</th>\n",
       "      <td>Dell 15 (2021) Intel i5-11300H, Inspiron 5518 ...</td>\n",
       "      <td></td>\n",
       "      <td>₹68,490</td>\n",
       "    </tr>\n",
       "    <tr>\n",
       "      <th>2</th>\n",
       "      <td>Lenovo ThinkBook 14 Intel Core i5 11th Gen 14\"...</td>\n",
       "      <td></td>\n",
       "      <td>₹61,990</td>\n",
       "    </tr>\n",
       "    <tr>\n",
       "      <th>3</th>\n",
       "      <td>MSI Modern 14, Intel i5-10210U, 14\" FHD IPS-Le...</td>\n",
       "      <td></td>\n",
       "      <td>₹48,610</td>\n",
       "    </tr>\n",
       "    <tr>\n",
       "      <th>4</th>\n",
       "      <td>ASUS TUF Gaming F15 (2021), 15.6\" (39.62 cms) ...</td>\n",
       "      <td></td>\n",
       "      <td>₹62,299</td>\n",
       "    </tr>\n",
       "    <tr>\n",
       "      <th>5</th>\n",
       "      <td>Mi Notebook Pro QHD+ IPS Anti Glare Display In...</td>\n",
       "      <td></td>\n",
       "      <td>₹58,490</td>\n",
       "    </tr>\n",
       "    <tr>\n",
       "      <th>6</th>\n",
       "      <td>Dell 15 (2021) Intel i5-11300H, Inspiron 5518 ...</td>\n",
       "      <td></td>\n",
       "      <td>₹68,490</td>\n",
       "    </tr>\n",
       "    <tr>\n",
       "      <th>7</th>\n",
       "      <td>Acer Aspire 3 Intel Core i5 11th Generation 15...</td>\n",
       "      <td></td>\n",
       "      <td>₹46,490</td>\n",
       "    </tr>\n",
       "    <tr>\n",
       "      <th>8</th>\n",
       "      <td>Lenovo IdeaPad 3 10th Gen Intel Core i5 15.6\" ...</td>\n",
       "      <td></td>\n",
       "      <td>₹47,990</td>\n",
       "    </tr>\n",
       "    <tr>\n",
       "      <th>9</th>\n",
       "      <td>HP 15s 11th Gen Intel Core i5 15.6 inch(39.6 c...</td>\n",
       "      <td></td>\n",
       "      <td>₹54,590</td>\n",
       "    </tr>\n",
       "  </tbody>\n",
       "</table>\n",
       "</div>"
      ],
      "text/plain": [
       "                                               BRAND RATING    PRICE\n",
       "0  Microsoft Surface Pro 7 VDV-00015 12.3\" (31.24...         ₹79,290\n",
       "1  Dell 15 (2021) Intel i5-11300H, Inspiron 5518 ...         ₹68,490\n",
       "2  Lenovo ThinkBook 14 Intel Core i5 11th Gen 14\"...         ₹61,990\n",
       "3  MSI Modern 14, Intel i5-10210U, 14\" FHD IPS-Le...         ₹48,610\n",
       "4  ASUS TUF Gaming F15 (2021), 15.6\" (39.62 cms) ...         ₹62,299\n",
       "5  Mi Notebook Pro QHD+ IPS Anti Glare Display In...         ₹58,490\n",
       "6  Dell 15 (2021) Intel i5-11300H, Inspiron 5518 ...         ₹68,490\n",
       "7  Acer Aspire 3 Intel Core i5 11th Generation 15...         ₹46,490\n",
       "8  Lenovo IdeaPad 3 10th Gen Intel Core i5 15.6\" ...         ₹47,990\n",
       "9  HP 15s 11th Gen Intel Core i5 15.6 inch(39.6 c...         ₹54,590"
      ]
     },
     "execution_count": 43,
     "metadata": {},
     "output_type": "execute_result"
    }
   ],
   "source": [
    "lap"
   ]
  },
  {
   "cell_type": "code",
   "execution_count": null,
   "id": "9ca88c20",
   "metadata": {},
   "outputs": [],
   "source": []
  }
 ],
 "metadata": {
  "kernelspec": {
   "display_name": "Python 3 (ipykernel)",
   "language": "python",
   "name": "python3"
  },
  "language_info": {
   "codemirror_mode": {
    "name": "ipython",
    "version": 3
   },
   "file_extension": ".py",
   "mimetype": "text/x-python",
   "name": "python",
   "nbconvert_exporter": "python",
   "pygments_lexer": "ipython3",
   "version": "3.9.7"
  }
 },
 "nbformat": 4,
 "nbformat_minor": 5
}
