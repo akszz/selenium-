{
 "cells": [
  {
   "cell_type": "code",
   "execution_count": null,
   "id": "0695a803",
   "metadata": {},
   "outputs": [],
   "source": [
    "http://www.naukri.com/"
   ]
  },
  {
   "cell_type": "code",
   "execution_count": 1,
   "id": "f7b8004a",
   "metadata": {},
   "outputs": [],
   "source": [
    "import selenium\n",
    "import pandas as pd\n",
    "from selenium import webdriver\n",
    "import warnings\n",
    "warnings.filterwarnings(\"ignore\")\n",
    "import time"
   ]
  },
  {
   "cell_type": "code",
   "execution_count": 2,
   "id": "12ecc3dd",
   "metadata": {},
   "outputs": [],
   "source": [
    "driver = webdriver.Chrome(r\"C:\\Users\\chromedriver.exe\")"
   ]
  },
  {
   "cell_type": "code",
   "execution_count": 3,
   "id": "3d089139",
   "metadata": {},
   "outputs": [],
   "source": [
    "driver=webdriver.Chrome(\"chromedriver.exe\")\n",
    "time.sleep(2)"
   ]
  },
  {
   "cell_type": "code",
   "execution_count": 4,
   "id": "afcb7d17",
   "metadata": {},
   "outputs": [],
   "source": [
    "driver.get('https://www.naukri.com/')"
   ]
  },
  {
   "cell_type": "code",
   "execution_count": 5,
   "id": "d02c76be",
   "metadata": {},
   "outputs": [],
   "source": [
    "search_field_designation=driver.find_element_by_class_name(\"suggestor-input \")\n",
    "search_field_designation.send_keys(\"Data scientist\")"
   ]
  },
  {
   "cell_type": "code",
   "execution_count": 6,
   "id": "32af5871",
   "metadata": {},
   "outputs": [],
   "source": [
    "search_field_location=driver.find_element_by_xpath('/html/body/div/div[2]/div[3]/div/div/div[3]/div/div/div/input')\n",
    "search_field_location.send_keys(\"Bangalore\")"
   ]
  },
  {
   "cell_type": "code",
   "execution_count": 7,
   "id": "6d79addb",
   "metadata": {},
   "outputs": [],
   "source": [
    "search_button=driver.find_element_by_xpath('/html/body/div/div[2]/div[3]/div/div/div[6]')\n",
    "search_button.click()"
   ]
  },
  {
   "cell_type": "code",
   "execution_count": 8,
   "id": "d09c7ec5",
   "metadata": {},
   "outputs": [],
   "source": [
    "job_titles=[]\n",
    "company_names=[]\n",
    "locations_list=[]\n",
    "\n"
   ]
  },
  {
   "cell_type": "code",
   "execution_count": 9,
   "id": "98617b1d",
   "metadata": {},
   "outputs": [
    {
     "data": {
      "text/plain": [
       "[<selenium.webdriver.remote.webelement.WebElement (session=\"5a651d80faa0ef0045f4ad36334c4c55\", element=\"2b58f835-a2c6-49ea-a0b7-a42f6b12372a\")>,\n",
       " <selenium.webdriver.remote.webelement.WebElement (session=\"5a651d80faa0ef0045f4ad36334c4c55\", element=\"f5cc15a0-3ffc-45de-afb9-4010371b6f42\")>,\n",
       " <selenium.webdriver.remote.webelement.WebElement (session=\"5a651d80faa0ef0045f4ad36334c4c55\", element=\"9ddd5690-2b24-4e87-8fcb-aa2327d0051e\")>,\n",
       " <selenium.webdriver.remote.webelement.WebElement (session=\"5a651d80faa0ef0045f4ad36334c4c55\", element=\"8192c11c-6384-4443-8be4-a62c4b70d2ef\")>,\n",
       " <selenium.webdriver.remote.webelement.WebElement (session=\"5a651d80faa0ef0045f4ad36334c4c55\", element=\"4f81c7f6-45b7-4bec-961d-09a25649ca7a\")>,\n",
       " <selenium.webdriver.remote.webelement.WebElement (session=\"5a651d80faa0ef0045f4ad36334c4c55\", element=\"48db18ac-1540-49f8-a881-f394eb7c53a9\")>,\n",
       " <selenium.webdriver.remote.webelement.WebElement (session=\"5a651d80faa0ef0045f4ad36334c4c55\", element=\"2533b6b8-5df8-40c9-9ab6-b147c4f076f9\")>,\n",
       " <selenium.webdriver.remote.webelement.WebElement (session=\"5a651d80faa0ef0045f4ad36334c4c55\", element=\"dad10163-c035-4204-8dbd-83143f3f6b68\")>,\n",
       " <selenium.webdriver.remote.webelement.WebElement (session=\"5a651d80faa0ef0045f4ad36334c4c55\", element=\"7fb21612-0143-4c77-a625-c6e56a4c4810\")>,\n",
       " <selenium.webdriver.remote.webelement.WebElement (session=\"5a651d80faa0ef0045f4ad36334c4c55\", element=\"f167119b-8ec7-4710-90cf-ef6f188008d3\")>]"
      ]
     },
     "execution_count": 9,
     "metadata": {},
     "output_type": "execute_result"
    }
   ],
   "source": [
    "titles_tags=driver.find_elements_by_xpath(\"//a[@class='title fw500 ellipsis']\")\n",
    "titles_tags[0:10]"
   ]
  },
  {
   "cell_type": "code",
   "execution_count": 10,
   "id": "1848b5fe",
   "metadata": {},
   "outputs": [
    {
     "data": {
      "text/plain": [
       "['Senior Data Scientist Grade12',\n",
       " 'Senior Data Scientist Grade12',\n",
       " 'Senior Data Scientist',\n",
       " 'Data Scientist',\n",
       " 'Data Scientist',\n",
       " 'Data Scientist, Machine Learning (AIML)',\n",
       " 'Cognitive/AI Senior Data Scientist',\n",
       " 'Lead - Data Scientist',\n",
       " 'DATA SCIENTIST',\n",
       " 'Data Scientist']"
      ]
     },
     "execution_count": 10,
     "metadata": {},
     "output_type": "execute_result"
    }
   ],
   "source": [
    "for i in titles_tags:\n",
    "    title=i.text\n",
    "    job_titles.append(title)\n",
    "job_titles[0:10]"
   ]
  },
  {
   "cell_type": "code",
   "execution_count": 11,
   "id": "3d81922a",
   "metadata": {},
   "outputs": [
    {
     "data": {
      "text/plain": [
       "[<selenium.webdriver.remote.webelement.WebElement (session=\"5a651d80faa0ef0045f4ad36334c4c55\", element=\"5e8e9f00-1112-431c-b80f-4f4e6cc5b8c2\")>,\n",
       " <selenium.webdriver.remote.webelement.WebElement (session=\"5a651d80faa0ef0045f4ad36334c4c55\", element=\"48bfe90d-0d4b-487b-881e-cf8eba8925d5\")>,\n",
       " <selenium.webdriver.remote.webelement.WebElement (session=\"5a651d80faa0ef0045f4ad36334c4c55\", element=\"91af1090-700a-42f8-9268-05b56ff0ff27\")>,\n",
       " <selenium.webdriver.remote.webelement.WebElement (session=\"5a651d80faa0ef0045f4ad36334c4c55\", element=\"f5548170-5bd4-4965-b5ea-29139dcd840d\")>,\n",
       " <selenium.webdriver.remote.webelement.WebElement (session=\"5a651d80faa0ef0045f4ad36334c4c55\", element=\"ce2dc14c-a9d4-4ceb-ac12-b7d0e13f52ff\")>,\n",
       " <selenium.webdriver.remote.webelement.WebElement (session=\"5a651d80faa0ef0045f4ad36334c4c55\", element=\"8b5fcc8a-3948-46ea-b78e-112bdc2d0798\")>,\n",
       " <selenium.webdriver.remote.webelement.WebElement (session=\"5a651d80faa0ef0045f4ad36334c4c55\", element=\"e7a2c40a-61fe-42ec-b7e3-c24b435b8753\")>,\n",
       " <selenium.webdriver.remote.webelement.WebElement (session=\"5a651d80faa0ef0045f4ad36334c4c55\", element=\"8ecb6537-bcc8-447c-92bc-10b0eb469f9f\")>,\n",
       " <selenium.webdriver.remote.webelement.WebElement (session=\"5a651d80faa0ef0045f4ad36334c4c55\", element=\"48f2760c-9a39-417b-b76b-921d37c8d063\")>,\n",
       " <selenium.webdriver.remote.webelement.WebElement (session=\"5a651d80faa0ef0045f4ad36334c4c55\", element=\"6fcec419-9efe-4d84-80cc-4fa5b7ac2e70\")>]"
      ]
     },
     "execution_count": 11,
     "metadata": {},
     "output_type": "execute_result"
    }
   ],
   "source": [
    "companies_tags=driver.find_elements_by_xpath(\"//a[@class='subTitle ellipsis fleft']\")\n",
    "companies_tags[0:10]"
   ]
  },
  {
   "cell_type": "code",
   "execution_count": 12,
   "id": "9191d95a",
   "metadata": {},
   "outputs": [
    {
     "data": {
      "text/plain": [
       "['Flipkart',\n",
       " 'Flipkart',\n",
       " 'Fractal Analytics',\n",
       " 'Genpact',\n",
       " 'VISA',\n",
       " 'Fractal Analytics',\n",
       " 'IBM',\n",
       " 'Applied Materials',\n",
       " 'Kyndryl',\n",
       " 'Aidetic Software Pvt Ltd']"
      ]
     },
     "execution_count": 12,
     "metadata": {},
     "output_type": "execute_result"
    }
   ],
   "source": [
    "for i in companies_tags:\n",
    "    company_name=i.text\n",
    "    company_names.append(company_name)\n",
    "company_names[0:10]"
   ]
  },
  {
   "cell_type": "code",
   "execution_count": 17,
   "id": "2f31617f",
   "metadata": {},
   "outputs": [
    {
     "data": {
      "text/plain": [
       "[<selenium.webdriver.remote.webelement.WebElement (session=\"5a651d80faa0ef0045f4ad36334c4c55\", element=\"c0a060a2-e3d3-440b-adae-a9f5e8ab6ecf\")>,\n",
       " <selenium.webdriver.remote.webelement.WebElement (session=\"5a651d80faa0ef0045f4ad36334c4c55\", element=\"dfec9846-f3a2-4061-8a48-48a5210da4fc\")>,\n",
       " <selenium.webdriver.remote.webelement.WebElement (session=\"5a651d80faa0ef0045f4ad36334c4c55\", element=\"40e916b4-b4d8-4508-bb96-eb58c909a4c8\")>,\n",
       " <selenium.webdriver.remote.webelement.WebElement (session=\"5a651d80faa0ef0045f4ad36334c4c55\", element=\"022f7d19-9775-4952-b018-6a6eebea1bf2\")>,\n",
       " <selenium.webdriver.remote.webelement.WebElement (session=\"5a651d80faa0ef0045f4ad36334c4c55\", element=\"8a825f39-920c-49b1-bbbb-75f33d34a1cd\")>,\n",
       " <selenium.webdriver.remote.webelement.WebElement (session=\"5a651d80faa0ef0045f4ad36334c4c55\", element=\"ab46c401-003e-4c9f-8398-5506eb049349\")>,\n",
       " <selenium.webdriver.remote.webelement.WebElement (session=\"5a651d80faa0ef0045f4ad36334c4c55\", element=\"3f76b384-bf2e-4b04-a89f-1c4d7bab914c\")>,\n",
       " <selenium.webdriver.remote.webelement.WebElement (session=\"5a651d80faa0ef0045f4ad36334c4c55\", element=\"5871b45d-4536-4365-b7cd-891684a8f89b\")>,\n",
       " <selenium.webdriver.remote.webelement.WebElement (session=\"5a651d80faa0ef0045f4ad36334c4c55\", element=\"62756ae6-0d60-42da-828f-17cbd57345fa\")>,\n",
       " <selenium.webdriver.remote.webelement.WebElement (session=\"5a651d80faa0ef0045f4ad36334c4c55\", element=\"b4fe06df-f7d0-40c7-8bff-4865eb881326\")>]"
      ]
     },
     "execution_count": 17,
     "metadata": {},
     "output_type": "execute_result"
    }
   ],
   "source": [
    "experience_tags=driver.find_elements_by_xpath(\"//li[@class='fleft grey-text br2 placeHolderLi experience']/span\")\n",
    "experience_tags[0:10]"
   ]
  },
  {
   "cell_type": "code",
   "execution_count": 18,
   "id": "6da0955e",
   "metadata": {},
   "outputs": [
    {
     "data": {
      "text/plain": [
       "[<selenium.webdriver.remote.webelement.WebElement (session=\"5a651d80faa0ef0045f4ad36334c4c55\", element=\"2626a1b3-af31-4481-b563-1d440fe56932\")>,\n",
       " <selenium.webdriver.remote.webelement.WebElement (session=\"5a651d80faa0ef0045f4ad36334c4c55\", element=\"9cfa843a-a24e-4fb1-8fc7-303597b481f4\")>,\n",
       " <selenium.webdriver.remote.webelement.WebElement (session=\"5a651d80faa0ef0045f4ad36334c4c55\", element=\"3d8c5a53-44b2-457f-a3e8-10c1f14ae85f\")>,\n",
       " <selenium.webdriver.remote.webelement.WebElement (session=\"5a651d80faa0ef0045f4ad36334c4c55\", element=\"e5603cd2-8fd0-40b0-8b57-1e5497ba345f\")>,\n",
       " <selenium.webdriver.remote.webelement.WebElement (session=\"5a651d80faa0ef0045f4ad36334c4c55\", element=\"a6414f73-a641-4b42-9331-05bd295c1221\")>,\n",
       " <selenium.webdriver.remote.webelement.WebElement (session=\"5a651d80faa0ef0045f4ad36334c4c55\", element=\"f2e688c3-4b24-476f-bf9a-0f787914dc9e\")>,\n",
       " <selenium.webdriver.remote.webelement.WebElement (session=\"5a651d80faa0ef0045f4ad36334c4c55\", element=\"7436f6d0-c996-4ebb-ad1e-1b2385473ce8\")>,\n",
       " <selenium.webdriver.remote.webelement.WebElement (session=\"5a651d80faa0ef0045f4ad36334c4c55\", element=\"76000238-a130-4b87-9820-af06de716367\")>,\n",
       " <selenium.webdriver.remote.webelement.WebElement (session=\"5a651d80faa0ef0045f4ad36334c4c55\", element=\"ca937244-0865-45af-9ab1-e7f6cf15a294\")>,\n",
       " <selenium.webdriver.remote.webelement.WebElement (session=\"5a651d80faa0ef0045f4ad36334c4c55\", element=\"e058d87a-deb2-46e7-8d54-e45ee44c5620\")>]"
      ]
     },
     "execution_count": 18,
     "metadata": {},
     "output_type": "execute_result"
    }
   ],
   "source": [
    "locations_tags=driver.find_elements_by_xpath(\"//li[@class='fleft grey-text br2 placeHolderLi location']/span[1]\")\n",
    "locations_tags[0:10]"
   ]
  },
  {
   "cell_type": "code",
   "execution_count": 25,
   "id": "671c250e",
   "metadata": {},
   "outputs": [
    {
     "data": {
      "text/plain": [
       "['Bangalore/Bengaluru',\n",
       " 'Bangalore/Bengaluru',\n",
       " 'Bangalore/Bengaluru',\n",
       " 'Hyderabad/Secunderabad, Bangalore/Bengaluru, Delhi / NCR',\n",
       " 'Bangalore/Bengaluru',\n",
       " 'Bangalore/Bengaluru',\n",
       " 'Bangalore/Bengaluru',\n",
       " 'Bangalore/Bengaluru',\n",
       " 'Bangalore/Bengaluru',\n",
       " 'Bangalore/Bengaluru']"
      ]
     },
     "execution_count": 25,
     "metadata": {},
     "output_type": "execute_result"
    }
   ],
   "source": [
    "for i in locations_tags:\n",
    "    location=i.text\n",
    "    locations_list.append(location)\n",
    "locations_list[0:10]"
   ]
  },
  {
   "cell_type": "code",
   "execution_count": 27,
   "id": "d2ce2719",
   "metadata": {},
   "outputs": [],
   "source": [
    "jobs=pd.DataFrame({})\n",
    "jobs['title']=job_titles[0:10]\n",
    "jobs['company']=company_names[0:10]\n",
    "jobs['location']=locations_list[0:10]"
   ]
  },
  {
   "cell_type": "code",
   "execution_count": 28,
   "id": "7084bcd2",
   "metadata": {},
   "outputs": [
    {
     "data": {
      "text/html": [
       "<div>\n",
       "<style scoped>\n",
       "    .dataframe tbody tr th:only-of-type {\n",
       "        vertical-align: middle;\n",
       "    }\n",
       "\n",
       "    .dataframe tbody tr th {\n",
       "        vertical-align: top;\n",
       "    }\n",
       "\n",
       "    .dataframe thead th {\n",
       "        text-align: right;\n",
       "    }\n",
       "</style>\n",
       "<table border=\"1\" class=\"dataframe\">\n",
       "  <thead>\n",
       "    <tr style=\"text-align: right;\">\n",
       "      <th></th>\n",
       "      <th>title</th>\n",
       "      <th>company</th>\n",
       "      <th>location</th>\n",
       "    </tr>\n",
       "  </thead>\n",
       "  <tbody>\n",
       "    <tr>\n",
       "      <th>0</th>\n",
       "      <td>Senior Data Scientist Grade12</td>\n",
       "      <td>Flipkart</td>\n",
       "      <td>Bangalore/Bengaluru</td>\n",
       "    </tr>\n",
       "    <tr>\n",
       "      <th>1</th>\n",
       "      <td>Senior Data Scientist Grade12</td>\n",
       "      <td>Flipkart</td>\n",
       "      <td>Bangalore/Bengaluru</td>\n",
       "    </tr>\n",
       "    <tr>\n",
       "      <th>2</th>\n",
       "      <td>Senior Data Scientist</td>\n",
       "      <td>Fractal Analytics</td>\n",
       "      <td>Bangalore/Bengaluru</td>\n",
       "    </tr>\n",
       "    <tr>\n",
       "      <th>3</th>\n",
       "      <td>Data Scientist</td>\n",
       "      <td>Genpact</td>\n",
       "      <td>Hyderabad/Secunderabad, Bangalore/Bengaluru, D...</td>\n",
       "    </tr>\n",
       "    <tr>\n",
       "      <th>4</th>\n",
       "      <td>Data Scientist</td>\n",
       "      <td>VISA</td>\n",
       "      <td>Bangalore/Bengaluru</td>\n",
       "    </tr>\n",
       "    <tr>\n",
       "      <th>5</th>\n",
       "      <td>Data Scientist, Machine Learning (AIML)</td>\n",
       "      <td>Fractal Analytics</td>\n",
       "      <td>Bangalore/Bengaluru</td>\n",
       "    </tr>\n",
       "    <tr>\n",
       "      <th>6</th>\n",
       "      <td>Cognitive/AI Senior Data Scientist</td>\n",
       "      <td>IBM</td>\n",
       "      <td>Bangalore/Bengaluru</td>\n",
       "    </tr>\n",
       "    <tr>\n",
       "      <th>7</th>\n",
       "      <td>Lead - Data Scientist</td>\n",
       "      <td>Applied Materials</td>\n",
       "      <td>Bangalore/Bengaluru</td>\n",
       "    </tr>\n",
       "    <tr>\n",
       "      <th>8</th>\n",
       "      <td>DATA SCIENTIST</td>\n",
       "      <td>Kyndryl</td>\n",
       "      <td>Bangalore/Bengaluru</td>\n",
       "    </tr>\n",
       "    <tr>\n",
       "      <th>9</th>\n",
       "      <td>Data Scientist</td>\n",
       "      <td>Aidetic Software Pvt Ltd</td>\n",
       "      <td>Bangalore/Bengaluru</td>\n",
       "    </tr>\n",
       "  </tbody>\n",
       "</table>\n",
       "</div>"
      ],
      "text/plain": [
       "                                     title                   company  \\\n",
       "0            Senior Data Scientist Grade12                  Flipkart   \n",
       "1            Senior Data Scientist Grade12                  Flipkart   \n",
       "2                    Senior Data Scientist         Fractal Analytics   \n",
       "3                           Data Scientist                   Genpact   \n",
       "4                           Data Scientist                      VISA   \n",
       "5  Data Scientist, Machine Learning (AIML)         Fractal Analytics   \n",
       "6       Cognitive/AI Senior Data Scientist                       IBM   \n",
       "7                    Lead - Data Scientist         Applied Materials   \n",
       "8                           DATA SCIENTIST                   Kyndryl   \n",
       "9                           Data Scientist  Aidetic Software Pvt Ltd   \n",
       "\n",
       "                                            location  \n",
       "0                                Bangalore/Bengaluru  \n",
       "1                                Bangalore/Bengaluru  \n",
       "2                                Bangalore/Bengaluru  \n",
       "3  Hyderabad/Secunderabad, Bangalore/Bengaluru, D...  \n",
       "4                                Bangalore/Bengaluru  \n",
       "5                                Bangalore/Bengaluru  \n",
       "6                                Bangalore/Bengaluru  \n",
       "7                                Bangalore/Bengaluru  \n",
       "8                                Bangalore/Bengaluru  \n",
       "9                                Bangalore/Bengaluru  "
      ]
     },
     "execution_count": 28,
     "metadata": {},
     "output_type": "execute_result"
    }
   ],
   "source": [
    "jobs"
   ]
  },
  {
   "cell_type": "code",
   "execution_count": null,
   "id": "908e8a3d",
   "metadata": {},
   "outputs": [],
   "source": []
  }
 ],
 "metadata": {
  "kernelspec": {
   "display_name": "Python 3 (ipykernel)",
   "language": "python",
   "name": "python3"
  },
  "language_info": {
   "codemirror_mode": {
    "name": "ipython",
    "version": 3
   },
   "file_extension": ".py",
   "mimetype": "text/x-python",
   "name": "python",
   "nbconvert_exporter": "python",
   "pygments_lexer": "ipython3",
   "version": "3.9.7"
  }
 },
 "nbformat": 4,
 "nbformat_minor": 5
}
