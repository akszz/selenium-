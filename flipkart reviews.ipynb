{
 "cells": [
  {
   "cell_type": "code",
   "execution_count": null,
   "id": "01c6a216",
   "metadata": {},
   "outputs": [],
   "source": [
    "#ttps://www.flipkart.com/apple-iphone-11-black-64-gb-includes- earpods-power\u0002adapter/p/itm0f37c2240b217?pid=MOBFKCTSVZAXUHGR&lid=LSTMOBFKC\n",
    "TSVZAXUHGREPBFGI&marketplace"
   ]
  },
  {
   "cell_type": "code",
   "execution_count": 4,
   "id": "88a9fcc3",
   "metadata": {},
   "outputs": [],
   "source": [
    "#libs\n",
    "import selenium\n",
    "import pandas as pd\n",
    "from selenium import webdriver\n",
    "import warnings\n",
    "warnings.filterwarnings(\"ignore\")\n",
    "import time\n",
    "\n",
    "#commands\n",
    "driver = webdriver.Chrome(r\"C:\\Users\\chromedriver.exe\")\n",
    "driver=webdriver.Chrome(\"chromedriver.exe\")\n",
    "time.sleep(2)\n",
    "driver.get('https://www.flipkart.com/apple-iphone-11-black-64-gb-includes- earpods-power\u0002adapter/p/itm0f37c2240b217?pid=MOBFKCTSVZAXUHGR&lid=LSTMOBFKCTSVZAXUHGREPBFGI&marketplace')"
   ]
  },
  {
   "cell_type": "code",
   "execution_count": 6,
   "id": "6c801729",
   "metadata": {},
   "outputs": [],
   "source": [
    "ratings=[]\n",
    "summaries=[]\n",
    "details=[]"
   ]
  },
  {
   "cell_type": "code",
   "execution_count": 14,
   "id": "df5469eb",
   "metadata": {},
   "outputs": [
    {
     "data": {
      "text/plain": [
       "[<selenium.webdriver.remote.webelement.WebElement (session=\"f95e5706d2b152d2975484b53c619cf4\", element=\"b9257a34-2f1f-41d7-ad7a-67f5f3eee790\")>,\n",
       " <selenium.webdriver.remote.webelement.WebElement (session=\"f95e5706d2b152d2975484b53c619cf4\", element=\"6061c20b-2451-4837-a82a-a5de11157326\")>,\n",
       " <selenium.webdriver.remote.webelement.WebElement (session=\"f95e5706d2b152d2975484b53c619cf4\", element=\"98a32b52-d948-47ee-826d-8e443042636b\")>]"
      ]
     },
     "execution_count": 14,
     "metadata": {},
     "output_type": "execute_result"
    }
   ],
   "source": [
    "ratings_tags=driver.find_elements_by_xpath(\"//div[@class='_3LWZlK _1BLPMq']\")\n",
    "ratings_tags[0:3]"
   ]
  },
  {
   "cell_type": "code",
   "execution_count": 13,
   "id": "74812c37",
   "metadata": {},
   "outputs": [
    {
     "data": {
      "text/plain": [
       "['5', '5', '5']"
      ]
     },
     "execution_count": 13,
     "metadata": {},
     "output_type": "execute_result"
    }
   ],
   "source": [
    "for i in ratings_tags:\n",
    "    rating=i.text\n",
    "    ratings.append(rating)\n",
    "ratings[0:3]"
   ]
  },
  {
   "cell_type": "code",
   "execution_count": 12,
   "id": "2b5c1257",
   "metadata": {},
   "outputs": [
    {
     "data": {
      "text/plain": [
       "[<selenium.webdriver.remote.webelement.WebElement (session=\"f95e5706d2b152d2975484b53c619cf4\", element=\"892e2553-7610-4e0d-b415-17bf28c8d90c\")>,\n",
       " <selenium.webdriver.remote.webelement.WebElement (session=\"f95e5706d2b152d2975484b53c619cf4\", element=\"6222d268-927a-4ecd-b310-b16290040c1b\")>,\n",
       " <selenium.webdriver.remote.webelement.WebElement (session=\"f95e5706d2b152d2975484b53c619cf4\", element=\"504461cf-e173-4d0d-808b-9b56248de4d2\")>]"
      ]
     },
     "execution_count": 12,
     "metadata": {},
     "output_type": "execute_result"
    }
   ],
   "source": [
    "summaries_tags=driver.find_elements_by_xpath(\"//p[@class='_2-N8zT']\")\n",
    "summaries_tags[0:3]"
   ]
  },
  {
   "cell_type": "code",
   "execution_count": 11,
   "id": "a10a04ee",
   "metadata": {},
   "outputs": [
    {
     "data": {
      "text/plain": [
       "['Brilliant', 'Simply awesome', 'Best in the market!']"
      ]
     },
     "execution_count": 11,
     "metadata": {},
     "output_type": "execute_result"
    }
   ],
   "source": [
    "for i in summaries_tags:\n",
    "    summary=i.text\n",
    "    summaries.append(summary)\n",
    "summaries[0:3]"
   ]
  },
  {
   "cell_type": "code",
   "execution_count": 31,
   "id": "8b868b56",
   "metadata": {},
   "outputs": [
    {
     "data": {
      "text/plain": [
       "[<selenium.webdriver.remote.webelement.WebElement (session=\"f95e5706d2b152d2975484b53c619cf4\", element=\"d08051db-5976-4403-bc19-419a40efdfb2\")>,\n",
       " <selenium.webdriver.remote.webelement.WebElement (session=\"f95e5706d2b152d2975484b53c619cf4\", element=\"979a9b24-5a9c-488f-920d-4d316430e7ad\")>,\n",
       " <selenium.webdriver.remote.webelement.WebElement (session=\"f95e5706d2b152d2975484b53c619cf4\", element=\"befd4a2b-2c45-46c3-96ce-12522df41657\")>]"
      ]
     },
     "execution_count": 31,
     "metadata": {},
     "output_type": "execute_result"
    }
   ],
   "source": [
    "details_tags=driver.find_elements_by_xpath(\"//div[@class='t-ZTKy']\")\n",
    "details_tags[0:3]"
   ]
  },
  {
   "cell_type": "code",
   "execution_count": 32,
   "id": "5f8f5ccd",
   "metadata": {},
   "outputs": [
    {
     "data": {
      "text/plain": [
       "['4.6★\\n81,278 Ratings &\\n6,062 Reviews\\n5★\\n4★\\n3★\\n2★\\n1★\\n63,148\\n11,364\\n2,621\\n980\\n3,165',\n",
       " '4.6★',\n",
       " '4.5\\nCamera\\n4.2\\nBattery\\n4.4\\nDisplay\\n4.3\\nValue for Money']"
      ]
     },
     "execution_count": 32,
     "metadata": {},
     "output_type": "execute_result"
    }
   ],
   "source": [
    "for i in details_tags:\n",
    "    detail=i.text.replace('\\n',\"\")\n",
    "    detail = detail.strip(\" \")\n",
    "    details.append(detail)\n",
    "details[0:3]"
   ]
  },
  {
   "cell_type": "code",
   "execution_count": 37,
   "id": "844837f9",
   "metadata": {},
   "outputs": [],
   "source": [
    "next_button=driver.find_element_by_xpath(\"/html/body/div[1]/div/div[3]/div/div/div[2]/div[13]/div/div/nav/a[11]\")\n",
    "next_button.click()"
   ]
  },
  {
   "cell_type": "code",
   "execution_count": 63,
   "id": "e178ff86",
   "metadata": {},
   "outputs": [],
   "source": [
    "r_list=[]\n",
    "for i in range(0,10):\n",
    "    ratings_tags=driver.find_elements_by_xpath(\"//div[@class='_3LWZlK _1BLPMq']\")\n",
    "    for i in ratings_tags:\n",
    "        rating=i.text\n",
    "        r_list.append(rating)\n",
    "\n",
    "\n",
    "        \n",
    "next_button=driver.find_element_by_xpath(\"/html/body/div[1]/div/div[3]/div/div/div[2]/div[13]/div/div/nav/a[11]\")\n",
    "next_button.click()\n",
    "time.sleep(1)"
   ]
  },
  {
   "cell_type": "code",
   "execution_count": 64,
   "id": "b2003da5",
   "metadata": {},
   "outputs": [
    {
     "data": {
      "text/plain": [
       "100"
      ]
     },
     "execution_count": 64,
     "metadata": {},
     "output_type": "execute_result"
    }
   ],
   "source": [
    "len(r_list)"
   ]
  },
  {
   "cell_type": "code",
   "execution_count": 65,
   "id": "eaf43b3f",
   "metadata": {},
   "outputs": [],
   "source": [
    "s_list=[]\n",
    "for i in range(0,10):\n",
    "    summaries_tags=driver.find_elements_by_xpath(\"//p[@class='_2-N8zT']\")\n",
    "    for i in summaries_tags:\n",
    "        summary=i.text\n",
    "        s_list.append(summary)\n",
    "\n",
    "\n",
    "        \n",
    "next_button=driver.find_element_by_xpath(\"/html/body/div[1]/div/div[3]/div/div/div[2]/div[13]/div/div/nav/a[11]\")\n",
    "next_button.click()\n",
    "time.sleep(1)"
   ]
  },
  {
   "cell_type": "code",
   "execution_count": 66,
   "id": "a9dbfd70",
   "metadata": {},
   "outputs": [
    {
     "data": {
      "text/plain": [
       "100"
      ]
     },
     "execution_count": 66,
     "metadata": {},
     "output_type": "execute_result"
    }
   ],
   "source": [
    "len(s_list)"
   ]
  },
  {
   "cell_type": "code",
   "execution_count": 67,
   "id": "55c578dc",
   "metadata": {},
   "outputs": [],
   "source": [
    "d_list=[]\n",
    "for i in range(0,10):\n",
    "    details_tags=driver.find_elements_by_xpath(\"//div[@class='t-ZTKy']\")\n",
    "    for i in details_tags:\n",
    "        detail=i.text\n",
    "        d_list.append(detail)\n",
    "\n",
    "\n",
    "        \n",
    "next_button=driver.find_element_by_xpath(\"/html/body/div[1]/div/div[3]/div/div/div[2]/div[13]/div/div/nav/a[11]\")\n",
    "next_button.click()\n",
    "time.sleep(1)"
   ]
  },
  {
   "cell_type": "code",
   "execution_count": 68,
   "id": "c89124ba",
   "metadata": {},
   "outputs": [
    {
     "data": {
      "text/plain": [
       "100"
      ]
     },
     "execution_count": 68,
     "metadata": {},
     "output_type": "execute_result"
    }
   ],
   "source": [
    "len(d_list)"
   ]
  },
  {
   "cell_type": "code",
   "execution_count": 69,
   "id": "b2eeceef",
   "metadata": {},
   "outputs": [
    {
     "name": "stdout",
     "output_type": "stream",
     "text": [
      "100 100 100\n"
     ]
    }
   ],
   "source": [
    "print(len(r_list),len(s_list),len(d_list))"
   ]
  },
  {
   "cell_type": "code",
   "execution_count": null,
   "id": "3d9ca585",
   "metadata": {},
   "outputs": [],
   "source": []
  },
  {
   "cell_type": "code",
   "execution_count": 70,
   "id": "7c2b5b76",
   "metadata": {},
   "outputs": [],
   "source": [
    "rvws=pd.DataFrame({})\n",
    "rvws['RATINGS']=r_list\n",
    "rvws['REVIEWS']=s_list\n",
    "rvws['DETAILS']=d_list"
   ]
  },
  {
   "cell_type": "code",
   "execution_count": 71,
   "id": "0d75f058",
   "metadata": {},
   "outputs": [
    {
     "data": {
      "text/html": [
       "<div>\n",
       "<style scoped>\n",
       "    .dataframe tbody tr th:only-of-type {\n",
       "        vertical-align: middle;\n",
       "    }\n",
       "\n",
       "    .dataframe tbody tr th {\n",
       "        vertical-align: top;\n",
       "    }\n",
       "\n",
       "    .dataframe thead th {\n",
       "        text-align: right;\n",
       "    }\n",
       "</style>\n",
       "<table border=\"1\" class=\"dataframe\">\n",
       "  <thead>\n",
       "    <tr style=\"text-align: right;\">\n",
       "      <th></th>\n",
       "      <th>RATINGS</th>\n",
       "      <th>REVIEWS</th>\n",
       "      <th>DETAILS</th>\n",
       "    </tr>\n",
       "  </thead>\n",
       "  <tbody>\n",
       "    <tr>\n",
       "      <th>0</th>\n",
       "      <td>5</td>\n",
       "      <td>Terrific</td>\n",
       "      <td>Fabulous great performance A good promotion fr...</td>\n",
       "    </tr>\n",
       "    <tr>\n",
       "      <th>1</th>\n",
       "      <td>5</td>\n",
       "      <td>Highly recommended</td>\n",
       "      <td>Delivery is genuine, camera was fantastic, i g...</td>\n",
       "    </tr>\n",
       "    <tr>\n",
       "      <th>2</th>\n",
       "      <td>5</td>\n",
       "      <td>Brilliant</td>\n",
       "      <td>ALL PRODUCTS IS VERY GOOD BUT THEY MUST PROVID...</td>\n",
       "    </tr>\n",
       "    <tr>\n",
       "      <th>3</th>\n",
       "      <td>5</td>\n",
       "      <td>Highly recommended</td>\n",
       "      <td>I hate the battery ...All okay</td>\n",
       "    </tr>\n",
       "    <tr>\n",
       "      <th>4</th>\n",
       "      <td>4</td>\n",
       "      <td>Brilliant</td>\n",
       "      <td>Love it</td>\n",
       "    </tr>\n",
       "    <tr>\n",
       "      <th>...</th>\n",
       "      <td>...</td>\n",
       "      <td>...</td>\n",
       "      <td>...</td>\n",
       "    </tr>\n",
       "    <tr>\n",
       "      <th>95</th>\n",
       "      <td>5</td>\n",
       "      <td>Perfect product!</td>\n",
       "      <td>It is great. Its battery drain is low when you...</td>\n",
       "    </tr>\n",
       "    <tr>\n",
       "      <th>96</th>\n",
       "      <td>5</td>\n",
       "      <td>Mind-blowing purchase</td>\n",
       "      <td>Nice</td>\n",
       "    </tr>\n",
       "    <tr>\n",
       "      <th>97</th>\n",
       "      <td>5</td>\n",
       "      <td>Highly recommended</td>\n",
       "      <td>Nice 👌👌👌👌👌👌</td>\n",
       "    </tr>\n",
       "    <tr>\n",
       "      <th>98</th>\n",
       "      <td>5</td>\n",
       "      <td>Nice</td>\n",
       "      <td>Its too good. The camera stabilizer is also ve...</td>\n",
       "    </tr>\n",
       "    <tr>\n",
       "      <th>99</th>\n",
       "      <td>5</td>\n",
       "      <td>Simply awesome</td>\n",
       "      <td>don't think about money.. if you like to live ...</td>\n",
       "    </tr>\n",
       "  </tbody>\n",
       "</table>\n",
       "<p>100 rows × 3 columns</p>\n",
       "</div>"
      ],
      "text/plain": [
       "   RATINGS                REVIEWS  \\\n",
       "0        5               Terrific   \n",
       "1        5     Highly recommended   \n",
       "2        5              Brilliant   \n",
       "3        5     Highly recommended   \n",
       "4        4              Brilliant   \n",
       "..     ...                    ...   \n",
       "95       5       Perfect product!   \n",
       "96       5  Mind-blowing purchase   \n",
       "97       5     Highly recommended   \n",
       "98       5                   Nice   \n",
       "99       5         Simply awesome   \n",
       "\n",
       "                                              DETAILS  \n",
       "0   Fabulous great performance A good promotion fr...  \n",
       "1   Delivery is genuine, camera was fantastic, i g...  \n",
       "2   ALL PRODUCTS IS VERY GOOD BUT THEY MUST PROVID...  \n",
       "3                      I hate the battery ...All okay  \n",
       "4                                             Love it  \n",
       "..                                                ...  \n",
       "95  It is great. Its battery drain is low when you...  \n",
       "96                                               Nice  \n",
       "97                                        Nice 👌👌👌👌👌👌  \n",
       "98  Its too good. The camera stabilizer is also ve...  \n",
       "99  don't think about money.. if you like to live ...  \n",
       "\n",
       "[100 rows x 3 columns]"
      ]
     },
     "execution_count": 71,
     "metadata": {},
     "output_type": "execute_result"
    }
   ],
   "source": [
    "rvws"
   ]
  },
  {
   "cell_type": "code",
   "execution_count": null,
   "id": "c486bc1d",
   "metadata": {},
   "outputs": [],
   "source": []
  }
 ],
 "metadata": {
  "kernelspec": {
   "display_name": "Python 3 (ipykernel)",
   "language": "python",
   "name": "python3"
  },
  "language_info": {
   "codemirror_mode": {
    "name": "ipython",
    "version": 3
   },
   "file_extension": ".py",
   "mimetype": "text/x-python",
   "name": "python",
   "nbconvert_exporter": "python",
   "pygments_lexer": "ipython3",
   "version": "3.9.7"
  }
 },
 "nbformat": 4,
 "nbformat_minor": 5
}
