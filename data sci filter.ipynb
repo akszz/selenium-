{
 "cells": [
  {
   "cell_type": "code",
   "execution_count": null,
   "id": "2cc65f56",
   "metadata": {},
   "outputs": [],
   "source": [
    "#http://www.naukri.com/"
   ]
  },
  {
   "cell_type": "code",
   "execution_count": 7,
   "id": "e450f14c",
   "metadata": {},
   "outputs": [],
   "source": [
    "#libs\n",
    "import selenium\n",
    "import pandas as pd\n",
    "from selenium import webdriver\n",
    "import warnings\n",
    "warnings.filterwarnings(\"ignore\")\n",
    "import time\n",
    "\n",
    "#commands\n",
    "driver = webdriver.Chrome(r\"C:\\Users\\chromedriver.exe\")\n",
    "driver=webdriver.Chrome(\"chromedriver.exe\")\n",
    "time.sleep(2)\n",
    "driver.get('http://www.naukri.com/')"
   ]
  },
  {
   "cell_type": "code",
   "execution_count": 8,
   "id": "0de14215",
   "metadata": {},
   "outputs": [],
   "source": [
    "search_field_designation=driver.find_element_by_class_name(\"suggestor-input \")\n",
    "search_field_designation.send_keys(\"Data scientist\")"
   ]
  },
  {
   "cell_type": "code",
   "execution_count": 9,
   "id": "38a5dd63",
   "metadata": {},
   "outputs": [],
   "source": [
    "search_button=driver.find_element_by_xpath('/html/body/div/div[2]/div[3]/div/div/div[6]')\n",
    "search_button.click()"
   ]
  },
  {
   "cell_type": "code",
   "execution_count": 10,
   "id": "799d45ee",
   "metadata": {},
   "outputs": [],
   "source": [
    "filter_check=driver.find_element_by_xpath('/html/body/div[1]/div[3]/div[2]/section[1]/div[2]/div[5]/div[2]/div[2]/label/p/span[1]')\n",
    "filter_check.click()"
   ]
  },
  {
   "cell_type": "code",
   "execution_count": 11,
   "id": "a83d53e5",
   "metadata": {},
   "outputs": [],
   "source": [
    "filter_check=driver.find_element_by_xpath('/html/body/div[1]/div[3]/div[2]/section[1]/div[2]/div[5]/div[2]/div[3]/label/p')\n",
    "filter_check.click()"
   ]
  },
  {
   "cell_type": "code",
   "execution_count": 12,
   "id": "7ea3592a",
   "metadata": {},
   "outputs": [],
   "source": [
    "job_titles=[]\n",
    "company_names=[]\n",
    "locations_list=[]\n",
    "experience_list=[]"
   ]
  },
  {
   "cell_type": "code",
   "execution_count": 13,
   "id": "d80a9497",
   "metadata": {},
   "outputs": [
    {
     "data": {
      "text/plain": [
       "[<selenium.webdriver.remote.webelement.WebElement (session=\"17f278975d4222e0912e3ffe540a787a\", element=\"e0293cf4-5574-4441-8792-9f6bc6b7458d\")>,\n",
       " <selenium.webdriver.remote.webelement.WebElement (session=\"17f278975d4222e0912e3ffe540a787a\", element=\"8cbf3bcb-b4d6-4dee-932f-003e5c0a41c3\")>,\n",
       " <selenium.webdriver.remote.webelement.WebElement (session=\"17f278975d4222e0912e3ffe540a787a\", element=\"495fb06a-2f27-4c3f-b333-194060b6965d\")>,\n",
       " <selenium.webdriver.remote.webelement.WebElement (session=\"17f278975d4222e0912e3ffe540a787a\", element=\"775f58fd-5b8f-43db-a0ab-e6dd52e0711d\")>,\n",
       " <selenium.webdriver.remote.webelement.WebElement (session=\"17f278975d4222e0912e3ffe540a787a\", element=\"d3d9944c-b642-43c9-a0ac-961c82c6c759\")>,\n",
       " <selenium.webdriver.remote.webelement.WebElement (session=\"17f278975d4222e0912e3ffe540a787a\", element=\"c4226bc9-d95b-4e84-9eec-ef2b488c9852\")>,\n",
       " <selenium.webdriver.remote.webelement.WebElement (session=\"17f278975d4222e0912e3ffe540a787a\", element=\"f116a216-5dd0-4367-a544-40d030be91f7\")>,\n",
       " <selenium.webdriver.remote.webelement.WebElement (session=\"17f278975d4222e0912e3ffe540a787a\", element=\"2e26817a-260d-4be5-8d15-27afe5cc27f2\")>,\n",
       " <selenium.webdriver.remote.webelement.WebElement (session=\"17f278975d4222e0912e3ffe540a787a\", element=\"8383ed27-5c84-4983-b804-a21d6dcfece5\")>,\n",
       " <selenium.webdriver.remote.webelement.WebElement (session=\"17f278975d4222e0912e3ffe540a787a\", element=\"9e619432-4e6f-494c-8cfb-386a624fff36\")>]"
      ]
     },
     "execution_count": 13,
     "metadata": {},
     "output_type": "execute_result"
    }
   ],
   "source": [
    "titles_tags=driver.find_elements_by_xpath(\"//a[@class='title fw500 ellipsis']\")\n",
    "titles_tags[0:10]"
   ]
  },
  {
   "cell_type": "code",
   "execution_count": 14,
   "id": "646aaf5c",
   "metadata": {},
   "outputs": [
    {
     "data": {
      "text/plain": [
       "['Data Scientist',\n",
       " 'Junior Data Scientist',\n",
       " 'Associate Data Scientist',\n",
       " 'Associate Scientist - Data Engineering',\n",
       " 'Data Scientist || Software Company || Immediate Joiners To max 30 Days',\n",
       " 'Data Scientist/ Machine Learning, 2022 Passout Can also apply',\n",
       " 'Hiring For Data Analyst and Data Scientist For Gurgaon Location',\n",
       " 'Data Scientist (freelance)',\n",
       " 'Data Scientists',\n",
       " 'Data Scientist']"
      ]
     },
     "execution_count": 14,
     "metadata": {},
     "output_type": "execute_result"
    }
   ],
   "source": [
    "for i in titles_tags:\n",
    "    title=i.text\n",
    "    job_titles.append(title)\n",
    "job_titles[0:10]"
   ]
  },
  {
   "cell_type": "code",
   "execution_count": 15,
   "id": "0db08a29",
   "metadata": {},
   "outputs": [
    {
     "data": {
      "text/plain": [
       "[<selenium.webdriver.remote.webelement.WebElement (session=\"17f278975d4222e0912e3ffe540a787a\", element=\"8acc3cb3-46ec-42f1-b58d-03a27ee006f2\")>,\n",
       " <selenium.webdriver.remote.webelement.WebElement (session=\"17f278975d4222e0912e3ffe540a787a\", element=\"67b8eb58-1767-401e-b399-8dee2a4a10a4\")>,\n",
       " <selenium.webdriver.remote.webelement.WebElement (session=\"17f278975d4222e0912e3ffe540a787a\", element=\"27b69432-17bb-466f-84a3-09269300fa4d\")>,\n",
       " <selenium.webdriver.remote.webelement.WebElement (session=\"17f278975d4222e0912e3ffe540a787a\", element=\"3a62ba88-9689-4368-8e93-9b191d5237d8\")>,\n",
       " <selenium.webdriver.remote.webelement.WebElement (session=\"17f278975d4222e0912e3ffe540a787a\", element=\"6bdbdea7-32c0-47fd-9fe9-f9366e37c5dd\")>,\n",
       " <selenium.webdriver.remote.webelement.WebElement (session=\"17f278975d4222e0912e3ffe540a787a\", element=\"47e25303-1faf-4703-8868-3b0bb6a3c5f6\")>,\n",
       " <selenium.webdriver.remote.webelement.WebElement (session=\"17f278975d4222e0912e3ffe540a787a\", element=\"7a20b962-92c4-4484-981c-a886a5b765fe\")>,\n",
       " <selenium.webdriver.remote.webelement.WebElement (session=\"17f278975d4222e0912e3ffe540a787a\", element=\"de6bb59a-074b-44fc-b9f7-3870991462f8\")>,\n",
       " <selenium.webdriver.remote.webelement.WebElement (session=\"17f278975d4222e0912e3ffe540a787a\", element=\"dfd6d30e-2e51-47a1-916d-45ebb1dabc2c\")>,\n",
       " <selenium.webdriver.remote.webelement.WebElement (session=\"17f278975d4222e0912e3ffe540a787a\", element=\"ad7b4606-7496-4a40-8c7d-a8d5ea74b681\")>]"
      ]
     },
     "execution_count": 15,
     "metadata": {},
     "output_type": "execute_result"
    }
   ],
   "source": [
    "companies_tags=driver.find_elements_by_xpath(\"//a[@class='subTitle ellipsis fleft']\")\n",
    "companies_tags[0:10]"
   ]
  },
  {
   "cell_type": "code",
   "execution_count": 16,
   "id": "6278f073",
   "metadata": {},
   "outputs": [
    {
     "data": {
      "text/plain": [
       "['Ashkom Media India Private Limited',\n",
       " 'EASY DATA ANALYTICS TECHNOLOGY PRIVATE LIMITED',\n",
       " 'Optum',\n",
       " 'AXA Technology Services India Pvt. Ltd',\n",
       " 'Skyleaf Consultants',\n",
       " 'Creative Hands HR Consultancy',\n",
       " 'Shadow Placements',\n",
       " '2Coms',\n",
       " 'Nibha Infotech Private Limited',\n",
       " 'BlackBuck']"
      ]
     },
     "execution_count": 16,
     "metadata": {},
     "output_type": "execute_result"
    }
   ],
   "source": [
    "for i in companies_tags:\n",
    "    company_name=i.text\n",
    "    company_names.append(company_name)\n",
    "company_names[0:10]"
   ]
  },
  {
   "cell_type": "code",
   "execution_count": 17,
   "id": "ac23954a",
   "metadata": {},
   "outputs": [
    {
     "data": {
      "text/plain": [
       "[<selenium.webdriver.remote.webelement.WebElement (session=\"17f278975d4222e0912e3ffe540a787a\", element=\"bdb517bf-08bb-4168-8952-4ab8c19ee990\")>,\n",
       " <selenium.webdriver.remote.webelement.WebElement (session=\"17f278975d4222e0912e3ffe540a787a\", element=\"3eed0ed8-3a29-4abf-85d3-89fe40b98020\")>,\n",
       " <selenium.webdriver.remote.webelement.WebElement (session=\"17f278975d4222e0912e3ffe540a787a\", element=\"5ef69e47-3608-4c7f-87a1-1bcf54f1b1ff\")>,\n",
       " <selenium.webdriver.remote.webelement.WebElement (session=\"17f278975d4222e0912e3ffe540a787a\", element=\"55e529d7-0ad5-4a80-a9ac-0ecf6acc7e67\")>,\n",
       " <selenium.webdriver.remote.webelement.WebElement (session=\"17f278975d4222e0912e3ffe540a787a\", element=\"9b2174cf-c317-4fbc-9293-fec397b30194\")>,\n",
       " <selenium.webdriver.remote.webelement.WebElement (session=\"17f278975d4222e0912e3ffe540a787a\", element=\"f7d841ff-a803-4625-a29e-e4d52c88fa80\")>,\n",
       " <selenium.webdriver.remote.webelement.WebElement (session=\"17f278975d4222e0912e3ffe540a787a\", element=\"945cd73c-c47b-4133-83ce-97293a8c91f6\")>,\n",
       " <selenium.webdriver.remote.webelement.WebElement (session=\"17f278975d4222e0912e3ffe540a787a\", element=\"f53512e8-7d75-4daf-b5b1-2865c0f8bac1\")>,\n",
       " <selenium.webdriver.remote.webelement.WebElement (session=\"17f278975d4222e0912e3ffe540a787a\", element=\"e047d8b4-2a1b-4634-b3f3-8845850c5ada\")>,\n",
       " <selenium.webdriver.remote.webelement.WebElement (session=\"17f278975d4222e0912e3ffe540a787a\", element=\"e49addf7-478c-4d9f-af5a-64f86b800aea\")>]"
      ]
     },
     "execution_count": 17,
     "metadata": {},
     "output_type": "execute_result"
    }
   ],
   "source": [
    "experience_tags=driver.find_elements_by_xpath(\"//li[@class='fleft grey-text br2 placeHolderLi experience']/span\")\n",
    "experience_tags[0:10]"
   ]
  },
  {
   "cell_type": "code",
   "execution_count": 18,
   "id": "5de5a30d",
   "metadata": {},
   "outputs": [
    {
     "data": {
      "text/plain": [
       "['3-6 Yrs',\n",
       " '1-2 Yrs',\n",
       " '1-5 Yrs',\n",
       " '2-5 Yrs',\n",
       " '3-8 Yrs',\n",
       " '0-4 Yrs',\n",
       " '3-7 Yrs',\n",
       " '2-7 Yrs',\n",
       " '5-8 Yrs',\n",
       " '3-7 Yrs']"
      ]
     },
     "execution_count": 18,
     "metadata": {},
     "output_type": "execute_result"
    }
   ],
   "source": [
    "for i in experience_tags:\n",
    "    experience=i.text\n",
    "    experience_list.append(experience)\n",
    "experience_list[0:10]"
   ]
  },
  {
   "cell_type": "code",
   "execution_count": 19,
   "id": "a8ec2fea",
   "metadata": {},
   "outputs": [
    {
     "data": {
      "text/plain": [
       "[<selenium.webdriver.remote.webelement.WebElement (session=\"17f278975d4222e0912e3ffe540a787a\", element=\"99fda74d-d8de-4484-843e-f3461869e674\")>,\n",
       " <selenium.webdriver.remote.webelement.WebElement (session=\"17f278975d4222e0912e3ffe540a787a\", element=\"504ed34d-647e-49d4-a4ad-ff2dbded18d2\")>,\n",
       " <selenium.webdriver.remote.webelement.WebElement (session=\"17f278975d4222e0912e3ffe540a787a\", element=\"b3e4b12b-7457-45cd-9dce-e9a4de4c8f66\")>,\n",
       " <selenium.webdriver.remote.webelement.WebElement (session=\"17f278975d4222e0912e3ffe540a787a\", element=\"c7e535fe-aa41-4aca-a854-feef8ce71913\")>,\n",
       " <selenium.webdriver.remote.webelement.WebElement (session=\"17f278975d4222e0912e3ffe540a787a\", element=\"fa207114-7b6b-48c1-9f48-c3418326abf8\")>,\n",
       " <selenium.webdriver.remote.webelement.WebElement (session=\"17f278975d4222e0912e3ffe540a787a\", element=\"2dd7898e-745a-4498-b25e-f9f793486366\")>,\n",
       " <selenium.webdriver.remote.webelement.WebElement (session=\"17f278975d4222e0912e3ffe540a787a\", element=\"18cc3264-309a-4152-876b-f7fd4204c865\")>,\n",
       " <selenium.webdriver.remote.webelement.WebElement (session=\"17f278975d4222e0912e3ffe540a787a\", element=\"37777df5-1930-4029-aa4e-645a531cdbab\")>,\n",
       " <selenium.webdriver.remote.webelement.WebElement (session=\"17f278975d4222e0912e3ffe540a787a\", element=\"f3285ae9-371f-4a8d-8047-ae13237fcee8\")>,\n",
       " <selenium.webdriver.remote.webelement.WebElement (session=\"17f278975d4222e0912e3ffe540a787a\", element=\"6a77d277-22c6-4d9b-a47d-3a7e0c892756\")>]"
      ]
     },
     "execution_count": 19,
     "metadata": {},
     "output_type": "execute_result"
    }
   ],
   "source": [
    "locations_tags=driver.find_elements_by_xpath(\"//li[@class='fleft grey-text br2 placeHolderLi location']/span[1]\")\n",
    "locations_tags[0:10]"
   ]
  },
  {
   "cell_type": "code",
   "execution_count": 20,
   "id": "eea5676f",
   "metadata": {},
   "outputs": [
    {
     "data": {
      "text/plain": [
       "['Noida, Bangalore/Bengaluru',\n",
       " 'Noida',\n",
       " 'Gurgaon/Gurugram',\n",
       " 'Gurgaon/Gurugram',\n",
       " 'Gurgaon/Gurugram, Bangalore/Bengaluru',\n",
       " 'Hyderabad/Secunderabad, Pune, Chennai, Delhi / NCR, Vadodara, Mumbai (All Areas)',\n",
       " 'Noida, Gurgaon/Gurugram, Delhi / NCR',\n",
       " 'New Delhi, Delhi',\n",
       " 'Gurgaon/Gurugram',\n",
       " 'Gurgaon, Bengaluru']"
      ]
     },
     "execution_count": 20,
     "metadata": {},
     "output_type": "execute_result"
    }
   ],
   "source": [
    "for i in locations_tags:\n",
    "    location=i.text\n",
    "    locations_list.append(location)\n",
    "locations_list[0:10]"
   ]
  },
  {
   "cell_type": "code",
   "execution_count": 21,
   "id": "92b54d11",
   "metadata": {},
   "outputs": [
    {
     "name": "stdout",
     "output_type": "stream",
     "text": [
      "20 20 20 20\n"
     ]
    }
   ],
   "source": [
    "print(len(job_titles),len(company_names),len(experience_list),len(locations_list))"
   ]
  },
  {
   "cell_type": "code",
   "execution_count": 24,
   "id": "d998d006",
   "metadata": {},
   "outputs": [],
   "source": [
    "jobs=pd.DataFrame({})\n",
    "jobs['title']=job_titles[0:10]\n",
    "jobs['company']=company_names[0:10]\n",
    "jobs['experience']=experience_list[0:10]\n",
    "jobs['location']=locations_list[0:10]"
   ]
  },
  {
   "cell_type": "code",
   "execution_count": 25,
   "id": "62af184a",
   "metadata": {},
   "outputs": [
    {
     "data": {
      "text/html": [
       "<div>\n",
       "<style scoped>\n",
       "    .dataframe tbody tr th:only-of-type {\n",
       "        vertical-align: middle;\n",
       "    }\n",
       "\n",
       "    .dataframe tbody tr th {\n",
       "        vertical-align: top;\n",
       "    }\n",
       "\n",
       "    .dataframe thead th {\n",
       "        text-align: right;\n",
       "    }\n",
       "</style>\n",
       "<table border=\"1\" class=\"dataframe\">\n",
       "  <thead>\n",
       "    <tr style=\"text-align: right;\">\n",
       "      <th></th>\n",
       "      <th>title</th>\n",
       "      <th>company</th>\n",
       "      <th>experience</th>\n",
       "      <th>location</th>\n",
       "    </tr>\n",
       "  </thead>\n",
       "  <tbody>\n",
       "    <tr>\n",
       "      <th>0</th>\n",
       "      <td>Data Scientist</td>\n",
       "      <td>Ashkom Media India Private Limited</td>\n",
       "      <td>3-6 Yrs</td>\n",
       "      <td>Noida, Bangalore/Bengaluru</td>\n",
       "    </tr>\n",
       "    <tr>\n",
       "      <th>1</th>\n",
       "      <td>Junior Data Scientist</td>\n",
       "      <td>EASY DATA ANALYTICS TECHNOLOGY PRIVATE LIMITED</td>\n",
       "      <td>1-2 Yrs</td>\n",
       "      <td>Noida</td>\n",
       "    </tr>\n",
       "    <tr>\n",
       "      <th>2</th>\n",
       "      <td>Associate Data Scientist</td>\n",
       "      <td>Optum</td>\n",
       "      <td>1-5 Yrs</td>\n",
       "      <td>Gurgaon/Gurugram</td>\n",
       "    </tr>\n",
       "    <tr>\n",
       "      <th>3</th>\n",
       "      <td>Associate Scientist - Data Engineering</td>\n",
       "      <td>AXA Technology Services India Pvt. Ltd</td>\n",
       "      <td>2-5 Yrs</td>\n",
       "      <td>Gurgaon/Gurugram</td>\n",
       "    </tr>\n",
       "    <tr>\n",
       "      <th>4</th>\n",
       "      <td>Data Scientist || Software Company || Immediat...</td>\n",
       "      <td>Skyleaf Consultants</td>\n",
       "      <td>3-8 Yrs</td>\n",
       "      <td>Gurgaon/Gurugram, Bangalore/Bengaluru</td>\n",
       "    </tr>\n",
       "    <tr>\n",
       "      <th>5</th>\n",
       "      <td>Data Scientist/ Machine Learning, 2022 Passout...</td>\n",
       "      <td>Creative Hands HR Consultancy</td>\n",
       "      <td>0-4 Yrs</td>\n",
       "      <td>Hyderabad/Secunderabad, Pune, Chennai, Delhi /...</td>\n",
       "    </tr>\n",
       "    <tr>\n",
       "      <th>6</th>\n",
       "      <td>Hiring For Data Analyst and Data Scientist For...</td>\n",
       "      <td>Shadow Placements</td>\n",
       "      <td>3-7 Yrs</td>\n",
       "      <td>Noida, Gurgaon/Gurugram, Delhi / NCR</td>\n",
       "    </tr>\n",
       "    <tr>\n",
       "      <th>7</th>\n",
       "      <td>Data Scientist (freelance)</td>\n",
       "      <td>2Coms</td>\n",
       "      <td>2-7 Yrs</td>\n",
       "      <td>New Delhi, Delhi</td>\n",
       "    </tr>\n",
       "    <tr>\n",
       "      <th>8</th>\n",
       "      <td>Data Scientists</td>\n",
       "      <td>Nibha Infotech Private Limited</td>\n",
       "      <td>5-8 Yrs</td>\n",
       "      <td>Gurgaon/Gurugram</td>\n",
       "    </tr>\n",
       "    <tr>\n",
       "      <th>9</th>\n",
       "      <td>Data Scientist</td>\n",
       "      <td>BlackBuck</td>\n",
       "      <td>3-7 Yrs</td>\n",
       "      <td>Gurgaon, Bengaluru</td>\n",
       "    </tr>\n",
       "  </tbody>\n",
       "</table>\n",
       "</div>"
      ],
      "text/plain": [
       "                                               title  \\\n",
       "0                                     Data Scientist   \n",
       "1                              Junior Data Scientist   \n",
       "2                           Associate Data Scientist   \n",
       "3             Associate Scientist - Data Engineering   \n",
       "4  Data Scientist || Software Company || Immediat...   \n",
       "5  Data Scientist/ Machine Learning, 2022 Passout...   \n",
       "6  Hiring For Data Analyst and Data Scientist For...   \n",
       "7                         Data Scientist (freelance)   \n",
       "8                                    Data Scientists   \n",
       "9                                     Data Scientist   \n",
       "\n",
       "                                          company experience  \\\n",
       "0              Ashkom Media India Private Limited    3-6 Yrs   \n",
       "1  EASY DATA ANALYTICS TECHNOLOGY PRIVATE LIMITED    1-2 Yrs   \n",
       "2                                           Optum    1-5 Yrs   \n",
       "3          AXA Technology Services India Pvt. Ltd    2-5 Yrs   \n",
       "4                             Skyleaf Consultants    3-8 Yrs   \n",
       "5                   Creative Hands HR Consultancy    0-4 Yrs   \n",
       "6                               Shadow Placements    3-7 Yrs   \n",
       "7                                           2Coms    2-7 Yrs   \n",
       "8                  Nibha Infotech Private Limited    5-8 Yrs   \n",
       "9                                       BlackBuck    3-7 Yrs   \n",
       "\n",
       "                                            location  \n",
       "0                         Noida, Bangalore/Bengaluru  \n",
       "1                                              Noida  \n",
       "2                                   Gurgaon/Gurugram  \n",
       "3                                   Gurgaon/Gurugram  \n",
       "4              Gurgaon/Gurugram, Bangalore/Bengaluru  \n",
       "5  Hyderabad/Secunderabad, Pune, Chennai, Delhi /...  \n",
       "6               Noida, Gurgaon/Gurugram, Delhi / NCR  \n",
       "7                                   New Delhi, Delhi  \n",
       "8                                   Gurgaon/Gurugram  \n",
       "9                                 Gurgaon, Bengaluru  "
      ]
     },
     "execution_count": 25,
     "metadata": {},
     "output_type": "execute_result"
    }
   ],
   "source": [
    "jobs"
   ]
  },
  {
   "cell_type": "code",
   "execution_count": null,
   "id": "8dfd513e",
   "metadata": {},
   "outputs": [],
   "source": []
  }
 ],
 "metadata": {
  "kernelspec": {
   "display_name": "Python 3 (ipykernel)",
   "language": "python",
   "name": "python3"
  },
  "language_info": {
   "codemirror_mode": {
    "name": "ipython",
    "version": 3
   },
   "file_extension": ".py",
   "mimetype": "text/x-python",
   "name": "python",
   "nbconvert_exporter": "python",
   "pygments_lexer": "ipython3",
   "version": "3.9.7"
  }
 },
 "nbformat": 4,
 "nbformat_minor": 5
}
