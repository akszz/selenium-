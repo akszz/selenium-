{
 "cells": [
  {
   "cell_type": "code",
   "execution_count": null,
   "id": "b02be94c",
   "metadata": {},
   "outputs": [],
   "source": [
    "#sneaker"
   ]
  },
  {
   "cell_type": "code",
   "execution_count": 18,
   "id": "ad9f25dd",
   "metadata": {},
   "outputs": [],
   "source": [
    "#libs\n",
    "import selenium\n",
    "import pandas as pd\n",
    "from selenium import webdriver\n",
    "import warnings\n",
    "warnings.filterwarnings(\"ignore\")\n",
    "import time\n",
    "\n",
    "#commands\n",
    "driver = webdriver.Chrome(r\"C:\\Users\\chromedriver.exe\")\n",
    "driver=webdriver.Chrome(\"chromedriver.exe\")\n",
    "time.sleep(2)\n",
    "driver.get('http://www.flipkart.com/')"
   ]
  },
  {
   "cell_type": "code",
   "execution_count": 19,
   "id": "377eab28",
   "metadata": {},
   "outputs": [],
   "source": [
    "search_sneakers=driver.find_element_by_class_name(\"_3704LK\")\n",
    "search_sneakers.send_keys(\"sneakers\")"
   ]
  },
  {
   "cell_type": "code",
   "execution_count": 20,
   "id": "04496f7e",
   "metadata": {},
   "outputs": [],
   "source": [
    "search_button=driver.find_element_by_xpath('/html/body/div[1]/div/div[1]/div[1]/div[2]/div[2]/form/div/button')\n",
    "search_button.click()"
   ]
  },
  {
   "cell_type": "code",
   "execution_count": 21,
   "id": "14514a9e",
   "metadata": {},
   "outputs": [],
   "source": [
    "Brands=[]\n",
    "Descriptions=[]\n",
    "prices=[]"
   ]
  },
  {
   "cell_type": "code",
   "execution_count": 22,
   "id": "6918c27c",
   "metadata": {},
   "outputs": [
    {
     "data": {
      "text/plain": [
       "[<selenium.webdriver.remote.webelement.WebElement (session=\"49eb1b0eb868dd4e479323dfaacc72dc\", element=\"0afb6bf8-c294-424f-8fa5-547ee3afd2a5\")>,\n",
       " <selenium.webdriver.remote.webelement.WebElement (session=\"49eb1b0eb868dd4e479323dfaacc72dc\", element=\"2108f128-4eee-435c-88a6-ab5778036669\")>,\n",
       " <selenium.webdriver.remote.webelement.WebElement (session=\"49eb1b0eb868dd4e479323dfaacc72dc\", element=\"b44f96a6-32ea-4a00-89e6-1c65725851d8\")>,\n",
       " <selenium.webdriver.remote.webelement.WebElement (session=\"49eb1b0eb868dd4e479323dfaacc72dc\", element=\"43af9844-6004-40e7-a784-6fb755dee5a5\")>,\n",
       " <selenium.webdriver.remote.webelement.WebElement (session=\"49eb1b0eb868dd4e479323dfaacc72dc\", element=\"41efe802-3054-402e-b90a-47aa34374a75\")>,\n",
       " <selenium.webdriver.remote.webelement.WebElement (session=\"49eb1b0eb868dd4e479323dfaacc72dc\", element=\"2d5eec31-74a5-468a-bee0-c57fd62d0e77\")>,\n",
       " <selenium.webdriver.remote.webelement.WebElement (session=\"49eb1b0eb868dd4e479323dfaacc72dc\", element=\"24be623d-9c92-49cd-bb6e-4e1238a83c2b\")>,\n",
       " <selenium.webdriver.remote.webelement.WebElement (session=\"49eb1b0eb868dd4e479323dfaacc72dc\", element=\"22ccdd45-1c03-418d-a966-6fe4449372d6\")>,\n",
       " <selenium.webdriver.remote.webelement.WebElement (session=\"49eb1b0eb868dd4e479323dfaacc72dc\", element=\"27b0a41b-7929-4c37-b1d9-f285483c0985\")>,\n",
       " <selenium.webdriver.remote.webelement.WebElement (session=\"49eb1b0eb868dd4e479323dfaacc72dc\", element=\"218c7b19-d3f2-4c1f-bb39-59b1d851c677\")>,\n",
       " <selenium.webdriver.remote.webelement.WebElement (session=\"49eb1b0eb868dd4e479323dfaacc72dc\", element=\"1c06ada8-5470-49e2-a65c-4b2e174432ff\")>,\n",
       " <selenium.webdriver.remote.webelement.WebElement (session=\"49eb1b0eb868dd4e479323dfaacc72dc\", element=\"684b2834-e8ce-4a7b-805a-e9c91aae7231\")>,\n",
       " <selenium.webdriver.remote.webelement.WebElement (session=\"49eb1b0eb868dd4e479323dfaacc72dc\", element=\"c1f72432-3abc-43dd-8080-f922f54cc49a\")>,\n",
       " <selenium.webdriver.remote.webelement.WebElement (session=\"49eb1b0eb868dd4e479323dfaacc72dc\", element=\"41ba9b24-54fc-4976-8855-a02ff32545e0\")>,\n",
       " <selenium.webdriver.remote.webelement.WebElement (session=\"49eb1b0eb868dd4e479323dfaacc72dc\", element=\"9e5c41ee-2e0d-4a79-b8c3-e225ee3abe6e\")>,\n",
       " <selenium.webdriver.remote.webelement.WebElement (session=\"49eb1b0eb868dd4e479323dfaacc72dc\", element=\"e31a337a-ef08-4d06-b2e6-1f37e8a4e44b\")>,\n",
       " <selenium.webdriver.remote.webelement.WebElement (session=\"49eb1b0eb868dd4e479323dfaacc72dc\", element=\"c6b2e140-67fc-47d4-b481-c3716644c12a\")>,\n",
       " <selenium.webdriver.remote.webelement.WebElement (session=\"49eb1b0eb868dd4e479323dfaacc72dc\", element=\"3aad906c-8614-486a-84f3-233759c74f11\")>,\n",
       " <selenium.webdriver.remote.webelement.WebElement (session=\"49eb1b0eb868dd4e479323dfaacc72dc\", element=\"f780b358-fb4b-46e2-9af0-0000f49363e2\")>,\n",
       " <selenium.webdriver.remote.webelement.WebElement (session=\"49eb1b0eb868dd4e479323dfaacc72dc\", element=\"28f7ceb5-4f39-4f65-838a-91ada0d86c27\")>,\n",
       " <selenium.webdriver.remote.webelement.WebElement (session=\"49eb1b0eb868dd4e479323dfaacc72dc\", element=\"fffb0d3b-7fae-4c0a-a595-e451e98df0f3\")>,\n",
       " <selenium.webdriver.remote.webelement.WebElement (session=\"49eb1b0eb868dd4e479323dfaacc72dc\", element=\"8b13f842-b427-4eda-8029-f7b48d55d052\")>,\n",
       " <selenium.webdriver.remote.webelement.WebElement (session=\"49eb1b0eb868dd4e479323dfaacc72dc\", element=\"031c79b9-3511-4ff3-a15c-15a446c75f10\")>,\n",
       " <selenium.webdriver.remote.webelement.WebElement (session=\"49eb1b0eb868dd4e479323dfaacc72dc\", element=\"45fc80e5-b61e-4bf4-b89d-a22408cfdcb1\")>,\n",
       " <selenium.webdriver.remote.webelement.WebElement (session=\"49eb1b0eb868dd4e479323dfaacc72dc\", element=\"b5ab8a96-1740-491b-ba2b-21eff6e8ccbe\")>,\n",
       " <selenium.webdriver.remote.webelement.WebElement (session=\"49eb1b0eb868dd4e479323dfaacc72dc\", element=\"548043df-0da5-4ebc-8596-73ba4c20c9bc\")>,\n",
       " <selenium.webdriver.remote.webelement.WebElement (session=\"49eb1b0eb868dd4e479323dfaacc72dc\", element=\"8752b532-2794-42f1-ba56-ddce01688553\")>,\n",
       " <selenium.webdriver.remote.webelement.WebElement (session=\"49eb1b0eb868dd4e479323dfaacc72dc\", element=\"54d7e5d9-786c-42a1-bc73-45ea28b331e9\")>,\n",
       " <selenium.webdriver.remote.webelement.WebElement (session=\"49eb1b0eb868dd4e479323dfaacc72dc\", element=\"64050b56-4846-4636-ae9c-7f9b1f9bea3d\")>,\n",
       " <selenium.webdriver.remote.webelement.WebElement (session=\"49eb1b0eb868dd4e479323dfaacc72dc\", element=\"6faebaa2-44fa-46df-babb-e623e25792aa\")>,\n",
       " <selenium.webdriver.remote.webelement.WebElement (session=\"49eb1b0eb868dd4e479323dfaacc72dc\", element=\"72aa8afb-d73d-4f4b-8a59-35781a9108e7\")>,\n",
       " <selenium.webdriver.remote.webelement.WebElement (session=\"49eb1b0eb868dd4e479323dfaacc72dc\", element=\"9fc9b196-4b09-4681-aa6f-be6513ab6852\")>,\n",
       " <selenium.webdriver.remote.webelement.WebElement (session=\"49eb1b0eb868dd4e479323dfaacc72dc\", element=\"fba7c397-d207-49e6-bb6d-2364d5df55ff\")>,\n",
       " <selenium.webdriver.remote.webelement.WebElement (session=\"49eb1b0eb868dd4e479323dfaacc72dc\", element=\"22faf175-f0a0-440b-b802-adb77c6abd8c\")>,\n",
       " <selenium.webdriver.remote.webelement.WebElement (session=\"49eb1b0eb868dd4e479323dfaacc72dc\", element=\"794f1627-e583-4108-859a-f3ab229d8d5c\")>,\n",
       " <selenium.webdriver.remote.webelement.WebElement (session=\"49eb1b0eb868dd4e479323dfaacc72dc\", element=\"cbbbb568-a7eb-4a65-99ed-7ca3d9b684d9\")>,\n",
       " <selenium.webdriver.remote.webelement.WebElement (session=\"49eb1b0eb868dd4e479323dfaacc72dc\", element=\"7912a051-4fc5-4c10-b455-6c87a6ce648c\")>,\n",
       " <selenium.webdriver.remote.webelement.WebElement (session=\"49eb1b0eb868dd4e479323dfaacc72dc\", element=\"0d4b4d44-c4f1-49c1-9d43-714976cc28bf\")>,\n",
       " <selenium.webdriver.remote.webelement.WebElement (session=\"49eb1b0eb868dd4e479323dfaacc72dc\", element=\"2b7f9540-2fff-42c1-a0ee-c7160b860fab\")>,\n",
       " <selenium.webdriver.remote.webelement.WebElement (session=\"49eb1b0eb868dd4e479323dfaacc72dc\", element=\"f5c3ef58-0634-495a-b16f-dc85e09a5962\")>]"
      ]
     },
     "execution_count": 22,
     "metadata": {},
     "output_type": "execute_result"
    }
   ],
   "source": [
    "Brands_tags=driver.find_elements_by_xpath(\"//div[@class='_2WkVRV']\")\n",
    "Brands_tags[0:100]"
   ]
  },
  {
   "cell_type": "code",
   "execution_count": 23,
   "id": "9f3ebe53",
   "metadata": {},
   "outputs": [
    {
     "data": {
      "text/plain": [
       "['BRUTON',\n",
       " 'HIGHLANDER',\n",
       " 'URBANBOX',\n",
       " 'BRUTON',\n",
       " 'corsac',\n",
       " 'BIRDE',\n",
       " 'Labbin',\n",
       " 'Echor',\n",
       " 'KWIK FIT',\n",
       " 'Magnolia',\n",
       " 'World Wear Footwear',\n",
       " 'Jimnastic shoes',\n",
       " 'World Wear Footwear',\n",
       " 'BRUTON',\n",
       " 'Kraasa',\n",
       " 'Echor',\n",
       " 'aadi',\n",
       " 'SCATCHITE',\n",
       " 'ASTEROID',\n",
       " 'RapidBox',\n",
       " 'ONECENTRE',\n",
       " 'Kraasa',\n",
       " 'BRUTON',\n",
       " 'RapidBox',\n",
       " 'ASTEROID',\n",
       " 'CLYMB',\n",
       " 'World Wear Footwear',\n",
       " 'RapidBox',\n",
       " 'World Wear Footwear',\n",
       " 'corsac',\n",
       " 'Layasa',\n",
       " 'Roadster',\n",
       " 'Chevit',\n",
       " 'luxury fashion',\n",
       " 'Hida',\n",
       " 'Strollin',\n",
       " 'BRUTON',\n",
       " 'Echor',\n",
       " 'Hida',\n",
       " 'HRX by Hrithik Roshan']"
      ]
     },
     "execution_count": 23,
     "metadata": {},
     "output_type": "execute_result"
    }
   ],
   "source": [
    "for i in Brands_tags:\n",
    "    Brand=i.text\n",
    "    Brands.append(Brand)\n",
    "Brands[0:100]"
   ]
  },
  {
   "cell_type": "code",
   "execution_count": 24,
   "id": "a15d6bb4",
   "metadata": {},
   "outputs": [
    {
     "data": {
      "text/plain": [
       "[<selenium.webdriver.remote.webelement.WebElement (session=\"49eb1b0eb868dd4e479323dfaacc72dc\", element=\"aedfe317-bae7-42ce-b5cd-4873db4bf82a\")>,\n",
       " <selenium.webdriver.remote.webelement.WebElement (session=\"49eb1b0eb868dd4e479323dfaacc72dc\", element=\"e68e6ded-f5ea-4991-acc0-a8b8300d9d4e\")>,\n",
       " <selenium.webdriver.remote.webelement.WebElement (session=\"49eb1b0eb868dd4e479323dfaacc72dc\", element=\"582fb533-db16-4889-9485-858a98e08fbb\")>,\n",
       " <selenium.webdriver.remote.webelement.WebElement (session=\"49eb1b0eb868dd4e479323dfaacc72dc\", element=\"d1851560-8ac8-4b89-b16b-76e8d9bdbf35\")>,\n",
       " <selenium.webdriver.remote.webelement.WebElement (session=\"49eb1b0eb868dd4e479323dfaacc72dc\", element=\"8ea922f1-f039-405b-8902-336baba3c182\")>,\n",
       " <selenium.webdriver.remote.webelement.WebElement (session=\"49eb1b0eb868dd4e479323dfaacc72dc\", element=\"c7285dd2-fb0a-48ee-8eea-24d5ada148e9\")>,\n",
       " <selenium.webdriver.remote.webelement.WebElement (session=\"49eb1b0eb868dd4e479323dfaacc72dc\", element=\"821a6e09-d886-4d27-977e-751ab2bac5ec\")>,\n",
       " <selenium.webdriver.remote.webelement.WebElement (session=\"49eb1b0eb868dd4e479323dfaacc72dc\", element=\"389287ed-1cc8-4736-9e6a-d273b0a32297\")>,\n",
       " <selenium.webdriver.remote.webelement.WebElement (session=\"49eb1b0eb868dd4e479323dfaacc72dc\", element=\"234171e3-0d0d-4805-90ab-b449c7a5ba6b\")>,\n",
       " <selenium.webdriver.remote.webelement.WebElement (session=\"49eb1b0eb868dd4e479323dfaacc72dc\", element=\"3a56504f-f004-44b2-8e77-43574a661f6b\")>,\n",
       " <selenium.webdriver.remote.webelement.WebElement (session=\"49eb1b0eb868dd4e479323dfaacc72dc\", element=\"653f8e1b-5bb3-4ae4-ad5a-88b4e5d48ff0\")>,\n",
       " <selenium.webdriver.remote.webelement.WebElement (session=\"49eb1b0eb868dd4e479323dfaacc72dc\", element=\"942aa280-1195-4295-b546-38c4ca173922\")>,\n",
       " <selenium.webdriver.remote.webelement.WebElement (session=\"49eb1b0eb868dd4e479323dfaacc72dc\", element=\"0131c9aa-e940-4118-9dd3-4811bdefc140\")>,\n",
       " <selenium.webdriver.remote.webelement.WebElement (session=\"49eb1b0eb868dd4e479323dfaacc72dc\", element=\"b8102dc3-4099-471e-9a39-302ce82658ab\")>,\n",
       " <selenium.webdriver.remote.webelement.WebElement (session=\"49eb1b0eb868dd4e479323dfaacc72dc\", element=\"35623c68-3b48-474b-a9e5-b5329ee68719\")>,\n",
       " <selenium.webdriver.remote.webelement.WebElement (session=\"49eb1b0eb868dd4e479323dfaacc72dc\", element=\"13a32011-3c68-4e73-8971-f2a673562b9d\")>,\n",
       " <selenium.webdriver.remote.webelement.WebElement (session=\"49eb1b0eb868dd4e479323dfaacc72dc\", element=\"d88f6c56-325b-4e00-96c0-21b69853cc64\")>,\n",
       " <selenium.webdriver.remote.webelement.WebElement (session=\"49eb1b0eb868dd4e479323dfaacc72dc\", element=\"e1731c82-3e09-47a8-b05e-804c99cb63af\")>,\n",
       " <selenium.webdriver.remote.webelement.WebElement (session=\"49eb1b0eb868dd4e479323dfaacc72dc\", element=\"5bad4e8a-1538-40ad-ae12-6bdd9bd63186\")>,\n",
       " <selenium.webdriver.remote.webelement.WebElement (session=\"49eb1b0eb868dd4e479323dfaacc72dc\", element=\"f9407594-6492-43b9-ab82-93da06c00160\")>,\n",
       " <selenium.webdriver.remote.webelement.WebElement (session=\"49eb1b0eb868dd4e479323dfaacc72dc\", element=\"aad111cf-2722-4373-ad15-f27253ff3a2c\")>,\n",
       " <selenium.webdriver.remote.webelement.WebElement (session=\"49eb1b0eb868dd4e479323dfaacc72dc\", element=\"0b0871cf-8c59-41e0-9b12-b277081e9115\")>,\n",
       " <selenium.webdriver.remote.webelement.WebElement (session=\"49eb1b0eb868dd4e479323dfaacc72dc\", element=\"2019536a-a2d0-4108-8d9c-bb4d70ca6d24\")>,\n",
       " <selenium.webdriver.remote.webelement.WebElement (session=\"49eb1b0eb868dd4e479323dfaacc72dc\", element=\"b4e82c5e-fd7b-4296-9ff2-7783060ac660\")>,\n",
       " <selenium.webdriver.remote.webelement.WebElement (session=\"49eb1b0eb868dd4e479323dfaacc72dc\", element=\"176ba9a2-4837-4f05-9e25-e00e76817d40\")>,\n",
       " <selenium.webdriver.remote.webelement.WebElement (session=\"49eb1b0eb868dd4e479323dfaacc72dc\", element=\"518200cc-2cdf-4afa-a68b-82525e8f65ac\")>,\n",
       " <selenium.webdriver.remote.webelement.WebElement (session=\"49eb1b0eb868dd4e479323dfaacc72dc\", element=\"3b93239d-ad9b-42ab-a5b2-a9403883c6b1\")>,\n",
       " <selenium.webdriver.remote.webelement.WebElement (session=\"49eb1b0eb868dd4e479323dfaacc72dc\", element=\"004038d2-2eca-4539-b5d2-a365e174d7a6\")>,\n",
       " <selenium.webdriver.remote.webelement.WebElement (session=\"49eb1b0eb868dd4e479323dfaacc72dc\", element=\"641be98a-7345-4e72-a800-45e23c6fe834\")>,\n",
       " <selenium.webdriver.remote.webelement.WebElement (session=\"49eb1b0eb868dd4e479323dfaacc72dc\", element=\"eaec98e5-1a08-427c-bdcc-57fcff426ce2\")>,\n",
       " <selenium.webdriver.remote.webelement.WebElement (session=\"49eb1b0eb868dd4e479323dfaacc72dc\", element=\"cc5b5b52-833d-4536-bad7-05c9b24c7bd8\")>,\n",
       " <selenium.webdriver.remote.webelement.WebElement (session=\"49eb1b0eb868dd4e479323dfaacc72dc\", element=\"b480c2c2-7cc2-4a6b-bbcd-232374a21f3c\")>]"
      ]
     },
     "execution_count": 24,
     "metadata": {},
     "output_type": "execute_result"
    }
   ],
   "source": [
    "Descriptions_tags=driver.find_elements_by_xpath(\"//a[@class='IRpwTa']\")\n",
    "Descriptions_tags[0:100]"
   ]
  },
  {
   "cell_type": "code",
   "execution_count": 25,
   "id": "cb6d579a",
   "metadata": {},
   "outputs": [
    {
     "data": {
      "text/plain": [
       "['Modern Trendy Sneakers Shoes Sneakers For Men',\n",
       " 'Sneakers For Men',\n",
       " 'Modern Trendy Sneakers Shoes Sneakers For Men',\n",
       " 'STYLISH MENS BLACK SNEAKER Sneakers For Men',\n",
       " 'Stylish Comfortable Lightweight, Breathable Walking Sho...',\n",
       " 'Sneakers For Men',\n",
       " 'Sneakers For Men',\n",
       " 'Kwik FIT casual sneaker shoes and partywear shoes Casua...',\n",
       " 'Sneakers For Men',\n",
       " 'Men 5014 Latest Collection Stylish Casual Sports Loafer...',\n",
       " '5013-Latest Collection Stylish & Trendy of casuals Snea...',\n",
       " 'Sneaker Sneakers For Men',\n",
       " 'Shark-41 Sneakers For Men',\n",
       " \"Men's Latest stylish casual fashion sneaker shoes Sneak...\",\n",
       " 'Sneakers For Men',\n",
       " 'Sneakers Sneakers For Men',\n",
       " 'Original Luxury Branded Black Fancy Casual Walking Part...',\n",
       " 'STR2 Sneakers For Men',\n",
       " 'Series 7 Sneakers For Men',\n",
       " 'Lattest Sneakers Shoe Sneakers For Men',\n",
       " \"Luxury Branded Fashionable Men's Casual Walking Partywe...\",\n",
       " 'Sneakers For Men',\n",
       " '5011-Latest Collection Stylish & Trendy Casual Sneakers...',\n",
       " 'Latest Collection-1227 Stylish Casual Sports Sneakers F...',\n",
       " 'STYLISH MENS BLACK TRENDY SNEAKER FOR MENS Sneakers For...',\n",
       " 'Sneakers For Men',\n",
       " 'Men Blue Solid Sneakers Sneakers For Men',\n",
       " 'Sneakers For Men',\n",
       " 'Sneakers For Men',\n",
       " 'Lightweight Pack Of 1 Trendy Sneakers Sneakers For Men',\n",
       " \"Men's Sneakers Fashion Lightweight Running Shoes Tennis...\",\n",
       " 'Sneakers For Men']"
      ]
     },
     "execution_count": 25,
     "metadata": {},
     "output_type": "execute_result"
    }
   ],
   "source": [
    "for i in Descriptions_tags:\n",
    "    Description=i.text\n",
    "    Descriptions.append(Description)\n",
    "Descriptions[0:100]"
   ]
  },
  {
   "cell_type": "code",
   "execution_count": 26,
   "id": "5bd7787f",
   "metadata": {},
   "outputs": [
    {
     "data": {
      "text/plain": [
       "[<selenium.webdriver.remote.webelement.WebElement (session=\"49eb1b0eb868dd4e479323dfaacc72dc\", element=\"bb72e156-1c23-4bdd-87c9-3f6dded536bb\")>,\n",
       " <selenium.webdriver.remote.webelement.WebElement (session=\"49eb1b0eb868dd4e479323dfaacc72dc\", element=\"f6eba877-5a76-4110-b907-1c0ea5951089\")>,\n",
       " <selenium.webdriver.remote.webelement.WebElement (session=\"49eb1b0eb868dd4e479323dfaacc72dc\", element=\"42f7eac9-3222-47ff-9f5e-faa1603060ef\")>,\n",
       " <selenium.webdriver.remote.webelement.WebElement (session=\"49eb1b0eb868dd4e479323dfaacc72dc\", element=\"eb74f339-15a8-47ee-9c0e-472459b21e1c\")>,\n",
       " <selenium.webdriver.remote.webelement.WebElement (session=\"49eb1b0eb868dd4e479323dfaacc72dc\", element=\"27469e89-05d3-4459-b05d-22fc04f70192\")>,\n",
       " <selenium.webdriver.remote.webelement.WebElement (session=\"49eb1b0eb868dd4e479323dfaacc72dc\", element=\"96335011-0d6d-45ac-b80c-cab09b7fd02f\")>,\n",
       " <selenium.webdriver.remote.webelement.WebElement (session=\"49eb1b0eb868dd4e479323dfaacc72dc\", element=\"693691fa-7556-430a-b1fe-389beca9f462\")>,\n",
       " <selenium.webdriver.remote.webelement.WebElement (session=\"49eb1b0eb868dd4e479323dfaacc72dc\", element=\"ea085f45-a2e8-4822-be0e-822c97f23381\")>,\n",
       " <selenium.webdriver.remote.webelement.WebElement (session=\"49eb1b0eb868dd4e479323dfaacc72dc\", element=\"ba46ec6a-bd1f-4ee1-9e78-70a0d207ec03\")>,\n",
       " <selenium.webdriver.remote.webelement.WebElement (session=\"49eb1b0eb868dd4e479323dfaacc72dc\", element=\"217bd894-e5cf-416f-8c0a-3ab54451a53c\")>,\n",
       " <selenium.webdriver.remote.webelement.WebElement (session=\"49eb1b0eb868dd4e479323dfaacc72dc\", element=\"9e9fa240-0089-4259-9342-9768d7603d2c\")>,\n",
       " <selenium.webdriver.remote.webelement.WebElement (session=\"49eb1b0eb868dd4e479323dfaacc72dc\", element=\"58057ca9-f2cc-484a-b1cf-5b5849fa2a4c\")>,\n",
       " <selenium.webdriver.remote.webelement.WebElement (session=\"49eb1b0eb868dd4e479323dfaacc72dc\", element=\"0e568ba1-9a27-4d45-853b-7ef544d10abd\")>,\n",
       " <selenium.webdriver.remote.webelement.WebElement (session=\"49eb1b0eb868dd4e479323dfaacc72dc\", element=\"09e06a8d-9077-4726-ba66-a0c65e4fd80c\")>,\n",
       " <selenium.webdriver.remote.webelement.WebElement (session=\"49eb1b0eb868dd4e479323dfaacc72dc\", element=\"e80c506e-3807-47d2-88c1-ea74ca550802\")>,\n",
       " <selenium.webdriver.remote.webelement.WebElement (session=\"49eb1b0eb868dd4e479323dfaacc72dc\", element=\"b5ef07f1-71f1-4151-87f4-edb8ab2196f4\")>,\n",
       " <selenium.webdriver.remote.webelement.WebElement (session=\"49eb1b0eb868dd4e479323dfaacc72dc\", element=\"619f9094-bb0a-4e90-9975-6b501da77a0f\")>,\n",
       " <selenium.webdriver.remote.webelement.WebElement (session=\"49eb1b0eb868dd4e479323dfaacc72dc\", element=\"25b3acab-91c7-4c25-be27-672446f337c6\")>,\n",
       " <selenium.webdriver.remote.webelement.WebElement (session=\"49eb1b0eb868dd4e479323dfaacc72dc\", element=\"78f883e1-db98-4685-a38b-e110de9f66da\")>,\n",
       " <selenium.webdriver.remote.webelement.WebElement (session=\"49eb1b0eb868dd4e479323dfaacc72dc\", element=\"3a895cdf-ec36-4802-955c-4d42267c0f17\")>,\n",
       " <selenium.webdriver.remote.webelement.WebElement (session=\"49eb1b0eb868dd4e479323dfaacc72dc\", element=\"b4e28c3b-b96c-4baf-91d1-7e02d160002e\")>,\n",
       " <selenium.webdriver.remote.webelement.WebElement (session=\"49eb1b0eb868dd4e479323dfaacc72dc\", element=\"280dcfa0-e74f-4863-b585-cc2005d2c20a\")>,\n",
       " <selenium.webdriver.remote.webelement.WebElement (session=\"49eb1b0eb868dd4e479323dfaacc72dc\", element=\"2b3724f8-3468-4ee5-9bbe-7cfe1e6296c7\")>,\n",
       " <selenium.webdriver.remote.webelement.WebElement (session=\"49eb1b0eb868dd4e479323dfaacc72dc\", element=\"077a19ac-c516-472c-827b-db731382e17b\")>,\n",
       " <selenium.webdriver.remote.webelement.WebElement (session=\"49eb1b0eb868dd4e479323dfaacc72dc\", element=\"9af5c3c4-e253-4dd3-8d3d-157b1f6d391b\")>,\n",
       " <selenium.webdriver.remote.webelement.WebElement (session=\"49eb1b0eb868dd4e479323dfaacc72dc\", element=\"8d8a4300-9126-4079-a044-09c18ba95937\")>,\n",
       " <selenium.webdriver.remote.webelement.WebElement (session=\"49eb1b0eb868dd4e479323dfaacc72dc\", element=\"68371bbb-d2df-4357-a0ac-2527c14220ff\")>,\n",
       " <selenium.webdriver.remote.webelement.WebElement (session=\"49eb1b0eb868dd4e479323dfaacc72dc\", element=\"ce7e7b54-76b4-44a9-a989-790e66e1d329\")>,\n",
       " <selenium.webdriver.remote.webelement.WebElement (session=\"49eb1b0eb868dd4e479323dfaacc72dc\", element=\"c635ba95-96a9-49e8-be1d-58d720783cd2\")>,\n",
       " <selenium.webdriver.remote.webelement.WebElement (session=\"49eb1b0eb868dd4e479323dfaacc72dc\", element=\"8af17516-d6c7-46c4-a16f-3a5d9b975e9f\")>,\n",
       " <selenium.webdriver.remote.webelement.WebElement (session=\"49eb1b0eb868dd4e479323dfaacc72dc\", element=\"a1cbb777-4379-43c4-90f2-a7b16e9cfeb1\")>,\n",
       " <selenium.webdriver.remote.webelement.WebElement (session=\"49eb1b0eb868dd4e479323dfaacc72dc\", element=\"790a5206-3064-4a2a-b498-069d728b52b7\")>,\n",
       " <selenium.webdriver.remote.webelement.WebElement (session=\"49eb1b0eb868dd4e479323dfaacc72dc\", element=\"212b08c8-9a2d-44a4-992a-2959420dd394\")>,\n",
       " <selenium.webdriver.remote.webelement.WebElement (session=\"49eb1b0eb868dd4e479323dfaacc72dc\", element=\"ff36d89c-41c6-4661-a895-3fe23e424e02\")>,\n",
       " <selenium.webdriver.remote.webelement.WebElement (session=\"49eb1b0eb868dd4e479323dfaacc72dc\", element=\"dcb75b26-3b9b-4381-8ca8-1e2497c456a7\")>,\n",
       " <selenium.webdriver.remote.webelement.WebElement (session=\"49eb1b0eb868dd4e479323dfaacc72dc\", element=\"edc07451-fd25-4a57-bb7f-a1865b5725a7\")>,\n",
       " <selenium.webdriver.remote.webelement.WebElement (session=\"49eb1b0eb868dd4e479323dfaacc72dc\", element=\"5485f8a7-6ae1-4006-a5cd-3c604bd058ed\")>,\n",
       " <selenium.webdriver.remote.webelement.WebElement (session=\"49eb1b0eb868dd4e479323dfaacc72dc\", element=\"02d237a8-cf69-4636-a00b-e53cd9e14874\")>,\n",
       " <selenium.webdriver.remote.webelement.WebElement (session=\"49eb1b0eb868dd4e479323dfaacc72dc\", element=\"bcc7eb80-a96a-49ad-b0b6-05798c299eae\")>,\n",
       " <selenium.webdriver.remote.webelement.WebElement (session=\"49eb1b0eb868dd4e479323dfaacc72dc\", element=\"5db58229-5273-4984-b702-1ab0ac4064e2\")>]"
      ]
     },
     "execution_count": 26,
     "metadata": {},
     "output_type": "execute_result"
    }
   ],
   "source": [
    "prices_tags=driver.find_elements_by_xpath(\"//div[@class='_30jeq3']\")\n",
    "prices_tags[0:100]"
   ]
  },
  {
   "cell_type": "code",
   "execution_count": 27,
   "id": "2dcc6b99",
   "metadata": {},
   "outputs": [
    {
     "data": {
      "text/plain": [
       "['₹488',\n",
       " '₹796',\n",
       " '₹198',\n",
       " '₹295',\n",
       " '₹499',\n",
       " '₹351',\n",
       " '₹469',\n",
       " '₹539',\n",
       " '₹397',\n",
       " '₹424',\n",
       " '₹249',\n",
       " '₹397',\n",
       " '₹249',\n",
       " '₹299',\n",
       " '₹490',\n",
       " '₹539',\n",
       " '₹347',\n",
       " '₹449',\n",
       " '₹499',\n",
       " '₹720',\n",
       " '₹300',\n",
       " '₹483',\n",
       " '₹299',\n",
       " '₹660',\n",
       " '₹499',\n",
       " '₹649',\n",
       " '₹249',\n",
       " '₹660',\n",
       " '₹249',\n",
       " '₹529',\n",
       " '₹449',\n",
       " '₹1,799',\n",
       " '₹269',\n",
       " '₹499',\n",
       " '₹649',\n",
       " '₹499',\n",
       " '₹198',\n",
       " '₹539',\n",
       " '₹649',\n",
       " '₹2,599']"
      ]
     },
     "execution_count": 27,
     "metadata": {},
     "output_type": "execute_result"
    }
   ],
   "source": [
    "for i in prices_tags:\n",
    "    price=i.text\n",
    "    prices.append(price)\n",
    "prices[0:100]"
   ]
  },
  {
   "cell_type": "code",
   "execution_count": 30,
   "id": "4c84d453",
   "metadata": {},
   "outputs": [],
   "source": [
    "next_button=driver.find_element_by_xpath(\"/html/body/div[1]/div/div[3]/div[1]/div[2]/div[12]/div/div/nav/a[11]\")\n",
    "next_button.click()"
   ]
  },
  {
   "cell_type": "code",
   "execution_count": 31,
   "id": "595b6ac5",
   "metadata": {},
   "outputs": [],
   "source": [
    "B_list=[]\n",
    "for i in range(0,3):\n",
    "    Brands_tags=driver.find_elements_by_xpath(\"//div[@class='_2WkVRV']\")\n",
    "    for i in Brands_tags:\n",
    "        Brand=i.text\n",
    "        B_list.append(Brand)\n",
    "\n",
    "\n",
    "        \n",
    "next_button=driver.find_element_by_xpath(\"/html/body/div[1]/div/div[3]/div[1]/div[2]/div[12]/div/div/nav/a[11]\")\n",
    "next_button.click()\n",
    "time.sleep(5)"
   ]
  },
  {
   "cell_type": "code",
   "execution_count": 32,
   "id": "aa1175b2",
   "metadata": {},
   "outputs": [
    {
     "data": {
      "text/plain": [
       "120"
      ]
     },
     "execution_count": 32,
     "metadata": {},
     "output_type": "execute_result"
    }
   ],
   "source": [
    "len(B_list)"
   ]
  },
  {
   "cell_type": "code",
   "execution_count": 33,
   "id": "b4d7acb3",
   "metadata": {},
   "outputs": [],
   "source": [
    "P_list=[]\n",
    "for i in range(0,3):\n",
    "    prices_tags=driver.find_elements_by_xpath(\"//div[@class='_30jeq3']\")         \n",
    "    for i in prices_tags:\n",
    "        price=i.text\n",
    "        P_list.append(price)\n",
    "        \n",
    "next_button=driver.find_element_by_xpath(\"/html/body/div[1]/div/div[3]/div[1]/div[2]/div[12]/div/div/nav/a[11]\")\n",
    "next_button.click()\n",
    "time.sleep(5)"
   ]
  },
  {
   "cell_type": "code",
   "execution_count": 34,
   "id": "0c942930",
   "metadata": {},
   "outputs": [
    {
     "data": {
      "text/plain": [
       "120"
      ]
     },
     "execution_count": 34,
     "metadata": {},
     "output_type": "execute_result"
    }
   ],
   "source": [
    "len(P_list)"
   ]
  },
  {
   "cell_type": "code",
   "execution_count": 35,
   "id": "d411655b",
   "metadata": {},
   "outputs": [],
   "source": [
    "D_list=[]\n",
    "for i in range(0,3):\n",
    "    Descriptions_tags=driver.find_elements_by_xpath(\"//a[@class='IRpwTa']\")\n",
    "    for i in Descriptions_tags:\n",
    "        Description=i.text\n",
    "        D_list.append(Description)\n",
    "\n",
    "        \n",
    "next_button=driver.find_element_by_xpath(\"/html/body/div[1]/div/div[3]/div[1]/div[2]/div[12]/div/div/nav/a[11]\")\n",
    "next_button.click()\n",
    "time.sleep(5)"
   ]
  },
  {
   "cell_type": "code",
   "execution_count": 36,
   "id": "e633c3c4",
   "metadata": {},
   "outputs": [
    {
     "data": {
      "text/plain": [
       "105"
      ]
     },
     "execution_count": 36,
     "metadata": {},
     "output_type": "execute_result"
    }
   ],
   "source": [
    "len(D_list)"
   ]
  },
  {
   "cell_type": "code",
   "execution_count": 37,
   "id": "31936adc",
   "metadata": {},
   "outputs": [],
   "source": [
    "snk=pd.DataFrame({})\n",
    "snk['BRAND']=B_list[0:100]\n",
    "snk['DESCRIPTION']=D_list[0:100]\n",
    "snk['PRICE']=P_list[0:100]"
   ]
  },
  {
   "cell_type": "code",
   "execution_count": 38,
   "id": "6f33b70b",
   "metadata": {},
   "outputs": [
    {
     "data": {
      "text/html": [
       "<div>\n",
       "<style scoped>\n",
       "    .dataframe tbody tr th:only-of-type {\n",
       "        vertical-align: middle;\n",
       "    }\n",
       "\n",
       "    .dataframe tbody tr th {\n",
       "        vertical-align: top;\n",
       "    }\n",
       "\n",
       "    .dataframe thead th {\n",
       "        text-align: right;\n",
       "    }\n",
       "</style>\n",
       "<table border=\"1\" class=\"dataframe\">\n",
       "  <thead>\n",
       "    <tr style=\"text-align: right;\">\n",
       "      <th></th>\n",
       "      <th>BRAND</th>\n",
       "      <th>DESCRIPTION</th>\n",
       "      <th>PRICE</th>\n",
       "    </tr>\n",
       "  </thead>\n",
       "  <tbody>\n",
       "    <tr>\n",
       "      <th>0</th>\n",
       "      <td>BIRDE</td>\n",
       "      <td>RS-X Pop Sneakers For Men</td>\n",
       "      <td>₹399</td>\n",
       "    </tr>\n",
       "    <tr>\n",
       "      <th>1</th>\n",
       "      <td>Numenzo</td>\n",
       "      <td>Athleisure Sneakers For Men</td>\n",
       "      <td>₹1,099</td>\n",
       "    </tr>\n",
       "    <tr>\n",
       "      <th>2</th>\n",
       "      <td>WHITE WALKERS</td>\n",
       "      <td>Sneakers For Men</td>\n",
       "      <td>₹198</td>\n",
       "    </tr>\n",
       "    <tr>\n",
       "      <th>3</th>\n",
       "      <td>RapidBox</td>\n",
       "      <td>Sneakers For Men</td>\n",
       "      <td>₹527</td>\n",
       "    </tr>\n",
       "    <tr>\n",
       "      <th>4</th>\n",
       "      <td>Bacan</td>\n",
       "      <td>CL LTHR Sneakers For Men</td>\n",
       "      <td>₹3,893</td>\n",
       "    </tr>\n",
       "    <tr>\n",
       "      <th>...</th>\n",
       "      <td>...</td>\n",
       "      <td>...</td>\n",
       "      <td>...</td>\n",
       "    </tr>\n",
       "    <tr>\n",
       "      <th>95</th>\n",
       "      <td>HIGHLANDER</td>\n",
       "      <td>sm323 Sneakers For Men</td>\n",
       "      <td>₹512</td>\n",
       "    </tr>\n",
       "    <tr>\n",
       "      <th>96</th>\n",
       "      <td>Robbie jones</td>\n",
       "      <td>Comfortable &amp; Ultra Light Weight Sneaker Sneak...</td>\n",
       "      <td>₹499</td>\n",
       "    </tr>\n",
       "    <tr>\n",
       "      <th>97</th>\n",
       "      <td>SPARX</td>\n",
       "      <td>Men's Casual Comfortable Soft Walking Shoes Kn...</td>\n",
       "      <td>₹2,996</td>\n",
       "    </tr>\n",
       "    <tr>\n",
       "      <th>98</th>\n",
       "      <td>D-SNEAKERZ</td>\n",
       "      <td>ColorBlock Stylish Fashion Sneakers Classic Fl...</td>\n",
       "      <td>₹764</td>\n",
       "    </tr>\n",
       "    <tr>\n",
       "      <th>99</th>\n",
       "      <td>Layasa</td>\n",
       "      <td>. Men Black Sneakers Sneakers For Men</td>\n",
       "      <td>₹2,299</td>\n",
       "    </tr>\n",
       "  </tbody>\n",
       "</table>\n",
       "<p>100 rows × 3 columns</p>\n",
       "</div>"
      ],
      "text/plain": [
       "            BRAND                                        DESCRIPTION   PRICE\n",
       "0           BIRDE                          RS-X Pop Sneakers For Men    ₹399\n",
       "1         Numenzo                        Athleisure Sneakers For Men  ₹1,099\n",
       "2   WHITE WALKERS                                   Sneakers For Men    ₹198\n",
       "3        RapidBox                                   Sneakers For Men    ₹527\n",
       "4           Bacan                           CL LTHR Sneakers For Men  ₹3,893\n",
       "..            ...                                                ...     ...\n",
       "95     HIGHLANDER                             sm323 Sneakers For Men    ₹512\n",
       "96   Robbie jones  Comfortable & Ultra Light Weight Sneaker Sneak...    ₹499\n",
       "97          SPARX  Men's Casual Comfortable Soft Walking Shoes Kn...  ₹2,996\n",
       "98     D-SNEAKERZ  ColorBlock Stylish Fashion Sneakers Classic Fl...    ₹764\n",
       "99         Layasa              . Men Black Sneakers Sneakers For Men  ₹2,299\n",
       "\n",
       "[100 rows x 3 columns]"
      ]
     },
     "execution_count": 38,
     "metadata": {},
     "output_type": "execute_result"
    }
   ],
   "source": [
    "snk"
   ]
  },
  {
   "cell_type": "code",
   "execution_count": null,
   "id": "586e19f7",
   "metadata": {},
   "outputs": [],
   "source": []
  }
 ],
 "metadata": {
  "kernelspec": {
   "display_name": "Python 3 (ipykernel)",
   "language": "python",
   "name": "python3"
  },
  "language_info": {
   "codemirror_mode": {
    "name": "ipython",
    "version": 3
   },
   "file_extension": ".py",
   "mimetype": "text/x-python",
   "name": "python",
   "nbconvert_exporter": "python",
   "pygments_lexer": "ipython3",
   "version": "3.9.7"
  }
 },
 "nbformat": 4,
 "nbformat_minor": 5
}
